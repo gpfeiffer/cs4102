{
 "cells": [
  {
   "cell_type": "markdown",
   "metadata": {},
   "source": [
    "### CS4102 - Geometric Foundations of Data Analysis I\n",
    "Prof. Götz Pfeiffer<br />\n",
    "School of Mathematics, Statistics and Applied Mathematics<br />\n",
    "NUI Galway"
   ]
  },
  {
   "cell_type": "markdown",
   "metadata": {},
   "source": [
    "#### 1. Least Squares Fitting\n",
    "\n",
    "# Week 2: More Least Squares Fitting"
   ]
  },
  {
   "cell_type": "markdown",
   "metadata": {},
   "source": [
    "## Questions"
   ]
  },
  {
   "cell_type": "markdown",
   "metadata": {},
   "source": [
    "1. Python - how?\n",
    "2. Data - how does it get into a python session\n",
    "3. Visualization - packages?\n",
    "4. How to multiply (transpose, invert) matrices in python?"
   ]
  },
  {
   "cell_type": "markdown",
   "metadata": {},
   "source": [
    "* ipython\n",
    "\n",
    "* http://www.python.org\n",
    "\n",
    "* jupyter notebook\n",
    "\n",
    "* https://www.anaconda.com/products/individual-d\n"
   ]
  },
  {
   "cell_type": "markdown",
   "metadata": {},
   "source": [
    "## 2. Data"
   ]
  },
  {
   "cell_type": "markdown",
   "metadata": {},
   "source": [
    "* csv\n",
    "\n",
    "* https://docs.python.org/3/library/csv.html"
   ]
  },
  {
   "cell_type": "code",
   "execution_count": 4,
   "metadata": {},
   "outputs": [],
   "source": [
    "import csv"
   ]
  },
  {
   "cell_type": "markdown",
   "metadata": {},
   "source": [
    "The **magic** command `%cat` allows us to list the contents of a (text) file."
   ]
  },
  {
   "cell_type": "code",
   "execution_count": 5,
   "metadata": {},
   "outputs": [
    {
     "name": "stdout",
     "output_type": "stream",
     "text": [
      "i,x,y\r\n",
      "1,30,73\r\n",
      "2,20,50\r\n",
      "3,60,128\r\n",
      "4,80,170\r\n",
      "5,40,87\r\n",
      "6,50,108\r\n",
      "7,60,135\r\n",
      "8,30,69\r\n",
      "9,70,148\r\n",
      "10,60,132\r\n"
     ]
    }
   ],
   "source": [
    "%cat production.csv"
   ]
  },
  {
   "cell_type": "markdown",
   "metadata": {},
   "source": [
    "We use a `DictReader` from the `csv` library to read the data into a list of Python dictionaries."
   ]
  },
  {
   "cell_type": "code",
   "execution_count": 6,
   "metadata": {},
   "outputs": [
    {
     "data": {
      "text/plain": [
       "[{'i': '1', 'x': '30', 'y': '73'},\n",
       " {'i': '2', 'x': '20', 'y': '50'},\n",
       " {'i': '3', 'x': '60', 'y': '128'},\n",
       " {'i': '4', 'x': '80', 'y': '170'},\n",
       " {'i': '5', 'x': '40', 'y': '87'},\n",
       " {'i': '6', 'x': '50', 'y': '108'},\n",
       " {'i': '7', 'x': '60', 'y': '135'},\n",
       " {'i': '8', 'x': '30', 'y': '69'},\n",
       " {'i': '9', 'x': '70', 'y': '148'},\n",
       " {'i': '10', 'x': '60', 'y': '132'}]"
      ]
     },
     "execution_count": 6,
     "metadata": {},
     "output_type": "execute_result"
    }
   ],
   "source": [
    "with open('production.csv') as csvfile:\n",
    "    reader = csv.DictReader(csvfile)\n",
    "    rows = [row for row in reader]\n",
    "    \n",
    "rows"
   ]
  },
  {
   "cell_type": "code",
   "execution_count": 7,
   "metadata": {},
   "outputs": [
    {
     "data": {
      "text/plain": [
       "[30, 20, 60, 80, 40, 50, 60, 30, 70, 60]"
      ]
     },
     "execution_count": 7,
     "metadata": {},
     "output_type": "execute_result"
    }
   ],
   "source": [
    "xxx = [int(row['x']) for row in rows]\n",
    "xxx"
   ]
  },
  {
   "cell_type": "code",
   "execution_count": 8,
   "metadata": {},
   "outputs": [
    {
     "data": {
      "text/plain": [
       "[73, 50, 128, 170, 87, 108, 135, 69, 148, 132]"
      ]
     },
     "execution_count": 8,
     "metadata": {},
     "output_type": "execute_result"
    }
   ],
   "source": [
    "yyy = [int(row['y']) for row in rows]\n",
    "yyy"
   ]
  },
  {
   "cell_type": "markdown",
   "metadata": {},
   "source": [
    "## 3. Plotting\n",
    "\n",
    "* matplotlib"
   ]
  },
  {
   "cell_type": "code",
   "execution_count": 9,
   "metadata": {},
   "outputs": [],
   "source": [
    "import matplotlib.pyplot as plt"
   ]
  },
  {
   "cell_type": "code",
   "execution_count": 10,
   "metadata": {},
   "outputs": [
    {
     "data": {
      "text/plain": [
       "[<matplotlib.lines.Line2D at 0x7fab5809c190>]"
      ]
     },
     "execution_count": 10,
     "metadata": {},
     "output_type": "execute_result"
    },
    {
     "data": {
      "image/png": "[encoded data removed]",
      "text/plain": [
       "<Figure size 432x288 with 1 Axes>"
      ]
     },
     "metadata": {
      "needs_background": "light"
     },
     "output_type": "display_data"
    }
   ],
   "source": [
    "plt.plot(xxx, yyy, 'o')"
   ]
  },
  {
   "cell_type": "markdown",
   "metadata": {},
   "source": [
    "* How to add the straight line?"
   ]
  },
  {
   "cell_type": "markdown",
   "metadata": {},
   "source": [
    "### 3DPlotting"
   ]
  },
  {
   "cell_type": "code",
   "execution_count": 12,
   "metadata": {},
   "outputs": [],
   "source": [
    "from mpl_toolkits import mplot3d"
   ]
  },
  {
   "cell_type": "code",
   "execution_count": 13,
   "metadata": {},
   "outputs": [
    {
     "data": {
      "application/javascript": [
       "/* Put everything inside the global mpl namespace */\n",
       "/* global mpl */\n",
       "window.mpl = {};\n",
       "\n",
       "mpl.get_websocket_type = function () {\n",
       "    if (typeof WebSocket !== 'undefined') {\n",
       "        return WebSocket;\n",
       "    } else if (typeof MozWebSocket !== 'undefined') {\n",
       "        return MozWebSocket;\n",
       "    } else {\n",
       "        alert(\n",
       "            'Your browser does not have WebSocket support. ' +\n",
       "                'Please try Chrome, Safari or Firefox ≥ 6. ' +\n",
       "                'Firefox 4 and 5 are also supported but you ' +\n",
       "                'have to enable WebSockets in about:config.'\n",
       "        );\n",
       "    }\n",
       "};\n",
       "\n",
       "mpl.figure = function (figure_id, websocket, ondownload, parent_element) {\n",
       "    this.id = figure_id;\n",
       "\n",
       "    this.ws = websocket;\n",
       "\n",
       "    this.supports_binary = this.ws.binaryType !== undefined;\n",
       "\n",
       "    if (!this.supports_binary) {\n",
       "        var warnings = document.getElementById('mpl-warnings');\n",
       "        if (warnings) {\n",
       "            warnings.style.display = 'block';\n",
       "            warnings.textContent =\n",
       "                'This browser does not support binary websocket messages. ' +\n",
       "                'Performance may be slow.';\n",
       "        }\n",
       "    }\n",
       "\n",
       "    this.imageObj = new Image();\n",
       "\n",
       "    this.context = undefined;\n",
       "    this.message = undefined;\n",
       "    this.canvas = undefined;\n",
       "    this.rubberband_canvas = undefined;\n",
       "    this.rubberband_context = undefined;\n",
       "    this.format_dropdown = undefined;\n",
       "\n",
       "    this.image_mode = 'full';\n",
       "\n",
       "    this.root = document.createElement('div');\n",
       "    this.root.setAttribute('style', 'display: inline-block');\n",
       "    this._root_extra_style(this.root);\n",
       "\n",
       "    parent_element.appendChild(this.root);\n",
       "\n",
       "    this._init_header(this);\n",
       "    this._init_canvas(this);\n",
       "    this._init_toolbar(this);\n",
       "\n",
       "    var fig = this;\n",
       "\n",
       "    this.waiting = false;\n",
       "\n",
       "    this.ws.onopen = function () {\n",
       "        fig.send_message('supports_binary', { value: fig.supports_binary });\n",
       "        fig.send_message('send_image_mode', {});\n",
       "        if (fig.ratio !== 1) {\n",
       "            fig.send_message('set_dpi_ratio', { dpi_ratio: fig.ratio });\n",
       "        }\n",
       "        fig.send_message('refresh', {});\n",
       "    };\n",
       "\n",
       "    this.imageObj.onload = function () {\n",
       "        if (fig.image_mode === 'full') {\n",
       "            // Full images could contain transparency (where diff images\n",
       "            // almost always do), so we need to clear the canvas so that\n",
       "            // there is no ghosting.\n",
       "            fig.context.clearRect(0, 0, fig.canvas.width, fig.canvas.height);\n",
       "        }\n",
       "        fig.context.drawImage(fig.imageObj, 0, 0);\n",
       "    };\n",
       "\n",
       "    this.imageObj.onunload = function () {\n",
       "        fig.ws.close();\n",
       "    };\n",
       "\n",
       "    this.ws.onmessage = this._make_on_message_function(this);\n",
       "\n",
       "    this.ondownload = ondownload;\n",
       "};\n",
       "\n",
       "mpl.figure.prototype._init_header = function () {\n",
       "    var titlebar = document.createElement('div');\n",
       "    titlebar.classList =\n",
       "        'ui-dialog-titlebar ui-widget-header ui-corner-all ui-helper-clearfix';\n",
       "    var titletext = document.createElement('div');\n",
       "    titletext.classList = 'ui-dialog-title';\n",
       "    titletext.setAttribute(\n",
       "        'style',\n",
       "        'width: 100%; text-align: center; padding: 3px;'\n",
       "    );\n",
       "    titlebar.appendChild(titletext);\n",
       "    this.root.appendChild(titlebar);\n",
       "    this.header = titletext;\n",
       "};\n",
       "\n",
       "mpl.figure.prototype._canvas_extra_style = function (_canvas_div) {};\n",
       "\n",
       "mpl.figure.prototype._root_extra_style = function (_canvas_div) {};\n",
       "\n",
       "mpl.figure.prototype._init_canvas = function () {\n",
       "    var fig = this;\n",
       "\n",
       "    var canvas_div = (this.canvas_div = document.createElement('div'));\n",
       "    canvas_div.setAttribute(\n",
       "        'style',\n",
       "        'border: 1px solid #ddd;' +\n",
       "            'box-sizing: content-box;' +\n",
       "            'clear: both;' +\n",
       "            'min-height: 1px;' +\n",
       "            'min-width: 1px;' +\n",
       "            'outline: 0;' +\n",
       "            'overflow: hidden;' +\n",
       "            'position: relative;' +\n",
       "            'resize: both;'\n",
       "    );\n",
       "\n",
       "    function on_keyboard_event_closure(name) {\n",
       "        return function (event) {\n",
       "            return fig.key_event(event, name);\n",
       "        };\n",
       "    }\n",
       "\n",
       "    canvas_div.addEventListener(\n",
       "        'keydown',\n",
       "        on_keyboard_event_closure('key_press')\n",
       "    );\n",
       "    canvas_div.addEventListener(\n",
       "        'keyup',\n",
       "        on_keyboard_event_closure('key_release')\n",
       "    );\n",
       "\n",
       "    this._canvas_extra_style(canvas_div);\n",
       "    this.root.appendChild(canvas_div);\n",
       "\n",
       "    var canvas = (this.canvas = document.createElement('canvas'));\n",
       "    canvas.classList.add('mpl-canvas');\n",
       "    canvas.setAttribute('style', 'box-sizing: content-box;');\n",
       "\n",
       "    this.context = canvas.getContext('2d');\n",
       "\n",
       "    var backingStore =\n",
       "        this.context.backingStorePixelRatio ||\n",
       "        this.context.webkitBackingStorePixelRatio ||\n",
       "        this.context.mozBackingStorePixelRatio ||\n",
       "        this.context.msBackingStorePixelRatio ||\n",
       "        this.context.oBackingStorePixelRatio ||\n",
       "        this.context.backingStorePixelRatio ||\n",
       "        1;\n",
       "\n",
       "    this.ratio = (window.devicePixelRatio || 1) / backingStore;\n",
       "\n",
       "    var rubberband_canvas = (this.rubberband_canvas = document.createElement(\n",
       "        'canvas'\n",
       "    ));\n",
       "    rubberband_canvas.setAttribute(\n",
       "        'style',\n",
       "        'box-sizing: content-box; position: absolute; left: 0; top: 0; z-index: 1;'\n",
       "    );\n",
       "\n",
       "    // Apply a ponyfill if ResizeObserver is not implemented by browser.\n",
       "    if (this.ResizeObserver === undefined) {\n",
       "        if (window.ResizeObserver !== undefined) {\n",
       "            this.ResizeObserver = window.ResizeObserver;\n",
       "        } else {\n",
       "            var obs = _JSXTOOLS_RESIZE_OBSERVER({});\n",
       "            this.ResizeObserver = obs.ResizeObserver;\n",
       "        }\n",
       "    }\n",
       "\n",
       "    this.resizeObserverInstance = new this.ResizeObserver(function (entries) {\n",
       "        var nentries = entries.length;\n",
       "        for (var i = 0; i < nentries; i++) {\n",
       "            var entry = entries[i];\n",
       "            var width, height;\n",
       "            if (entry.contentBoxSize) {\n",
       "                if (entry.contentBoxSize instanceof Array) {\n",
       "                    // Chrome 84 implements new version of spec.\n",
       "                    width = entry.contentBoxSize[0].inlineSize;\n",
       "                    height = entry.contentBoxSize[0].blockSize;\n",
       "                } else {\n",
       "                    // Firefox implements old version of spec.\n",
       "                    width = entry.contentBoxSize.inlineSize;\n",
       "                    height = entry.contentBoxSize.blockSize;\n",
       "                }\n",
       "            } else {\n",
       "                // Chrome <84 implements even older version of spec.\n",
       "                width = entry.contentRect.width;\n",
       "                height = entry.contentRect.height;\n",
       "            }\n",
       "\n",
       "            // Keep the size of the canvas and rubber band canvas in sync with\n",
       "            // the canvas container.\n",
       "            if (entry.devicePixelContentBoxSize) {\n",
       "                // Chrome 84 implements new version of spec.\n",
       "                canvas.setAttribute(\n",
       "                    'width',\n",
       "                    entry.devicePixelContentBoxSize[0].inlineSize\n",
       "                );\n",
       "                canvas.setAttribute(\n",
       "                    'height',\n",
       "                    entry.devicePixelContentBoxSize[0].blockSize\n",
       "                );\n",
       "            } else {\n",
       "                canvas.setAttribute('width', width * fig.ratio);\n",
       "                canvas.setAttribute('height', height * fig.ratio);\n",
       "            }\n",
       "            canvas.setAttribute(\n",
       "                'style',\n",
       "                'width: ' + width + 'px; height: ' + height + 'px;'\n",
       "            );\n",
       "\n",
       "            rubberband_canvas.setAttribute('width', width);\n",
       "            rubberband_canvas.setAttribute('height', height);\n",
       "\n",
       "            // And update the size in Python. We ignore the initial 0/0 size\n",
       "            // that occurs as the element is placed into the DOM, which should\n",
       "            // otherwise not happen due to the minimum size styling.\n",
       "            if (fig.ws.readyState == 1 && width != 0 && height != 0) {\n",
       "                fig.request_resize(width, height);\n",
       "            }\n",
       "        }\n",
       "    });\n",
       "    this.resizeObserverInstance.observe(canvas_div);\n",
       "\n",
       "    function on_mouse_event_closure(name) {\n",
       "        return function (event) {\n",
       "            return fig.mouse_event(event, name);\n",
       "        };\n",
       "    }\n",
       "\n",
       "    rubberband_canvas.addEventListener(\n",
       "        'mousedown',\n",
       "        on_mouse_event_closure('button_press')\n",
       "    );\n",
       "    rubberband_canvas.addEventListener(\n",
       "        'mouseup',\n",
       "        on_mouse_event_closure('button_release')\n",
       "    );\n",
       "    // Throttle sequential mouse events to 1 every 20ms.\n",
       "    rubberband_canvas.addEventListener(\n",
       "        'mousemove',\n",
       "        on_mouse_event_closure('motion_notify')\n",
       "    );\n",
       "\n",
       "    rubberband_canvas.addEventListener(\n",
       "        'mouseenter',\n",
       "        on_mouse_event_closure('figure_enter')\n",
       "    );\n",
       "    rubberband_canvas.addEventListener(\n",
       "        'mouseleave',\n",
       "        on_mouse_event_closure('figure_leave')\n",
       "    );\n",
       "\n",
       "    canvas_div.addEventListener('wheel', function (event) {\n",
       "        if (event.deltaY < 0) {\n",
       "            event.step = 1;\n",
       "        } else {\n",
       "            event.step = -1;\n",
       "        }\n",
       "        on_mouse_event_closure('scroll')(event);\n",
       "    });\n",
       "\n",
       "    canvas_div.appendChild(canvas);\n",
       "    canvas_div.appendChild(rubberband_canvas);\n",
       "\n",
       "    this.rubberband_context = rubberband_canvas.getContext('2d');\n",
       "    this.rubberband_context.strokeStyle = '#000000';\n",
       "\n",
       "    this._resize_canvas = function (width, height, forward) {\n",
       "        if (forward) {\n",
       "            canvas_div.style.width = width + 'px';\n",
       "            canvas_div.style.height = height + 'px';\n",
       "        }\n",
       "    };\n",
       "\n",
       "    // Disable right mouse context menu.\n",
       "    this.rubberband_canvas.addEventListener('contextmenu', function (_e) {\n",
       "        event.preventDefault();\n",
       "        return false;\n",
       "    });\n",
       "\n",
       "    function set_focus() {\n",
       "        canvas.focus();\n",
       "        canvas_div.focus();\n",
       "    }\n",
       "\n",
       "    window.setTimeout(set_focus, 100);\n",
       "};\n",
       "\n",
       "mpl.figure.prototype._init_toolbar = function () {\n",
       "    var fig = this;\n",
       "\n",
       "    var toolbar = document.createElement('div');\n",
       "    toolbar.classList = 'mpl-toolbar';\n",
       "    this.root.appendChild(toolbar);\n",
       "\n",
       "    function on_click_closure(name) {\n",
       "        return function (_event) {\n",
       "            return fig.toolbar_button_onclick(name);\n",
       "        };\n",
       "    }\n",
       "\n",
       "    function on_mouseover_closure(tooltip) {\n",
       "        return function (event) {\n",
       "            if (!event.currentTarget.disabled) {\n",
       "                return fig.toolbar_button_onmouseover(tooltip);\n",
       "            }\n",
       "        };\n",
       "    }\n",
       "\n",
       "    fig.buttons = {};\n",
       "    var buttonGroup = document.createElement('div');\n",
       "    buttonGroup.classList = 'mpl-button-group';\n",
       "    for (var toolbar_ind in mpl.toolbar_items) {\n",
       "        var name = mpl.toolbar_items[toolbar_ind][0];\n",
       "        var tooltip = mpl.toolbar_items[toolbar_ind][1];\n",
       "        var image = mpl.toolbar_items[toolbar_ind][2];\n",
       "        var method_name = mpl.toolbar_items[toolbar_ind][3];\n",
       "\n",
       "        if (!name) {\n",
       "            /* Instead of a spacer, we start a new button group. */\n",
       "            if (buttonGroup.hasChildNodes()) {\n",
       "                toolbar.appendChild(buttonGroup);\n",
       "            }\n",
       "            buttonGroup = document.createElement('div');\n",
       "            buttonGroup.classList = 'mpl-button-group';\n",
       "            continue;\n",
       "        }\n",
       "\n",
       "        var button = (fig.buttons[name] = document.createElement('button'));\n",
       "        button.classList = 'mpl-widget';\n",
       "        button.setAttribute('role', 'button');\n",
       "        button.setAttribute('aria-disabled', 'false');\n",
       "        button.addEventListener('click', on_click_closure(method_name));\n",
       "        button.addEventListener('mouseover', on_mouseover_closure(tooltip));\n",
       "\n",
       "        var icon_img = document.createElement('img');\n",
       "        icon_img.src = '_images/' + image + '.png';\n",
       "        icon_img.srcset = '_images/' + image + '_large.png 2x';\n",
       "        icon_img.alt = tooltip;\n",
       "        button.appendChild(icon_img);\n",
       "\n",
       "        buttonGroup.appendChild(button);\n",
       "    }\n",
       "\n",
       "    if (buttonGroup.hasChildNodes()) {\n",
       "        toolbar.appendChild(buttonGroup);\n",
       "    }\n",
       "\n",
       "    var fmt_picker = document.createElement('select');\n",
       "    fmt_picker.classList = 'mpl-widget';\n",
       "    toolbar.appendChild(fmt_picker);\n",
       "    this.format_dropdown = fmt_picker;\n",
       "\n",
       "    for (var ind in mpl.extensions) {\n",
       "        var fmt = mpl.extensions[ind];\n",
       "        var option = document.createElement('option');\n",
       "        option.selected = fmt === mpl.default_extension;\n",
       "        option.innerHTML = fmt;\n",
       "        fmt_picker.appendChild(option);\n",
       "    }\n",
       "\n",
       "    var status_bar = document.createElement('span');\n",
       "    status_bar.classList = 'mpl-message';\n",
       "    toolbar.appendChild(status_bar);\n",
       "    this.message = status_bar;\n",
       "};\n",
       "\n",
       "mpl.figure.prototype.request_resize = function (x_pixels, y_pixels) {\n",
       "    // Request matplotlib to resize the figure. Matplotlib will then trigger a resize in the client,\n",
       "    // which will in turn request a refresh of the image.\n",
       "    this.send_message('resize', { width: x_pixels, height: y_pixels });\n",
       "};\n",
       "\n",
       "mpl.figure.prototype.send_message = function (type, properties) {\n",
       "    properties['type'] = type;\n",
       "    properties['figure_id'] = this.id;\n",
       "    this.ws.send(JSON.stringify(properties));\n",
       "};\n",
       "\n",
       "mpl.figure.prototype.send_draw_message = function () {\n",
       "    if (!this.waiting) {\n",
       "        this.waiting = true;\n",
       "        this.ws.send(JSON.stringify({ type: 'draw', figure_id: this.id }));\n",
       "    }\n",
       "};\n",
       "\n",
       "mpl.figure.prototype.handle_save = function (fig, _msg) {\n",
       "    var format_dropdown = fig.format_dropdown;\n",
       "    var format = format_dropdown.options[format_dropdown.selectedIndex].value;\n",
       "    fig.ondownload(fig, format);\n",
       "};\n",
       "\n",
       "mpl.figure.prototype.handle_resize = function (fig, msg) {\n",
       "    var size = msg['size'];\n",
       "    if (size[0] !== fig.canvas.width || size[1] !== fig.canvas.height) {\n",
       "        fig._resize_canvas(size[0], size[1], msg['forward']);\n",
       "        fig.send_message('refresh', {});\n",
       "    }\n",
       "};\n",
       "\n",
       "mpl.figure.prototype.handle_rubberband = function (fig, msg) {\n",
       "    var x0 = msg['x0'] / fig.ratio;\n",
       "    var y0 = (fig.canvas.height - msg['y0']) / fig.ratio;\n",
       "    var x1 = msg['x1'] / fig.ratio;\n",
       "    var y1 = (fig.canvas.height - msg['y1']) / fig.ratio;\n",
       "    x0 = Math.floor(x0) + 0.5;\n",
       "    y0 = Math.floor(y0) + 0.5;\n",
       "    x1 = Math.floor(x1) + 0.5;\n",
       "    y1 = Math.floor(y1) + 0.5;\n",
       "    var min_x = Math.min(x0, x1);\n",
       "    var min_y = Math.min(y0, y1);\n",
       "    var width = Math.abs(x1 - x0);\n",
       "    var height = Math.abs(y1 - y0);\n",
       "\n",
       "    fig.rubberband_context.clearRect(\n",
       "        0,\n",
       "        0,\n",
       "        fig.canvas.width / fig.ratio,\n",
       "        fig.canvas.height / fig.ratio\n",
       "    );\n",
       "\n",
       "    fig.rubberband_context.strokeRect(min_x, min_y, width, height);\n",
       "};\n",
       "\n",
       "mpl.figure.prototype.handle_figure_label = function (fig, msg) {\n",
       "    // Updates the figure title.\n",
       "    fig.header.textContent = msg['label'];\n",
       "};\n",
       "\n",
       "mpl.figure.prototype.handle_cursor = function (fig, msg) {\n",
       "    var cursor = msg['cursor'];\n",
       "    switch (cursor) {\n",
       "        case 0:\n",
       "            cursor = 'pointer';\n",
       "            break;\n",
       "        case 1:\n",
       "            cursor = 'default';\n",
       "            break;\n",
       "        case 2:\n",
       "            cursor = 'crosshair';\n",
       "            break;\n",
       "        case 3:\n",
       "            cursor = 'move';\n",
       "            break;\n",
       "    }\n",
       "    fig.rubberband_canvas.style.cursor = cursor;\n",
       "};\n",
       "\n",
       "mpl.figure.prototype.handle_message = function (fig, msg) {\n",
       "    fig.message.textContent = msg['message'];\n",
       "};\n",
       "\n",
       "mpl.figure.prototype.handle_draw = function (fig, _msg) {\n",
       "    // Request the server to send over a new figure.\n",
       "    fig.send_draw_message();\n",
       "};\n",
       "\n",
       "mpl.figure.prototype.handle_image_mode = function (fig, msg) {\n",
       "    fig.image_mode = msg['mode'];\n",
       "};\n",
       "\n",
       "mpl.figure.prototype.handle_history_buttons = function (fig, msg) {\n",
       "    for (var key in msg) {\n",
       "        if (!(key in fig.buttons)) {\n",
       "            continue;\n",
       "        }\n",
       "        fig.buttons[key].disabled = !msg[key];\n",
       "        fig.buttons[key].setAttribute('aria-disabled', !msg[key]);\n",
       "    }\n",
       "};\n",
       "\n",
       "mpl.figure.prototype.handle_navigate_mode = function (fig, msg) {\n",
       "    if (msg['mode'] === 'PAN') {\n",
       "        fig.buttons['Pan'].classList.add('active');\n",
       "        fig.buttons['Zoom'].classList.remove('active');\n",
       "    } else if (msg['mode'] === 'ZOOM') {\n",
       "        fig.buttons['Pan'].classList.remove('active');\n",
       "        fig.buttons['Zoom'].classList.add('active');\n",
       "    } else {\n",
       "        fig.buttons['Pan'].classList.remove('active');\n",
       "        fig.buttons['Zoom'].classList.remove('active');\n",
       "    }\n",
       "};\n",
       "\n",
       "mpl.figure.prototype.updated_canvas_event = function () {\n",
       "    // Called whenever the canvas gets updated.\n",
       "    this.send_message('ack', {});\n",
       "};\n",
       "\n",
       "// A function to construct a web socket function for onmessage handling.\n",
       "// Called in the figure constructor.\n",
       "mpl.figure.prototype._make_on_message_function = function (fig) {\n",
       "    return function socket_on_message(evt) {\n",
       "        if (evt.data instanceof Blob) {\n",
       "            /* FIXME: We get \"Resource interpreted as Image but\n",
       "             * transferred with MIME type text/plain:\" errors on\n",
       "             * Chrome.  But how to set the MIME type?  It doesn't seem\n",
       "             * to be part of the websocket stream */\n",
       "            evt.data.type = 'image/png';\n",
       "\n",
       "            /* Free the memory for the previous frames */\n",
       "            if (fig.imageObj.src) {\n",
       "                (window.URL || window.webkitURL).revokeObjectURL(\n",
       "                    fig.imageObj.src\n",
       "                );\n",
       "            }\n",
       "\n",
       "            fig.imageObj.src = (window.URL || window.webkitURL).createObjectURL(\n",
       "                evt.data\n",
       "            );\n",
       "            fig.updated_canvas_event();\n",
       "            fig.waiting = false;\n",
       "            return;\n",
       "        } else if (\n",
       "            typeof evt.data === 'string' &&\n",
       "            evt.data.slice(0, 21) === 'data:image/png;base64'\n",
       "        ) {\n",
       "            fig.imageObj.src = evt.data;\n",
       "            fig.updated_canvas_event();\n",
       "            fig.waiting = false;\n",
       "            return;\n",
       "        }\n",
       "\n",
       "        var msg = JSON.parse(evt.data);\n",
       "        var msg_type = msg['type'];\n",
       "\n",
       "        // Call the  \"handle_{type}\" callback, which takes\n",
       "        // the figure and JSON message as its only arguments.\n",
       "        try {\n",
       "            var callback = fig['handle_' + msg_type];\n",
       "        } catch (e) {\n",
       "            console.log(\n",
       "                \"No handler for the '\" + msg_type + \"' message type: \",\n",
       "                msg\n",
       "            );\n",
       "            return;\n",
       "        }\n",
       "\n",
       "        if (callback) {\n",
       "            try {\n",
       "                // console.log(\"Handling '\" + msg_type + \"' message: \", msg);\n",
       "                callback(fig, msg);\n",
       "            } catch (e) {\n",
       "                console.log(\n",
       "                    \"Exception inside the 'handler_\" + msg_type + \"' callback:\",\n",
       "                    e,\n",
       "                    e.stack,\n",
       "                    msg\n",
       "                );\n",
       "            }\n",
       "        }\n",
       "    };\n",
       "};\n",
       "\n",
       "// from http://stackoverflow.com/questions/1114465/getting-mouse-location-in-canvas\n",
       "mpl.findpos = function (e) {\n",
       "    //this section is from http://www.quirksmode.org/js/events_properties.html\n",
       "    var targ;\n",
       "    if (!e) {\n",
       "        e = window.event;\n",
       "    }\n",
       "    if (e.target) {\n",
       "        targ = e.target;\n",
       "    } else if (e.srcElement) {\n",
       "        targ = e.srcElement;\n",
       "    }\n",
       "    if (targ.nodeType === 3) {\n",
       "        // defeat Safari bug\n",
       "        targ = targ.parentNode;\n",
       "    }\n",
       "\n",
       "    // pageX,Y are the mouse positions relative to the document\n",
       "    var boundingRect = targ.getBoundingClientRect();\n",
       "    var x = e.pageX - (boundingRect.left + document.body.scrollLeft);\n",
       "    var y = e.pageY - (boundingRect.top + document.body.scrollTop);\n",
       "\n",
       "    return { x: x, y: y };\n",
       "};\n",
       "\n",
       "/*\n",
       " * return a copy of an object with only non-object keys\n",
       " * we need this to avoid circular references\n",
       " * http://stackoverflow.com/a/24161582/3208463\n",
       " */\n",
       "function simpleKeys(original) {\n",
       "    return Object.keys(original).reduce(function (obj, key) {\n",
       "        if (typeof original[key] !== 'object') {\n",
       "            obj[key] = original[key];\n",
       "        }\n",
       "        return obj;\n",
       "    }, {});\n",
       "}\n",
       "\n",
       "mpl.figure.prototype.mouse_event = function (event, name) {\n",
       "    var canvas_pos = mpl.findpos(event);\n",
       "\n",
       "    if (name === 'button_press') {\n",
       "        this.canvas.focus();\n",
       "        this.canvas_div.focus();\n",
       "    }\n",
       "\n",
       "    var x = canvas_pos.x * this.ratio;\n",
       "    var y = canvas_pos.y * this.ratio;\n",
       "\n",
       "    this.send_message(name, {\n",
       "        x: x,\n",
       "        y: y,\n",
       "        button: event.button,\n",
       "        step: event.step,\n",
       "        guiEvent: simpleKeys(event),\n",
       "    });\n",
       "\n",
       "    /* This prevents the web browser from automatically changing to\n",
       "     * the text insertion cursor when the button is pressed.  We want\n",
       "     * to control all of the cursor setting manually through the\n",
       "     * 'cursor' event from matplotlib */\n",
       "    event.preventDefault();\n",
       "    return false;\n",
       "};\n",
       "\n",
       "mpl.figure.prototype._key_event_extra = function (_event, _name) {\n",
       "    // Handle any extra behaviour associated with a key event\n",
       "};\n",
       "\n",
       "mpl.figure.prototype.key_event = function (event, name) {\n",
       "    // Prevent repeat events\n",
       "    if (name === 'key_press') {\n",
       "        if (event.which === this._key) {\n",
       "            return;\n",
       "        } else {\n",
       "            this._key = event.which;\n",
       "        }\n",
       "    }\n",
       "    if (name === 'key_release') {\n",
       "        this._key = null;\n",
       "    }\n",
       "\n",
       "    var value = '';\n",
       "    if (event.ctrlKey && event.which !== 17) {\n",
       "        value += 'ctrl+';\n",
       "    }\n",
       "    if (event.altKey && event.which !== 18) {\n",
       "        value += 'alt+';\n",
       "    }\n",
       "    if (event.shiftKey && event.which !== 16) {\n",
       "        value += 'shift+';\n",
       "    }\n",
       "\n",
       "    value += 'k';\n",
       "    value += event.which.toString();\n",
       "\n",
       "    this._key_event_extra(event, name);\n",
       "\n",
       "    this.send_message(name, { key: value, guiEvent: simpleKeys(event) });\n",
       "    return false;\n",
       "};\n",
       "\n",
       "mpl.figure.prototype.toolbar_button_onclick = function (name) {\n",
       "    if (name === 'download') {\n",
       "        this.handle_save(this, null);\n",
       "    } else {\n",
       "        this.send_message('toolbar_button', { name: name });\n",
       "    }\n",
       "};\n",
       "\n",
       "mpl.figure.prototype.toolbar_button_onmouseover = function (tooltip) {\n",
       "    this.message.textContent = tooltip;\n",
       "};\n",
       "\n",
       "///////////////// REMAINING CONTENT GENERATED BY embed_js.py /////////////////\n",
       "// prettier-ignore\n",
       "var _JSXTOOLS_RESIZE_OBSERVER=function(A){var t,i=new WeakMap,n=new WeakMap,a=new WeakMap,r=new WeakMap,o=new Set;function s(e){if(!(this instanceof s))throw new TypeError(\"Constructor requires 'new' operator\");i.set(this,e)}function h(){throw new TypeError(\"Function is not a constructor\")}function c(e,t,i,n){e=0 in arguments?Number(arguments[0]):0,t=1 in arguments?Number(arguments[1]):0,i=2 in arguments?Number(arguments[2]):0,n=3 in arguments?Number(arguments[3]):0,this.right=(this.x=this.left=e)+(this.width=i),this.bottom=(this.y=this.top=t)+(this.height=n),Object.freeze(this)}function d(){t=requestAnimationFrame(d);var s=new WeakMap,p=new Set;o.forEach((function(t){r.get(t).forEach((function(i){var r=t instanceof window.SVGElement,o=a.get(t),d=r?0:parseFloat(o.paddingTop),f=r?0:parseFloat(o.paddingRight),l=r?0:parseFloat(o.paddingBottom),u=r?0:parseFloat(o.paddingLeft),g=r?0:parseFloat(o.borderTopWidth),m=r?0:parseFloat(o.borderRightWidth),w=r?0:parseFloat(o.borderBottomWidth),b=u+f,F=d+l,v=(r?0:parseFloat(o.borderLeftWidth))+m,W=g+w,y=r?0:t.offsetHeight-W-t.clientHeight,E=r?0:t.offsetWidth-v-t.clientWidth,R=b+v,z=F+W,M=r?t.width:parseFloat(o.width)-R-E,O=r?t.height:parseFloat(o.height)-z-y;if(n.has(t)){var k=n.get(t);if(k[0]===M&&k[1]===O)return}n.set(t,[M,O]);var S=Object.create(h.prototype);S.target=t,S.contentRect=new c(u,d,M,O),s.has(i)||(s.set(i,[]),p.add(i)),s.get(i).push(S)}))})),p.forEach((function(e){i.get(e).call(e,s.get(e),e)}))}return s.prototype.observe=function(i){if(i instanceof window.Element){r.has(i)||(r.set(i,new Set),o.add(i),a.set(i,window.getComputedStyle(i)));var n=r.get(i);n.has(this)||n.add(this),cancelAnimationFrame(t),t=requestAnimationFrame(d)}},s.prototype.unobserve=function(i){if(i instanceof window.Element&&r.has(i)){var n=r.get(i);n.has(this)&&(n.delete(this),n.size||(r.delete(i),o.delete(i))),n.size||r.delete(i),o.size||cancelAnimationFrame(t)}},A.DOMRectReadOnly=c,A.ResizeObserver=s,A.ResizeObserverEntry=h,A}; // eslint-disable-line\n",
       "mpl.toolbar_items = [[\"Home\", \"Reset original view\", \"fa fa-home icon-home\", \"home\"], [\"Back\", \"Back to previous view\", \"fa fa-arrow-left icon-arrow-left\", \"back\"], [\"Forward\", \"Forward to next view\", \"fa fa-arrow-right icon-arrow-right\", \"forward\"], [\"\", \"\", \"\", \"\"], [\"Pan\", \"Left button pans, Right button zooms\\nx/y fixes axis, CTRL fixes aspect\", \"fa fa-arrows icon-move\", \"pan\"], [\"Zoom\", \"Zoom to rectangle\\nx/y fixes axis, CTRL fixes aspect\", \"fa fa-square-o icon-check-empty\", \"zoom\"], [\"\", \"\", \"\", \"\"], [\"Download\", \"Download plot\", \"fa fa-floppy-o icon-save\", \"download\"]];\n",
       "\n",
       "mpl.extensions = [\"eps\", \"jpeg\", \"pdf\", \"png\", \"ps\", \"raw\", \"svg\", \"tif\"];\n",
       "\n",
       "mpl.default_extension = \"png\";/* global mpl */\n",
       "\n",
       "var comm_websocket_adapter = function (comm) {\n",
       "    // Create a \"websocket\"-like object which calls the given IPython comm\n",
       "    // object with the appropriate methods. Currently this is a non binary\n",
       "    // socket, so there is still some room for performance tuning.\n",
       "    var ws = {};\n",
       "\n",
       "    ws.close = function () {\n",
       "        comm.close();\n",
       "    };\n",
       "    ws.send = function (m) {\n",
       "        //console.log('sending', m);\n",
       "        comm.send(m);\n",
       "    };\n",
       "    // Register the callback with on_msg.\n",
       "    comm.on_msg(function (msg) {\n",
       "        //console.log('receiving', msg['content']['data'], msg);\n",
       "        // Pass the mpl event to the overridden (by mpl) onmessage function.\n",
       "        ws.onmessage(msg['content']['data']);\n",
       "    });\n",
       "    return ws;\n",
       "};\n",
       "\n",
       "mpl.mpl_figure_comm = function (comm, msg) {\n",
       "    // This is the function which gets called when the mpl process\n",
       "    // starts-up an IPython Comm through the \"matplotlib\" channel.\n",
       "\n",
       "    var id = msg.content.data.id;\n",
       "    // Get hold of the div created by the display call when the Comm\n",
       "    // socket was opened in Python.\n",
       "    var element = document.getElementById(id);\n",
       "    var ws_proxy = comm_websocket_adapter(comm);\n",
       "\n",
       "    function ondownload(figure, _format) {\n",
       "        window.open(figure.canvas.toDataURL());\n",
       "    }\n",
       "\n",
       "    var fig = new mpl.figure(id, ws_proxy, ondownload, element);\n",
       "\n",
       "    // Call onopen now - mpl needs it, as it is assuming we've passed it a real\n",
       "    // web socket which is closed, not our websocket->open comm proxy.\n",
       "    ws_proxy.onopen();\n",
       "\n",
       "    fig.parent_element = element;\n",
       "    fig.cell_info = mpl.find_output_cell(\"<div id='\" + id + \"'></div>\");\n",
       "    if (!fig.cell_info) {\n",
       "        console.error('Failed to find cell for figure', id, fig);\n",
       "        return;\n",
       "    }\n",
       "    fig.cell_info[0].output_area.element.on(\n",
       "        'cleared',\n",
       "        { fig: fig },\n",
       "        fig._remove_fig_handler\n",
       "    );\n",
       "};\n",
       "\n",
       "mpl.figure.prototype.handle_close = function (fig, msg) {\n",
       "    var width = fig.canvas.width / fig.ratio;\n",
       "    fig.cell_info[0].output_area.element.off(\n",
       "        'cleared',\n",
       "        fig._remove_fig_handler\n",
       "    );\n",
       "    fig.resizeObserverInstance.unobserve(fig.canvas_div);\n",
       "\n",
       "    // Update the output cell to use the data from the current canvas.\n",
       "    fig.push_to_output();\n",
       "    var dataURL = fig.canvas.toDataURL();\n",
       "    // Re-enable the keyboard manager in IPython - without this line, in FF,\n",
       "    // the notebook keyboard shortcuts fail.\n",
       "    IPython.keyboard_manager.enable();\n",
       "    fig.parent_element.innerHTML =\n",
       "        '<img src=\"' + dataURL + '\" width=\"' + width + '\">';\n",
       "    fig.close_ws(fig, msg);\n",
       "};\n",
       "\n",
       "mpl.figure.prototype.close_ws = function (fig, msg) {\n",
       "    fig.send_message('closing', msg);\n",
       "    // fig.ws.close()\n",
       "};\n",
       "\n",
       "mpl.figure.prototype.push_to_output = function (_remove_interactive) {\n",
       "    // Turn the data on the canvas into data in the output cell.\n",
       "    var width = this.canvas.width / this.ratio;\n",
       "    var dataURL = this.canvas.toDataURL();\n",
       "    this.cell_info[1]['text/html'] =\n",
       "        '<img src=\"' + dataURL + '\" width=\"' + width + '\">';\n",
       "};\n",
       "\n",
       "mpl.figure.prototype.updated_canvas_event = function () {\n",
       "    // Tell IPython that the notebook contents must change.\n",
       "    IPython.notebook.set_dirty(true);\n",
       "    this.send_message('ack', {});\n",
       "    var fig = this;\n",
       "    // Wait a second, then push the new image to the DOM so\n",
       "    // that it is saved nicely (might be nice to debounce this).\n",
       "    setTimeout(function () {\n",
       "        fig.push_to_output();\n",
       "    }, 1000);\n",
       "};\n",
       "\n",
       "mpl.figure.prototype._init_toolbar = function () {\n",
       "    var fig = this;\n",
       "\n",
       "    var toolbar = document.createElement('div');\n",
       "    toolbar.classList = 'btn-toolbar';\n",
       "    this.root.appendChild(toolbar);\n",
       "\n",
       "    function on_click_closure(name) {\n",
       "        return function (_event) {\n",
       "            return fig.toolbar_button_onclick(name);\n",
       "        };\n",
       "    }\n",
       "\n",
       "    function on_mouseover_closure(tooltip) {\n",
       "        return function (event) {\n",
       "            if (!event.currentTarget.disabled) {\n",
       "                return fig.toolbar_button_onmouseover(tooltip);\n",
       "            }\n",
       "        };\n",
       "    }\n",
       "\n",
       "    fig.buttons = {};\n",
       "    var buttonGroup = document.createElement('div');\n",
       "    buttonGroup.classList = 'btn-group';\n",
       "    var button;\n",
       "    for (var toolbar_ind in mpl.toolbar_items) {\n",
       "        var name = mpl.toolbar_items[toolbar_ind][0];\n",
       "        var tooltip = mpl.toolbar_items[toolbar_ind][1];\n",
       "        var image = mpl.toolbar_items[toolbar_ind][2];\n",
       "        var method_name = mpl.toolbar_items[toolbar_ind][3];\n",
       "\n",
       "        if (!name) {\n",
       "            /* Instead of a spacer, we start a new button group. */\n",
       "            if (buttonGroup.hasChildNodes()) {\n",
       "                toolbar.appendChild(buttonGroup);\n",
       "            }\n",
       "            buttonGroup = document.createElement('div');\n",
       "            buttonGroup.classList = 'btn-group';\n",
       "            continue;\n",
       "        }\n",
       "\n",
       "        button = fig.buttons[name] = document.createElement('button');\n",
       "        button.classList = 'btn btn-default';\n",
       "        button.href = '#';\n",
       "        button.title = name;\n",
       "        button.innerHTML = '<i class=\"fa ' + image + ' fa-lg\"></i>';\n",
       "        button.addEventListener('click', on_click_closure(method_name));\n",
       "        button.addEventListener('mouseover', on_mouseover_closure(tooltip));\n",
       "        buttonGroup.appendChild(button);\n",
       "    }\n",
       "\n",
       "    if (buttonGroup.hasChildNodes()) {\n",
       "        toolbar.appendChild(buttonGroup);\n",
       "    }\n",
       "\n",
       "    // Add the status bar.\n",
       "    var status_bar = document.createElement('span');\n",
       "    status_bar.classList = 'mpl-message pull-right';\n",
       "    toolbar.appendChild(status_bar);\n",
       "    this.message = status_bar;\n",
       "\n",
       "    // Add the close button to the window.\n",
       "    var buttongrp = document.createElement('div');\n",
       "    buttongrp.classList = 'btn-group inline pull-right';\n",
       "    button = document.createElement('button');\n",
       "    button.classList = 'btn btn-mini btn-primary';\n",
       "    button.href = '#';\n",
       "    button.title = 'Stop Interaction';\n",
       "    button.innerHTML = '<i class=\"fa fa-power-off icon-remove icon-large\"></i>';\n",
       "    button.addEventListener('click', function (_evt) {\n",
       "        fig.handle_close(fig, {});\n",
       "    });\n",
       "    button.addEventListener(\n",
       "        'mouseover',\n",
       "        on_mouseover_closure('Stop Interaction')\n",
       "    );\n",
       "    buttongrp.appendChild(button);\n",
       "    var titlebar = this.root.querySelector('.ui-dialog-titlebar');\n",
       "    titlebar.insertBefore(buttongrp, titlebar.firstChild);\n",
       "};\n",
       "\n",
       "mpl.figure.prototype._remove_fig_handler = function (event) {\n",
       "    var fig = event.data.fig;\n",
       "    if (event.target !== this) {\n",
       "        // Ignore bubbled events from children.\n",
       "        return;\n",
       "    }\n",
       "    fig.close_ws(fig, {});\n",
       "};\n",
       "\n",
       "mpl.figure.prototype._root_extra_style = function (el) {\n",
       "    el.style.boxSizing = 'content-box'; // override notebook setting of border-box.\n",
       "};\n",
       "\n",
       "mpl.figure.prototype._canvas_extra_style = function (el) {\n",
       "    // this is important to make the div 'focusable\n",
       "    el.setAttribute('tabindex', 0);\n",
       "    // reach out to IPython and tell the keyboard manager to turn it's self\n",
       "    // off when our div gets focus\n",
       "\n",
       "    // location in version 3\n",
       "    if (IPython.notebook.keyboard_manager) {\n",
       "        IPython.notebook.keyboard_manager.register_events(el);\n",
       "    } else {\n",
       "        // location in version 2\n",
       "        IPython.keyboard_manager.register_events(el);\n",
       "    }\n",
       "};\n",
       "\n",
       "mpl.figure.prototype._key_event_extra = function (event, _name) {\n",
       "    var manager = IPython.notebook.keyboard_manager;\n",
       "    if (!manager) {\n",
       "        manager = IPython.keyboard_manager;\n",
       "    }\n",
       "\n",
       "    // Check for shift+enter\n",
       "    if (event.shiftKey && event.which === 13) {\n",
       "        this.canvas_div.blur();\n",
       "        // select the cell after this one\n",
       "        var index = IPython.notebook.find_cell_index(this.cell_info[0]);\n",
       "        IPython.notebook.select(index + 1);\n",
       "    }\n",
       "};\n",
       "\n",
       "mpl.figure.prototype.handle_save = function (fig, _msg) {\n",
       "    fig.ondownload(fig, null);\n",
       "};\n",
       "\n",
       "mpl.find_output_cell = function (html_output) {\n",
       "    // Return the cell and output element which can be found *uniquely* in the notebook.\n",
       "    // Note - this is a bit hacky, but it is done because the \"notebook_saving.Notebook\"\n",
       "    // IPython event is triggered only after the cells have been serialised, which for\n",
       "    // our purposes (turning an active figure into a static one), is too late.\n",
       "    var cells = IPython.notebook.get_cells();\n",
       "    var ncells = cells.length;\n",
       "    for (var i = 0; i < ncells; i++) {\n",
       "        var cell = cells[i];\n",
       "        if (cell.cell_type === 'code') {\n",
       "            for (var j = 0; j < cell.output_area.outputs.length; j++) {\n",
       "                var data = cell.output_area.outputs[j];\n",
       "                if (data.data) {\n",
       "                    // IPython >= 3 moved mimebundle to data attribute of output\n",
       "                    data = data.data;\n",
       "                }\n",
       "                if (data['text/html'] === html_output) {\n",
       "                    return [cell, data, j];\n",
       "                }\n",
       "            }\n",
       "        }\n",
       "    }\n",
       "};\n",
       "\n",
       "// Register the function which deals with the matplotlib target/channel.\n",
       "// The kernel may be null if the page has been refreshed.\n",
       "if (IPython.notebook.kernel !== null) {\n",
       "    IPython.notebook.kernel.comm_manager.register_target(\n",
       "        'matplotlib',\n",
       "        mpl.mpl_figure_comm\n",
       "    );\n",
       "}\n"
      ],
      "text/plain": [
       "<IPython.core.display.Javascript object>"
      ]
     },
     "metadata": {},
     "output_type": "display_data"
    },
    {
     "data": {
      "text/html": [
       "<img src=\"data:image/png;base64,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\" width=\"640\">"
      ],
      "text/plain": [
       "<IPython.core.display.HTML object>"
      ]
     },
     "metadata": {},
     "output_type": "display_data"
    }
   ],
   "source": [
    "%matplotlib notebook\n",
    "fig = plt.figure()\n",
    "ax = plt.axes(projection=\"3d\")"
   ]
  },
  {
   "cell_type": "code",
   "execution_count": 14,
   "metadata": {},
   "outputs": [
    {
     "name": "stdout",
     "output_type": "stream",
     "text": [
      "i,y,xone,xtwo\r\n",
      "1,162,274,2450\r\n",
      "2,120,180,3254\r\n",
      "3,223,375,3802\r\n",
      "4,131,205,2838\r\n",
      "5,67,86,2347\r\n",
      "6,169,265,3782\r\n",
      "7,81,98,3008\r\n",
      "8,192,330,2450\r\n",
      "9,116,195,2137\r\n",
      "10,55,53,2560\r\n",
      "11,252,430,4020\r\n",
      "12,232,372,4427\r\n",
      "13,144,236,2666\r\n",
      "14,103,157,2088\r\n",
      "15,212,370,2605\r\n"
     ]
    }
   ],
   "source": [
    "%cat cream.csv"
   ]
  },
  {
   "cell_type": "code",
   "execution_count": 15,
   "metadata": {},
   "outputs": [
    {
     "data": {
      "text/plain": [
       "{'i': '1', 'y': '162', 'xone': '274', 'xtwo': '2450'}"
      ]
     },
     "execution_count": 15,
     "metadata": {},
     "output_type": "execute_result"
    }
   ],
   "source": [
    "with open('cream.csv') as csvfile:\n",
    "    reader = csv.DictReader(csvfile)\n",
    "    rows = [row for row in reader]\n",
    "\n",
    "rows[0]"
   ]
  },
  {
   "cell_type": "code",
   "execution_count": 16,
   "metadata": {},
   "outputs": [],
   "source": [
    "yy = [int(row['y']) for row in rows]\n",
    "xx1 = [int(row['xone']) for row in rows]\n",
    "xx2 = [int(row['xtwo']) for row in rows]"
   ]
  },
  {
   "cell_type": "code",
   "execution_count": 18,
   "metadata": {},
   "outputs": [
    {
     "data": {
      "text/plain": [
       "<mpl_toolkits.mplot3d.art3d.Path3DCollection at 0x7fab410da6a0>"
      ]
     },
     "execution_count": 18,
     "metadata": {},
     "output_type": "execute_result"
    }
   ],
   "source": [
    "ax.scatter(xx1, xx2, yy)"
   ]
  },
  {
   "cell_type": "markdown",
   "metadata": {},
   "source": [
    "## 4. Matrix Algebra"
   ]
  },
  {
   "cell_type": "code",
   "execution_count": 19,
   "metadata": {},
   "outputs": [
    {
     "data": {
      "text/plain": [
       "500"
      ]
     },
     "execution_count": 19,
     "metadata": {},
     "output_type": "execute_result"
    }
   ],
   "source": [
    "sum(xxx)"
   ]
  },
  {
   "cell_type": "code",
   "execution_count": 20,
   "metadata": {},
   "outputs": [
    {
     "data": {
      "text/plain": [
       "1100"
      ]
     },
     "execution_count": 20,
     "metadata": {},
     "output_type": "execute_result"
    }
   ],
   "source": [
    "sum(yyy)"
   ]
  },
  {
   "cell_type": "code",
   "execution_count": 21,
   "metadata": {},
   "outputs": [
    {
     "data": {
      "text/plain": [
       "28400"
      ]
     },
     "execution_count": 21,
     "metadata": {},
     "output_type": "execute_result"
    }
   ],
   "source": [
    "sum(x**2 for x in xxx)"
   ]
  },
  {
   "cell_type": "code",
   "execution_count": 23,
   "metadata": {},
   "outputs": [
    {
     "data": {
      "text/plain": [
       "61800"
      ]
     },
     "execution_count": 23,
     "metadata": {},
     "output_type": "execute_result"
    }
   ],
   "source": [
    "sum(xxx[i] * yyy[i] for i in range(len(xxx)))  # :-("
   ]
  },
  {
   "cell_type": "code",
   "execution_count": 24,
   "metadata": {},
   "outputs": [
    {
     "data": {
      "text/plain": [
       "61800"
      ]
     },
     "execution_count": 24,
     "metadata": {},
     "output_type": "execute_result"
    }
   ],
   "source": [
    "sum (x * yyy[i] for i, x in enumerate(xxx))"
   ]
  },
  {
   "cell_type": "code",
   "execution_count": 25,
   "metadata": {},
   "outputs": [
    {
     "data": {
      "text/plain": [
       "61800"
      ]
     },
     "execution_count": 25,
     "metadata": {},
     "output_type": "execute_result"
    }
   ],
   "source": [
    "sum(x * y for x, y in zip(xxx,yyy))"
   ]
  },
  {
   "cell_type": "code",
   "execution_count": 26,
   "metadata": {},
   "outputs": [],
   "source": [
    "import numpy as np"
   ]
  },
  {
   "cell_type": "code",
   "execution_count": 28,
   "metadata": {},
   "outputs": [
    {
     "data": {
      "text/plain": [
       "array([30, 20, 60, 80, 40, 50, 60, 30, 70, 60])"
      ]
     },
     "execution_count": 28,
     "metadata": {},
     "output_type": "execute_result"
    }
   ],
   "source": [
    "xxx = np.array(xxx)\n",
    "xxx"
   ]
  },
  {
   "cell_type": "code",
   "execution_count": 29,
   "metadata": {},
   "outputs": [
    {
     "data": {
      "text/plain": [
       "array([ 73,  50, 128, 170,  87, 108, 135,  69, 148, 132])"
      ]
     },
     "execution_count": 29,
     "metadata": {},
     "output_type": "execute_result"
    }
   ],
   "source": [
    "yyy = np.array(yyy)\n",
    "yyy"
   ]
  },
  {
   "cell_type": "code",
   "execution_count": 30,
   "metadata": {},
   "outputs": [
    {
     "data": {
      "text/plain": [
       "array([ 2190,  1000,  7680, 13600,  3480,  5400,  8100,  2070, 10360,\n",
       "        7920])"
      ]
     },
     "execution_count": 30,
     "metadata": {},
     "output_type": "execute_result"
    }
   ],
   "source": [
    "xxx * yyy # this is not the dot product :-("
   ]
  },
  {
   "cell_type": "code",
   "execution_count": 32,
   "metadata": {},
   "outputs": [
    {
     "data": {
      "text/plain": [
       "61800"
      ]
     },
     "execution_count": 32,
     "metadata": {},
     "output_type": "execute_result"
    }
   ],
   "source": [
    "np.dot(xxx, yyy)  # but this is!"
   ]
  },
  {
   "cell_type": "code",
   "execution_count": 33,
   "metadata": {},
   "outputs": [
    {
     "data": {
      "text/plain": [
       "61800"
      ]
     },
     "execution_count": 33,
     "metadata": {},
     "output_type": "execute_result"
    }
   ],
   "source": [
    "xxx.dot(yyy) # and this!"
   ]
  },
  {
   "cell_type": "code",
   "execution_count": 34,
   "metadata": {},
   "outputs": [
    {
     "data": {
      "text/plain": [
       "array([[30, 20, 60, 80, 40, 50, 60, 30, 70, 60]])"
      ]
     },
     "execution_count": 34,
     "metadata": {},
     "output_type": "execute_result"
    }
   ],
   "source": [
    "xxx.reshape(1,10)"
   ]
  },
  {
   "cell_type": "code",
   "execution_count": 35,
   "metadata": {},
   "outputs": [
    {
     "data": {
      "text/plain": [
       "array([[ 73],\n",
       "       [ 50],\n",
       "       [128],\n",
       "       [170],\n",
       "       [ 87],\n",
       "       [108],\n",
       "       [135],\n",
       "       [ 69],\n",
       "       [148],\n",
       "       [132]])"
      ]
     },
     "execution_count": 35,
     "metadata": {},
     "output_type": "execute_result"
    }
   ],
   "source": [
    "yyy.reshape(10,1)"
   ]
  },
  {
   "cell_type": "code",
   "execution_count": 36,
   "metadata": {},
   "outputs": [
    {
     "data": {
      "text/plain": [
       "array([[61800]])"
      ]
     },
     "execution_count": 36,
     "metadata": {},
     "output_type": "execute_result"
    }
   ],
   "source": [
    "np.matmul(xxx.reshape(1,10),yyy.reshape(10,1))"
   ]
  },
  {
   "cell_type": "markdown",
   "metadata": {},
   "source": [
    "Now for the formula: $B = (X^t X)^{-1} (X^t Y)$"
   ]
  },
  {
   "cell_type": "code",
   "execution_count": 37,
   "metadata": {},
   "outputs": [
    {
     "data": {
      "text/plain": [
       "array([[ 1, 30],\n",
       "       [ 1, 20],\n",
       "       [ 1, 60],\n",
       "       [ 1, 80],\n",
       "       [ 1, 40],\n",
       "       [ 1, 50],\n",
       "       [ 1, 60],\n",
       "       [ 1, 30],\n",
       "       [ 1, 70],\n",
       "       [ 1, 60]])"
      ]
     },
     "execution_count": 37,
     "metadata": {},
     "output_type": "execute_result"
    }
   ],
   "source": [
    "X = np.array([(1,x) for x in xxx])\n",
    "X"
   ]
  },
  {
   "cell_type": "code",
   "execution_count": 38,
   "metadata": {},
   "outputs": [
    {
     "data": {
      "text/plain": [
       "array([[ 73],\n",
       "       [ 50],\n",
       "       [128],\n",
       "       [170],\n",
       "       [ 87],\n",
       "       [108],\n",
       "       [135],\n",
       "       [ 69],\n",
       "       [148],\n",
       "       [132]])"
      ]
     },
     "execution_count": 38,
     "metadata": {},
     "output_type": "execute_result"
    }
   ],
   "source": [
    "Y = np.array([yyy]).T\n",
    "Y"
   ]
  },
  {
   "cell_type": "code",
   "execution_count": 39,
   "metadata": {},
   "outputs": [
    {
     "data": {
      "text/plain": [
       "array([[   10,   500],\n",
       "       [  500, 28400]])"
      ]
     },
     "execution_count": 39,
     "metadata": {},
     "output_type": "execute_result"
    }
   ],
   "source": [
    "XtX = np.matmul(X.T, X)\n",
    "XtX"
   ]
  },
  {
   "cell_type": "code",
   "execution_count": 40,
   "metadata": {},
   "outputs": [
    {
     "data": {
      "text/plain": [
       "array([[ 1100],\n",
       "       [61800]])"
      ]
     },
     "execution_count": 40,
     "metadata": {},
     "output_type": "execute_result"
    }
   ],
   "source": [
    "XtY = np.matmul(X.T, Y)\n",
    "XtY"
   ]
  },
  {
   "cell_type": "code",
   "execution_count": 41,
   "metadata": {},
   "outputs": [],
   "source": [
    "inv = np.linalg.inv(XtX)"
   ]
  },
  {
   "cell_type": "code",
   "execution_count": 42,
   "metadata": {},
   "outputs": [
    {
     "data": {
      "text/plain": [
       "array([[ 8.35294118e-01, -1.47058824e-02],\n",
       "       [-1.47058824e-02,  2.94117647e-04]])"
      ]
     },
     "execution_count": 42,
     "metadata": {},
     "output_type": "execute_result"
    }
   ],
   "source": [
    "inv"
   ]
  },
  {
   "cell_type": "code",
   "execution_count": 43,
   "metadata": {},
   "outputs": [
    {
     "data": {
      "text/plain": [
       "array([[10.],\n",
       "       [ 2.]])"
      ]
     },
     "execution_count": 43,
     "metadata": {},
     "output_type": "execute_result"
    }
   ],
   "source": [
    "inv @ (X.T @ Y) # matrix multiplication"
   ]
  },
  {
   "cell_type": "code",
   "execution_count": null,
   "metadata": {},
   "outputs": [],
   "source": []
  }
 ],
 "metadata": {
  "kernelspec": {
   "display_name": "Python 3",
   "language": "python",
   "name": "python3"
  },
  "language_info": {
   "codemirror_mode": {
    "name": "ipython",
    "version": 3
   },
   "file_extension": ".py",
   "mimetype": "text/x-python",
   "name": "python",
   "nbconvert_exporter": "python",
   "pygments_lexer": "ipython3",
   "version": "3.8.10"
  }
 },
 "nbformat": 4,
 "nbformat_minor": 1
}
