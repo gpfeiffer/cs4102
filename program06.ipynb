{
 "cells": [
  {
   "cell_type": "markdown",
   "metadata": {},
   "source": [
    "### CS4102 - Geometric Foundations of Data Analysis I\n",
    "Prof. Götz Pfeiffer<br />\n",
    "School of Mathematics, Statistics and Applied Mathematics<br />\n",
    "NUI Galway"
   ]
  },
  {
   "cell_type": "markdown",
   "metadata": {},
   "source": [
    "#### 1. Least Squares Fitting\n",
    "\n",
    "# Week 6"
   ]
  },
  {
   "cell_type": "markdown",
   "metadata": {},
   "source": [
    "## 0. Questions"
   ]
  },
  {
   "cell_type": "markdown",
   "metadata": {},
   "source": [
    "* How to compute the $r^2$ for the skin care example?\n",
    "* How to compute simultaneous interval estimates?\n",
    "* ..."
   ]
  },
  {
   "cell_type": "markdown",
   "metadata": {},
   "source": [
    "##  Hypothesis Testing: Skin Care Example"
   ]
  },
  {
   "cell_type": "markdown",
   "metadata": {},
   "source": [
    "* We apply the same procedure as before, to find the coefficient of determination for the data in the file `cream.csv`.\n",
    "* We start by importing the packages (`csv` and `numpy`)."
   ]
  },
  {
   "cell_type": "code",
   "execution_count": 1,
   "metadata": {},
   "outputs": [],
   "source": [
    "import csv\n",
    "import numpy as np"
   ]
  },
  {
   "cell_type": "code",
   "execution_count": 2,
   "metadata": {},
   "outputs": [],
   "source": [
    "with open('cream.csv') as csvfile:\n",
    "    rows = list(csv.DictReader(csvfile))"
   ]
  },
  {
   "cell_type": "markdown",
   "metadata": {},
   "source": [
    "* The main difference is that the data file now has one more column of $x$-values."
   ]
  },
  {
   "cell_type": "code",
   "execution_count": 3,
   "metadata": {},
   "outputs": [
    {
     "data": {
      "text/plain": [
       "{'i': '1', 'y': '162', 'xone': '274', 'xtwo': '2450'}"
      ]
     },
     "execution_count": 3,
     "metadata": {},
     "output_type": "execute_result"
    }
   ],
   "source": [
    "rows[0]"
   ]
  },
  {
   "cell_type": "markdown",
   "metadata": {},
   "source": [
    "* Still, we can build numpy arrays `X` and `Y`, representing the matrices $X$ and $Y$, in a similar fashion as before."
   ]
  },
  {
   "cell_type": "code",
   "execution_count": 4,
   "metadata": {},
   "outputs": [],
   "source": [
    "X = np.array([[1, row['xone'], row['xtwo']] for row in rows], dtype=float)\n",
    "Y = np.array([[row['y']] for row in rows], dtype=float)"
   ]
  },
  {
   "cell_type": "markdown",
   "metadata": {},
   "source": [
    "* The matrix formula for computing the coefficients $B = (b_0, b_1, b_2)^t$ of the least squares fit $y = b_0 + b_1 x_1 + b_2 x_2$ is still the same:\n",
    "$$\n",
    "  B = (X^t X)^{-1} X^t Y\n",
    "$$\n",
    "* And so is the sequence of steps used to compute it."
   ]
  },
  {
   "cell_type": "code",
   "execution_count": 5,
   "metadata": {},
   "outputs": [
    {
     "name": "stdout",
     "output_type": "stream",
     "text": [
      "[[3.44464247]\n",
      " [0.49600005]\n",
      " [0.00920093]]\n"
     ]
    }
   ],
   "source": [
    "XtX = X.T @ X  # T for transpose, @ for matrix multiplication\n",
    "XtY = X.T @ Y\n",
    "B = np.linalg.inv(XtX) @ XtY\n",
    "print(B)"
   ]
  },
  {
   "cell_type": "markdown",
   "metadata": {},
   "source": [
    "* From this, we compute the ingredients for the quantities SSE, SSR and SSTO as before ..."
   ]
  },
  {
   "cell_type": "code",
   "execution_count": 6,
   "metadata": {},
   "outputs": [],
   "source": [
    "Yhat = X @ B\n",
    "ybar = sum(Y)/len(Y)\n",
    "ybar = ybar[0]\n",
    "BtXtY = B.T @ XtY\n",
    "YtY = Y.T @ Y\n",
    "nybar2 = len(Y) * ybar**2"
   ]
  },
  {
   "cell_type": "markdown",
   "metadata": {},
   "source": [
    "* ... and then the quantities themselves."
   ]
  },
  {
   "cell_type": "code",
   "execution_count": 7,
   "metadata": {},
   "outputs": [
    {
     "name": "stdout",
     "output_type": "stream",
     "text": [
      "SSR = 53844.60550034547 , SSE = 56.994499654567335 , SSTO = 53901.600000000035\n"
     ]
    }
   ],
   "source": [
    "SSR = BtXtY - nybar2\n",
    "SSE = YtY - BtXtY\n",
    "SSTO = YtY - nybar2\n",
    "SSR = SSR[0,0]\n",
    "SSE = SSE[0,0]\n",
    "SSTO = SSTO[0,0]\n",
    "print(\"SSR =\", SSR, \", SSE =\", SSE, \", SSTO =\", SSTO)"
   ]
  },
  {
   "cell_type": "markdown",
   "metadata": {},
   "source": [
    "* Finally $r^2 = \\mathrm{SSR}/\\mathrm{SSTO}$"
   ]
  },
  {
   "cell_type": "code",
   "execution_count": 8,
   "metadata": {},
   "outputs": [
    {
     "data": {
      "text/plain": [
       "0.9989426195204861"
      ]
     },
     "execution_count": 8,
     "metadata": {},
     "output_type": "execute_result"
    }
   ],
   "source": [
    "r2 = SSR/SSTO\n",
    "r2"
   ]
  },
  {
   "cell_type": "markdown",
   "metadata": {},
   "source": [
    "* Next, the F-test requires slightly modified quantities:\n",
    "$$\n",
    "\\mathrm{MSR} = \\frac{\\mathrm{SSR}}{p-1}, \\qquad\n",
    "\\mathrm{MSE} = \\frac{\\mathrm{SSE}}{n-p}, \\qquad\n",
    "F^* = \\frac{\\mathrm{MSR}}{\\mathrm{MSE}}\n",
    "$$\n",
    "* Here, $p = 3$ and $n = 15$.\n",
    "* Let's compute $F^*$!"
   ]
  },
  {
   "cell_type": "code",
   "execution_count": 9,
   "metadata": {},
   "outputs": [
    {
     "name": "stdout",
     "output_type": "stream",
     "text": [
      "n = 15 , p = 3\n"
     ]
    },
    {
     "data": {
      "text/plain": [
       "5668.400195810533"
      ]
     },
     "execution_count": 9,
     "metadata": {},
     "output_type": "execute_result"
    }
   ],
   "source": [
    "n = len(X)\n",
    "p = len(X[0])\n",
    "print(\"n =\", n, \", p =\", p)\n",
    "MSR = SSR/(p-1)\n",
    "MSE = SSE/(n-p)\n",
    "Fstar = MSR/MSE\n",
    "Fstar"
   ]
  },
  {
   "cell_type": "markdown",
   "metadata": {},
   "source": [
    "* Then, assuming that the errors $\\epsilon_i$ are independent $N(0, \\sigma^2)$, we choose a confidence level $\\alpha = 0.05$ and find the value of the $F$-distribution with $p-1$ and $n-p$ degrees of freedom.\n",
    "* This value can be found in a table, online or off-line, or with the help of the `scipy.stats` package"
   ]
  },
  {
   "cell_type": "code",
   "execution_count": 10,
   "metadata": {},
   "outputs": [
    {
     "data": {
      "text/plain": [
       "0.3574087005858445"
      ]
     },
     "execution_count": 10,
     "metadata": {},
     "output_type": "execute_result"
    }
   ],
   "source": [
    "from scipy.stats import f\n",
    "alpha = 0.05\n",
    "f.pdf(1 - alpha, p-1, n-p)"
   ]
  },
  {
   "cell_type": "markdown",
   "metadata": {},
   "source": [
    "* As this value is clearly smaller than $F^*$, we can reject the null hypothesis $\\mathcal{C}_0$ at level $\\alpha$."
   ]
  },
  {
   "cell_type": "markdown",
   "metadata": {},
   "source": [
    "* In order to quickly chek whether the $\\epsilon_i$ are independent and normally distributed, we can plot them (i) against the actual error $\\hat{y}_i$, (ii) against the input data $x_{i1}$, (iii) against the input data $x_{i2}$.\n",
    "* The $x_{i1}$ reside in column $1$ of the array `X`, from where we can extract them as `X[:,1]`, using a *slice* (`:` for all) in the first dimension, and an index (`1` for column $1$) in the second dimension."
   ]
  },
  {
   "cell_type": "code",
   "execution_count": 11,
   "metadata": {},
   "outputs": [
    {
     "data": {
      "text/plain": [
       "array([274., 180., 375., 205.,  86., 265.,  98., 330., 195.,  53., 430.,\n",
       "       372., 236., 157., 370.])"
      ]
     },
     "execution_count": 11,
     "metadata": {},
     "output_type": "execute_result"
    }
   ],
   "source": [
    "X[:,1]"
   ]
  },
  {
   "cell_type": "markdown",
   "metadata": {},
   "source": [
    "* For plotting, we use the `matplotlib.pyplot` package under its nickname `plt`."
   ]
  },
  {
   "cell_type": "code",
   "execution_count": 12,
   "metadata": {},
   "outputs": [],
   "source": [
    "import matplotlib.pyplot as plt"
   ]
  },
  {
   "cell_type": "code",
   "execution_count": 13,
   "metadata": {},
   "outputs": [
    {
     "data": {
      "text/plain": [
       "[<matplotlib.lines.Line2D at 0x7f73fe9f78b0>]"
      ]
     },
     "execution_count": 13,
     "metadata": {},
     "output_type": "execute_result"
    },
    {
     "data": {
      "image/png": "[encoded data removed]",
      "text/plain": [
       "<Figure size 432x288 with 1 Axes>"
      ]
     },
     "metadata": {
      "needs_background": "light"
     },
     "output_type": "display_data"
    }
   ],
   "source": [
    "Yhat = X @ B\n",
    "E = Y - Yhat\n",
    "plt.plot(Yhat, E, 'b.')"
   ]
  },
  {
   "cell_type": "code",
   "execution_count": 14,
   "metadata": {},
   "outputs": [
    {
     "data": {
      "text/plain": [
       "[<matplotlib.lines.Line2D at 0x7f73fe965ee0>]"
      ]
     },
     "execution_count": 14,
     "metadata": {},
     "output_type": "execute_result"
    },
    {
     "data": {
      "image/png": "[encoded data removed]",
      "text/plain": [
       "<Figure size 432x288 with 1 Axes>"
      ]
     },
     "metadata": {
      "needs_background": "light"
     },
     "output_type": "display_data"
    }
   ],
   "source": [
    "plt.plot(X[:,1], E, 'go')"
   ]
  },
  {
   "cell_type": "code",
   "execution_count": 15,
   "metadata": {
    "scrolled": true
   },
   "outputs": [
    {
     "data": {
      "text/plain": [
       "[<matplotlib.lines.Line2D at 0x7f73fe8d72b0>]"
      ]
     },
     "execution_count": 15,
     "metadata": {},
     "output_type": "execute_result"
    },
    {
     "data": {
      "image/png": "[encoded data removed]",
      "text/plain": [
       "<Figure size 432x288 with 1 Axes>"
      ]
     },
     "metadata": {
      "needs_background": "light"
     },
     "output_type": "display_data"
    }
   ],
   "source": [
    "plt.plot(X[:,2], E, 'r+')"
   ]
  },
  {
   "cell_type": "markdown",
   "metadata": {},
   "source": [
    "* The **estimated covariance matrix** for the least squares model \n",
    "$$\n",
    "y_i = \\beta_0 + \\beta_1 x_{i,1} + \\dots + \\beta_{p-1} x_{i,p-1} + \\epsilon_i\n",
    "$$\n",
    "is $S^2(B) = \\mathrm{MSE} (X^t X)^{-1}$."
   ]
  },
  {
   "cell_type": "code",
   "execution_count": 16,
   "metadata": {},
   "outputs": [
    {
     "data": {
      "text/plain": [
       "array([[ 5.92408244e+00,  1.01726366e-03, -1.97597095e-03],\n",
       "       [ 1.01726366e-03,  3.67343974e-05, -3.34108745e-06],\n",
       "       [-1.97597095e-03, -3.34108745e-06,  9.39693642e-07]])"
      ]
     },
     "execution_count": 16,
     "metadata": {},
     "output_type": "execute_result"
    }
   ],
   "source": [
    "S2B = MSE * np.linalg.inv(XtX)\n",
    "S2B"
   ]
  },
  {
   "cell_type": "markdown",
   "metadata": {},
   "source": [
    "* Theory says that if $q$ of the $\\beta_k$ are jointly estimated, the confidence intervals\n",
    "with coefficient $1 - \\alpha$ are\n",
    "$$\n",
    "b_k - T \\cdot s(b_k) \\leq \\beta_k \\leq b_k + T \\cdot s(b_k),\n",
    "$$\n",
    "where $T = t(1 - \\frac{\\alpha}{2q}, n - p)$.\n",
    "* The value of the $T$-distribution can be found in a table, online or off-line, or again with the help of the `scipy.stats` package."
   ]
  },
  {
   "cell_type": "code",
   "execution_count": 17,
   "metadata": {},
   "outputs": [
    {
     "data": {
      "text/plain": [
       "0.23513586310660725"
      ]
     },
     "execution_count": 17,
     "metadata": {},
     "output_type": "execute_result"
    }
   ],
   "source": [
    "from scipy.stats import t\n",
    "q = 2\n",
    "T = t.pdf(1 - alpha/2/q, n - p)\n",
    "T"
   ]
  },
  {
   "cell_type": "markdown",
   "metadata": {},
   "source": [
    "* So, when estimating $\\beta_1$ and $\\beta_2$ jointly, after extracting the values $s(b_k)$ as square roots of the diagonal values of the array `S2B`, we can find the *lower bounds* of the confidence intervals for the $\\beta_k$ as follows."
   ]
  },
  {
   "cell_type": "code",
   "execution_count": 18,
   "metadata": {},
   "outputs": [
    {
     "data": {
      "text/plain": [
       "array([2.87233499, 0.49457492, 0.008973  ])"
      ]
     },
     "execution_count": 18,
     "metadata": {},
     "output_type": "execute_result"
    }
   ],
   "source": [
    "SB = np.diagonal(S2B)**0.5\n",
    "B[:,0] - T * SB"
   ]
  },
  {
   "cell_type": "markdown",
   "metadata": {},
   "source": [
    "* And the *upper bound*:"
   ]
  },
  {
   "cell_type": "code",
   "execution_count": 19,
   "metadata": {},
   "outputs": [
    {
     "data": {
      "text/plain": [
       "array([4.01694994, 0.49742519, 0.00942887])"
      ]
     },
     "execution_count": 19,
     "metadata": {},
     "output_type": "execute_result"
    }
   ],
   "source": [
    "B[:,0] + T * SB"
   ]
  },
  {
   "cell_type": "code",
   "execution_count": null,
   "metadata": {},
   "outputs": [],
   "source": []
  }
 ],
 "metadata": {
  "kernelspec": {
   "display_name": "Python 3",
   "language": "python",
   "name": "python3"
  },
  "language_info": {
   "codemirror_mode": {
    "name": "ipython",
    "version": 3
   },
   "file_extension": ".py",
   "mimetype": "text/x-python",
   "name": "python",
   "nbconvert_exporter": "python",
   "pygments_lexer": "ipython3",
   "version": "3.8.10"
  }
 },
 "nbformat": 4,
 "nbformat_minor": 1
}
