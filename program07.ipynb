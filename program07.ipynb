{
 "cells": [
  {
   "cell_type": "markdown",
   "metadata": {},
   "source": [
    "### CS4102 - Geometric Foundations of Data Analysis I\n",
    "Prof. Götz Pfeiffer<br />\n",
    "School of Mathematical and Statistical Sciences<br />\n",
    "University of Galway"
   ]
  },
  {
   "cell_type": "markdown",
   "metadata": {},
   "source": [
    "# Week 7"
   ]
  },
  {
   "cell_type": "markdown",
   "metadata": {},
   "source": [
    "##  Face Recognition"
   ]
  },
  {
   "cell_type": "markdown",
   "metadata": {},
   "source": [
    "* Start by importing `numpy` and `matplotlib` colormaps."
   ]
  },
  {
   "cell_type": "code",
   "execution_count": null,
   "metadata": {},
   "outputs": [],
   "source": [
    "import numpy as np\n",
    "import matplotlib.cm as cm"
   ]
  },
  {
   "cell_type": "markdown",
   "metadata": {},
   "source": [
    "* Assume that the face database has been downloaded and unpacked in the folder `orl_faces`."
   ]
  },
  {
   "cell_type": "code",
   "execution_count": null,
   "metadata": {},
   "outputs": [],
   "source": [
    "root = \"orl_faces\""
   ]
  },
  {
   "cell_type": "code",
   "execution_count": null,
   "metadata": {},
   "outputs": [],
   "source": [
    "!tree {root}"
   ]
  },
  {
   "cell_type": "markdown",
   "metadata": {},
   "source": [
    "* In order to read these data into the python session, we need two things:\n",
    "    * access to the filesytem hierarchy\n",
    "    * image processing \n",
    "\n",
    "* The `os` library provides tools for navigating the filesystem. \n",
    "* The `os.walk` function traverses the directory stucture recursively, and distinguishes between files and subfolders."
   ]
  },
  {
   "cell_type": "code",
   "execution_count": null,
   "metadata": {},
   "outputs": [],
   "source": [
    "import os\n",
    "folders = next(os.walk(root))[1]\n",
    "folders[:10]"
   ]
  },
  {
   "cell_type": "markdown",
   "metadata": {},
   "source": [
    "* `os.path.join` constructs pathnames\n",
    "* `os.listdir` lists a directory's content"
   ]
  },
  {
   "cell_type": "code",
   "execution_count": null,
   "metadata": {},
   "outputs": [],
   "source": [
    "names = os.listdir(os.path.join(root, folders[0]))\n",
    "names[:7]"
   ]
  },
  {
   "cell_type": "code",
   "execution_count": null,
   "metadata": {},
   "outputs": [],
   "source": [
    "path = os.path.join(root, folders[8], names[6])\n",
    "path"
   ]
  },
  {
   "cell_type": "markdown",
   "metadata": {},
   "source": [
    "* The Python Imaging Library (`PIL`) adds image processing capabilities to your Python interpreter."
   ]
  },
  {
   "cell_type": "code",
   "execution_count": null,
   "metadata": {},
   "outputs": [],
   "source": [
    "from PIL import Image\n",
    "im = Image.open(path)\n",
    "im"
   ]
  },
  {
   "cell_type": "markdown",
   "metadata": {},
   "source": [
    "* `numpy` knows how to convert an image into an array."
   ]
  },
  {
   "cell_type": "code",
   "execution_count": null,
   "metadata": {},
   "outputs": [],
   "source": [
    "ar = np.array(im)\n",
    "ar"
   ]
  },
  {
   "cell_type": "markdown",
   "metadata": {},
   "source": [
    "* `matplotlib.pyplot` can display an array as an image."
   ]
  },
  {
   "cell_type": "code",
   "execution_count": null,
   "metadata": {},
   "outputs": [],
   "source": [
    "import matplotlib.pyplot as plt\n",
    "plt.imshow(ar, cmap=cm.gray)"
   ]
  },
  {
   "cell_type": "markdown",
   "metadata": {},
   "source": [
    "* And `Image` can convert the array back into an image."
   ]
  },
  {
   "cell_type": "code",
   "execution_count": null,
   "metadata": {},
   "outputs": [],
   "source": [
    "im = Image.fromarray(ar)\n",
    "im"
   ]
  },
  {
   "cell_type": "markdown",
   "metadata": {},
   "source": [
    "* How to read the images: this function uses the above tools to read all images into an array `X`.  The list `y` keeps track of the people whose faces are on the images."
   ]
  },
  {
   "cell_type": "code",
   "execution_count": null,
   "metadata": {},
   "outputs": [],
   "source": [
    "def read_images(root):\n",
    "    c = 0\n",
    "    X, y = [], []\n",
    "    for folder in next(os.walk(root))[1]:\n",
    "        for name in os.listdir(os.path.join(root, folder)):\n",
    "            path = os.path.join(root, folder, name)\n",
    "            im = Image.open(path)\n",
    "            X.append(np.array(im))\n",
    "            y.append(c)\n",
    "        c += 1\n",
    "    return np.array(X), y"
   ]
  },
  {
   "cell_type": "markdown",
   "metadata": {},
   "source": [
    "* So we read the images and look into `X`"
   ]
  },
  {
   "cell_type": "code",
   "execution_count": null,
   "metadata": {},
   "outputs": [],
   "source": [
    "X, y = read_images(root)"
   ]
  },
  {
   "cell_type": "code",
   "execution_count": null,
   "metadata": {},
   "outputs": [],
   "source": [
    "X.shape"
   ]
  },
  {
   "cell_type": "code",
   "execution_count": null,
   "metadata": {},
   "outputs": [],
   "source": [
    "X[1]"
   ]
  },
  {
   "cell_type": "markdown",
   "metadata": {},
   "source": [
    "* `X` is a list of $400$ images of $112 \\times 92$ pixels.   For PCA, we prefer this to be a list of vectors,\n",
    "  i.e. a $400 \\times (112 \\cdot 92)$ matrix."
   ]
  },
  {
   "cell_type": "code",
   "execution_count": null,
   "metadata": {},
   "outputs": [],
   "source": [
    "X.reshape((X.shape[0], -1))"
   ]
  },
  {
   "cell_type": "markdown",
   "metadata": {},
   "source": [
    "* How to do PCA: This function performs PCA on a given $n \\times d$-matrix `X`.\n",
    "* Numpy's `linalg.eigh` function computes the eigenvalues and eigenvectors of a real symmetric matrix.\n",
    "* Note that the eigenvectors will form the **columns** of the resulting matrix `evectors`.\n",
    "* Also note how the calculation distinguishes between cases $n > d$ or not. (This trick is explained in the original notes.)"
   ]
  },
  {
   "cell_type": "code",
   "execution_count": null,
   "metadata": {},
   "outputs": [],
   "source": [
    "def pca(X):\n",
    "    n, d = X.shape\n",
    "    mu = X.mean(axis=0)\n",
    "    X = X - mu\n",
    "    if n > d:\n",
    "        C = X.T @ X\n",
    "        evalues, evectors = np.linalg.eigh(C)\n",
    "    else:\n",
    "        C = X @ X.T\n",
    "        evalues, evectors = np.linalg.eigh(C)\n",
    "        evectors = X.T @ evectors\n",
    "        for i in range(n):\n",
    "            evectors[:,i] = evectors[:,i]/np.linalg.norm(evectors[:,i])\n",
    "\n",
    "    # sort evectors descending by their evalue\n",
    "    idx = np.argsort(-evalues)\n",
    "    evalues = evalues[idx]\n",
    "    evectors = evectors[:,idx]\n",
    "\n",
    "    return evalues, evectors, mu"
   ]
  },
  {
   "cell_type": "markdown",
   "metadata": {},
   "source": [
    "* We can now perform a full pca and obtain a (sorted) list of eigenvalues `D`, a matrix `W` of eigenvectors (as its columns), and the average `mu` of the rows of `X` (which is needed later on)."
   ]
  },
  {
   "cell_type": "code",
   "execution_count": null,
   "metadata": {},
   "outputs": [],
   "source": [
    "D, W, mu = pca(X.reshape((X.shape[0], -1)))"
   ]
  },
  {
   "cell_type": "code",
   "execution_count": null,
   "metadata": {},
   "outputs": [],
   "source": [
    "D[:16]"
   ]
  },
  {
   "cell_type": "code",
   "execution_count": null,
   "metadata": {},
   "outputs": [],
   "source": [
    "W.shape"
   ]
  },
  {
   "cell_type": "code",
   "execution_count": null,
   "metadata": {},
   "outputs": [],
   "source": [
    "mu"
   ]
  },
  {
   "cell_type": "markdown",
   "metadata": {},
   "source": [
    "* Up to some reshaping and normalization, the eigenvectors can now be regarded as images: eigenfaces"
   ]
  },
  {
   "cell_type": "code",
   "execution_count": null,
   "metadata": {},
   "outputs": [],
   "source": [
    "W[:,5].reshape(X[0].shape)"
   ]
  },
  {
   "cell_type": "markdown",
   "metadata": {},
   "source": [
    "* The float entries of this $112 \\times 92$ matrix version of the eigenvector in column $5$ need to be\n",
    "  rescaled to become integers in `range(256)`, suitable for images.\n",
    "* This is done by the following function."
   ]
  },
  {
   "cell_type": "code",
   "execution_count": null,
   "metadata": {},
   "outputs": [],
   "source": [
    "def normalize(X, low, high, dtype=None):\n",
    "    minX, maxX = np.min(X), np.max(X)\n",
    "\n",
    "    # normalize to [0...1].\t\n",
    "    X = X - float(minX)\n",
    "    X = X / float(maxX - minX)\n",
    "\n",
    "    # scale to [low...high].\n",
    "    X = X * (high-low)\n",
    "    X = X + low\n",
    "\n",
    "    if dtype is None:\n",
    "        return X\n",
    "    return np.array(X, dtype=dtype)"
   ]
  },
  {
   "cell_type": "markdown",
   "metadata": {},
   "source": [
    "* Let's see the effect on eignevector number $5$."
   ]
  },
  {
   "cell_type": "code",
   "execution_count": null,
   "metadata": {},
   "outputs": [],
   "source": [
    "normalize(W[:,5], 0, 255, np.uint8).reshape(X[0].shape)"
   ]
  },
  {
   "cell_type": "code",
   "execution_count": null,
   "metadata": {},
   "outputs": [],
   "source": [
    "plt.imshow(normalize(W[:,5], 0, 255, np.uint8).reshape(X[0].shape))"
   ]
  },
  {
   "cell_type": "markdown",
   "metadata": {},
   "source": [
    "* Let's turn the first (at most) 16 eigenvectors into grayscale images (note: eigenvectors are stored by column!) and plot them in a single picture."
   ]
  },
  {
   "cell_type": "code",
   "execution_count": null,
   "metadata": {},
   "outputs": [],
   "source": [
    "E = []\n",
    "for i in range(min(W.shape[1], 16)):\n",
    "    e = normalize(W[:,i], 0, 255, np.uint8)\n",
    "    E.append(e.reshape(X[0].shape))"
   ]
  },
  {
   "cell_type": "markdown",
   "metadata": {},
   "source": [
    "* How to plot (details omitted)"
   ]
  },
  {
   "cell_type": "code",
   "execution_count": null,
   "metadata": {},
   "outputs": [],
   "source": [
    "def subplot(title, images, rows, cols, sptitle=\"subplot\", sptitles=[], colormap=cm.gray, filename=None):\n",
    "    fig = plt.figure()\n",
    "\n",
    "    # main title\n",
    "    fig.text(.5, .95, title, horizontalalignment='center')\n",
    "\n",
    "    for i in range(len(images)):\n",
    "        fig.add_subplot(rows, cols, i+1)\n",
    "        if len(sptitles) == len(images):\n",
    "            plt.title(\"%s #%s\" % (sptitle, str(sptitles[i])), { 'fontsize': 8 })\n",
    "        else:\n",
    "            plt.title(\"%s #%d\" % (sptitle, i+1), { 'fontsize': 8 })\n",
    "        plt.imshow(np.asarray(images[i]), cmap=colormap)\n",
    "        plt.axis('off')\n",
    "\n",
    "    if filename is None:\n",
    "        plt.show()\n",
    "    else:\n",
    "        fig.savefig(filename)\n"
   ]
  },
  {
   "cell_type": "markdown",
   "metadata": {},
   "source": [
    "* Let's plot the $16$ eigenfaces using a coloured colormap (and store the plot to \"python_eigenfaces.pdf\")."
   ]
  },
  {
   "cell_type": "code",
   "execution_count": null,
   "metadata": {},
   "outputs": [],
   "source": [
    "subplot(\n",
    "    title=\"Eigenfaces AT&T Facedatabase\", \n",
    "    images=E, \n",
    "    rows=4, cols=4, \n",
    "    sptitle=\"Eigenface\", \n",
    "    colormap=cm.jet, \n",
    "    filename=\"python_pca_eigenfaces.pdf\"\n",
    ")"
   ]
  },
  {
   "cell_type": "markdown",
   "metadata": {},
   "source": [
    "* Finally, we project a face into the small space generated by only a few eigenvectors, and then try and reconstruct the face from that information.\n",
    "* The formulas for projection and reconstruction  are straightforward. "
   ]
  },
  {
   "cell_type": "markdown",
   "metadata": {},
   "source": [
    "* How to project"
   ]
  },
  {
   "cell_type": "code",
   "execution_count": null,
   "metadata": {},
   "outputs": [],
   "source": [
    "def project(W, X, mu):\n",
    "    return (X - mu) @ W"
   ]
  },
  {
   "cell_type": "markdown",
   "metadata": {},
   "source": [
    "* How to reconstruct"
   ]
  },
  {
   "cell_type": "code",
   "execution_count": null,
   "metadata": {},
   "outputs": [],
   "source": [
    "def reconstruct(W, Y, mu):\n",
    "    return Y @ W.T + mu"
   ]
  },
  {
   "cell_type": "markdown",
   "metadata": {},
   "source": [
    "* Let's apply this to face number $21$, projected onto the first $50$ eigenvectors."
   ]
  },
  {
   "cell_type": "code",
   "execution_count": null,
   "metadata": {},
   "outputs": [],
   "source": [
    "P = project(W[:,:50], X[21].reshape(-1), mu)\n",
    "P"
   ]
  },
  {
   "cell_type": "code",
   "execution_count": null,
   "metadata": {},
   "outputs": [],
   "source": [
    "R = reconstruct(W[:,:50], P, mu)\n",
    "plt.imshow(R.reshape(X[0].shape), cmap=cm.gray)"
   ]
  },
  {
   "cell_type": "markdown",
   "metadata": {},
   "source": [
    "* How does the quality improve over range of numbers or eigenvectors?"
   ]
  },
  {
   "cell_type": "code",
   "execution_count": null,
   "metadata": {},
   "outputs": [],
   "source": [
    "steps = range(10, min(len(X), 320), 20)\n",
    "E = []\n",
    "for step in steps:\n",
    "    P = project(W[:,:step], X[21].reshape(-1), mu)\n",
    "    R = reconstruct(W[:,:step], P, mu).reshape(X[0].shape)\n",
    "    E.append(normalize(R, 0, 255, dtype=np.uint8))"
   ]
  },
  {
   "cell_type": "markdown",
   "metadata": {},
   "source": [
    "* plot them and store the plot to \"python_reconstruction.pdf\""
   ]
  },
  {
   "cell_type": "code",
   "execution_count": null,
   "metadata": {},
   "outputs": [],
   "source": [
    "subplot(\n",
    "    title=\"Reconstruction AT&T Facedatabase\", \n",
    "    images=E, \n",
    "    rows=4, cols=4, \n",
    "    sptitle=\"Eigenvectors\", \n",
    "    sptitles=steps, \n",
    "    colormap=cm.gray, \n",
    "    filename=\"python_pca_reconstruction.pdf\"\n",
    ")"
   ]
  },
  {
   "cell_type": "code",
   "execution_count": null,
   "metadata": {},
   "outputs": [],
   "source": []
  }
 ],
 "metadata": {
  "kernelspec": {
   "display_name": "Python 3 (ipykernel)",
   "language": "python",
   "name": "python3"
  },
  "language_info": {
   "codemirror_mode": {
    "name": "ipython",
    "version": 3
   },
   "file_extension": ".py",
   "mimetype": "text/x-python",
   "name": "python",
   "nbconvert_exporter": "python",
   "pygments_lexer": "ipython3",
   "version": "3.8.13"
  }
 },
 "nbformat": 4,
 "nbformat_minor": 1
}
