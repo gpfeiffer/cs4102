{
 "cells": [
  {
   "cell_type": "markdown",
   "id": "08330b84",
   "metadata": {},
   "source": [
    "### CS4102 - Geometric Foundations of Data Analysis I\n",
    "Prof. Götz Pfeiffer<br />\n",
    "School of Mathematical and Statistical Sciences<br />\n",
    "University of Galway"
   ]
  },
  {
   "cell_type": "markdown",
   "id": "b8df26b6",
   "metadata": {},
   "source": [
    "# Week 11: Voronoi Cells."
   ]
  },
  {
   "cell_type": "markdown",
   "id": "f4d52b33",
   "metadata": {},
   "source": [
    "* How to construct (plot) the Voronoi diagram of a given set of points in $\\mathbb{R}^2$."
   ]
  },
  {
   "cell_type": "markdown",
   "id": "af8b86d3",
   "metadata": {},
   "source": [
    "![voronoi](https://upload.wikimedia.org/wikipedia/commons/thumb/5/54/Euclidean_Voronoi_diagram.svg/573px-Euclidean_Voronoi_diagram.svg.png)"
   ]
  },
  {
   "cell_type": "code",
   "execution_count": null,
   "id": "7d77a2cc",
   "metadata": {},
   "outputs": [],
   "source": [
    "import matplotlib.pyplot as plt\n",
    "import numpy as np"
   ]
  },
  {
   "cell_type": "markdown",
   "id": "797c8923",
   "metadata": {},
   "source": [
    "###  Bisectors"
   ]
  },
  {
   "cell_type": "markdown",
   "id": "99b55be6",
   "metadata": {},
   "source": [
    "* Here are some points to play with:"
   ]
  },
  {
   "cell_type": "code",
   "execution_count": null,
   "id": "1b86c9c4",
   "metadata": {},
   "outputs": [],
   "source": [
    "pp = np.random.rand(4, 2)\n",
    "pp"
   ]
  },
  {
   "cell_type": "markdown",
   "id": "3ca763b2",
   "metadata": {},
   "source": [
    "* `plot` expects $x$-coordinates, followed by $y$-coordinates.\n",
    "* Thats column $0$ of `pp`, followed by column $1$ ..."
   ]
  },
  {
   "cell_type": "code",
   "execution_count": null,
   "id": "23e3dca1",
   "metadata": {},
   "outputs": [],
   "source": [
    "plt.plot(pp[:,0], pp[:,1], 'ro')"
   ]
  },
  {
   "cell_type": "markdown",
   "id": "d60ea53f",
   "metadata": {},
   "source": [
    "* ... or `pp` transposed and unpacked with the list unpacking operator `*`"
   ]
  },
  {
   "cell_type": "code",
   "execution_count": null,
   "id": "818cc5a6",
   "metadata": {},
   "outputs": [],
   "source": [
    "[*pp.T]"
   ]
  },
  {
   "cell_type": "code",
   "execution_count": null,
   "id": "31742d06",
   "metadata": {},
   "outputs": [],
   "source": [
    "pp.T"
   ]
  },
  {
   "cell_type": "code",
   "execution_count": null,
   "id": "53690011",
   "metadata": {},
   "outputs": [],
   "source": [
    "plt.plot(*pp.T, 'ro')"
   ]
  },
  {
   "cell_type": "markdown",
   "id": "3821baab",
   "metadata": {},
   "source": [
    "* Let's try and construct (i.e. plot) the bisector of the first two points, $A$ and $B$."
   ]
  },
  {
   "cell_type": "code",
   "execution_count": null,
   "id": "5cd41781",
   "metadata": {},
   "outputs": [],
   "source": [
    "A = pp[0]\n",
    "B = pp[1]\n",
    "A, B"
   ]
  },
  {
   "cell_type": "markdown",
   "id": "f6ebd03e",
   "metadata": {},
   "source": [
    "* The bisector of $A$ and $B$ is the line $\\ell$ through the midpoint $M = \\frac12(A + B)$ with slope $m = -1/m'$, where $m' = \\frac{a_1 - b_1}{a_0 - b_0}$ is the slope of the line through $A = (a_0, a_1)$ and $B = (b_0, b_1)$.\n",
    "* It follows that the equation of $\\ell$ is $y = mx + c$, where $c = m_1 - m\\, m_0$ if $M = (m_0, m_1)$. "
   ]
  },
  {
   "cell_type": "code",
   "execution_count": null,
   "id": "8559f242",
   "metadata": {},
   "outputs": [],
   "source": [
    "M = 1/2 * (A + B)\n",
    "AmB = A - B\n",
    "m = - AmB[0]/AmB[1]\n",
    "m"
   ]
  },
  {
   "cell_type": "code",
   "execution_count": null,
   "id": "9a31befe",
   "metadata": {},
   "outputs": [],
   "source": [
    "c = M[1] - m * M[0]\n",
    "c"
   ]
  },
  {
   "cell_type": "markdown",
   "id": "3f2f0545",
   "metadata": {},
   "source": [
    "* `plot` will produce a line segment if it is given two points as argument.\n",
    "* Here, as $0 \\leq x \\leq 1$, we can plot $\\ell$ as the line connecting the points $(0, y_0)$ and $(1, y_1)$ on $\\ell$.\n",
    "* And since the $x$-values default to $0$ and $1$ anyway, it suffices to supply $y_0 = c$ and $y_1 = m + c$.\n",
    "* (That's quick and dirty rather than sustainable - but for now we don't know yet whether this needs to be sustained ...)"
   ]
  },
  {
   "cell_type": "code",
   "execution_count": null,
   "id": "687381de",
   "metadata": {},
   "outputs": [],
   "source": [
    "ys = np.array([0, m]) + c\n",
    "ys"
   ]
  },
  {
   "cell_type": "code",
   "execution_count": null,
   "id": "b95cc0e2",
   "metadata": {},
   "outputs": [],
   "source": [
    "plt.plot(*pp[:2].T, 'ro')\n",
    "plt.plot(ys)"
   ]
  },
  {
   "cell_type": "markdown",
   "id": "76c2b068",
   "metadata": {},
   "source": [
    "* The line doesn't quite look perpendicular. That's because there are different scales on $x$ and $y$-axes."
   ]
  },
  {
   "cell_type": "code",
   "execution_count": null,
   "id": "1565a047",
   "metadata": {},
   "outputs": [],
   "source": [
    "def bisector(A, B):\n",
    "    M = 1/2 * (A + B)\n",
    "    AmB = (A - B)\n",
    "    m = - AmB[0]/AmB[1]\n",
    "    c = M[1] - m * M[0]\n",
    "    return np.array([0, m]) + c"
   ]
  },
  {
   "cell_type": "code",
   "execution_count": null,
   "id": "14611882",
   "metadata": {},
   "outputs": [],
   "source": [
    "bisector(A, B)"
   ]
  },
  {
   "cell_type": "code",
   "execution_count": null,
   "id": "257d5429",
   "metadata": {},
   "outputs": [],
   "source": [
    "plt.xlim(0,1)\n",
    "plt.ylim(0,1)\n",
    "plt.plot(*np.array([A, B]).T, 'ro')\n",
    "plt.plot(bisector(A, B))"
   ]
  },
  {
   "cell_type": "markdown",
   "id": "6e7ab2c5",
   "metadata": {},
   "source": [
    "* Now, let's plot all the points, and all the bisectors!  How many bisectors are there?"
   ]
  },
  {
   "cell_type": "code",
   "execution_count": null,
   "id": "fdeca33b",
   "metadata": {},
   "outputs": [],
   "source": [
    "plt.xlim(0,1)\n",
    "plt.ylim(0,1)\n",
    "plt.plot(*pp.T, 'ro')\n",
    "for i, A in enumerate(pp):\n",
    "    for j in range(i):\n",
    "        B = pp[j]\n",
    "        plt.plot(bisector(A, B))"
   ]
  },
  {
   "cell_type": "markdown",
   "id": "6f163421",
   "metadata": {},
   "source": [
    "* Very often, three lines seem to intersect in a single point.  That cannot be a coincidence ..."
   ]
  },
  {
   "cell_type": "markdown",
   "id": "05ee589d",
   "metadata": {},
   "source": [
    "### Circumcircle"
   ]
  },
  {
   "cell_type": "markdown",
   "id": "1224b2bb",
   "metadata": {},
   "source": [
    "* A formula for the centre and radius of the circumcircle of (a triangle specified by) three points $A$, $B$, and $C$ can be found on [wikipedia](https://en.wikipedia.org/wiki/Circumscribed_circle#Circumcircle_equations).\n",
    "* Let's look at the first three points in our list `pp`."
   ]
  },
  {
   "cell_type": "code",
   "execution_count": null,
   "id": "a8d3403d",
   "metadata": {},
   "outputs": [],
   "source": [
    "A, B, C = pp[:3]\n",
    "A, B, C"
   ]
  },
  {
   "cell_type": "code",
   "execution_count": null,
   "id": "d57f8119",
   "metadata": {},
   "outputs": [],
   "source": [
    "plt.plot(*(pp[:3].T), 'ro')"
   ]
  },
  {
   "cell_type": "markdown",
   "id": "1f00c081",
   "metadata": {},
   "source": [
    "* Shifting all points by $-A$ (so that $A$ becomes the origin $O = A - A$) simplifies the calculations"
   ]
  },
  {
   "cell_type": "code",
   "execution_count": null,
   "id": "7b096e28",
   "metadata": {},
   "outputs": [],
   "source": [
    "B1 = B - A\n",
    "C1 = C - A\n",
    "B1, C1"
   ]
  },
  {
   "cell_type": "markdown",
   "id": "4feeea06",
   "metadata": {},
   "source": [
    "* We need the squared lengths $b' = \\|B'\\|^2$ and $c' = \\|C'\\|^2$ of the shifted vectors"
   ]
  },
  {
   "cell_type": "code",
   "execution_count": null,
   "id": "aa086a62",
   "metadata": {},
   "outputs": [],
   "source": [
    "b1 = B1 @ B1\n",
    "c1 = C1 @ C1\n",
    "b1, c1"
   ]
  },
  {
   "cell_type": "markdown",
   "id": "153968f9",
   "metadata": {},
   "source": [
    "* A rotation $R$ about $90^{\\circ}$ also plays a role."
   ]
  },
  {
   "cell_type": "code",
   "execution_count": null,
   "id": "596f9781",
   "metadata": {},
   "outputs": [],
   "source": [
    "rot = np.array([[0, -1], [1, 0]])\n",
    "rot"
   ]
  },
  {
   "cell_type": "code",
   "execution_count": null,
   "id": "3ae69160",
   "metadata": {},
   "outputs": [],
   "source": [
    "B1 @ rot"
   ]
  },
  {
   "cell_type": "markdown",
   "id": "cb6b0e68",
   "metadata": {},
   "source": [
    "* Now, the circumcentre of $O$, $A'$ and $B'$ is\n",
    "\\\\[\n",
    "  U' = \\frac1{d'} (b' C' - c' B').R\n",
    "\\\\]\n",
    "where $d' = 2 B'.(C'.R)^T$.\n",
    "* And the radius is simply $r = \\| U' \\|$"
   ]
  },
  {
   "cell_type": "code",
   "execution_count": null,
   "id": "85f9498e",
   "metadata": {},
   "outputs": [],
   "source": [
    "d1 = 2 * np.dot(B1, C1 @ rot)\n",
    "d1"
   ]
  },
  {
   "cell_type": "code",
   "execution_count": null,
   "id": "6950992b",
   "metadata": {},
   "outputs": [],
   "source": [
    "U1 = (b1 * C1 - c1 * B1) @ rot / d1\n",
    "U1"
   ]
  },
  {
   "cell_type": "code",
   "execution_count": null,
   "id": "fbdef16d",
   "metadata": {},
   "outputs": [],
   "source": [
    "r = np.sqrt(U1 @ U1)\n",
    "r"
   ]
  },
  {
   "cell_type": "markdown",
   "id": "6de9a295",
   "metadata": {},
   "source": [
    "* The circumcentre of $A$, $B$ and $C$ lies at $U' + A$."
   ]
  },
  {
   "cell_type": "code",
   "execution_count": null,
   "id": "acfff867",
   "metadata": {},
   "outputs": [],
   "source": [
    "U1 + A"
   ]
  },
  {
   "cell_type": "code",
   "execution_count": null,
   "id": "80a9c813",
   "metadata": {},
   "outputs": [],
   "source": [
    "circle = plt.Circle(U1 + A, r, color= 'm', fill=False, alpha=0.5)\n",
    "plt.plot(*(pp[:3].T), 'ro')\n",
    "plt.gca().add_patch(circle)"
   ]
  },
  {
   "cell_type": "markdown",
   "id": "541c9c51",
   "metadata": {},
   "source": [
    "* Spot on!"
   ]
  },
  {
   "cell_type": "code",
   "execution_count": null,
   "id": "6b964d2e",
   "metadata": {},
   "outputs": [],
   "source": [
    "def circumcircle(A, B, C):\n",
    "    B1, C1 = [B, C] - A\n",
    "    b1 = B1 @ B1\n",
    "    c1 = C1 @ C1\n",
    "    rot = np.array([[0, -1], [1, 0]])  \n",
    "    d1 = 2 * np.dot(B1, C1 @ rot)\n",
    "    \n",
    "    U1 = (b1 * C1 - c1 * B1) @ rot / d1\n",
    "    r = np.sqrt(U1 @ U1)\n",
    "    return U1 + A, r"
   ]
  },
  {
   "cell_type": "code",
   "execution_count": null,
   "id": "21c01821",
   "metadata": {},
   "outputs": [],
   "source": [
    "circumcircle(A, B, C)"
   ]
  },
  {
   "cell_type": "markdown",
   "id": "5518309d",
   "metadata": {},
   "source": [
    "* Let's plot all the points and all their circumcentres. How many circumcentres are there?"
   ]
  },
  {
   "cell_type": "code",
   "execution_count": null,
   "id": "bec91b50",
   "metadata": {},
   "outputs": [],
   "source": [
    "plt.plot(*pp.T, 'ro')\n",
    "circles = []\n",
    "for i, A in enumerate(pp):\n",
    "    for j in range(i):\n",
    "        B = pp[j]\n",
    "        for k in range(j):\n",
    "            C = pp[k]\n",
    "            centre, radius = circumcircle(A, B, C)\n",
    "            circles.append({ \"c\" : centre, \"r\" : radius })\n",
    "            circle = plt.Circle(centre, radius, alpha=0.2)\n",
    "            plt.plot(centre[0], centre[1], 'kx')\n",
    "            plt.gca().add_patch(circle)"
   ]
  },
  {
   "cell_type": "code",
   "execution_count": null,
   "id": "23dbd79d",
   "metadata": {},
   "outputs": [],
   "source": [
    "circles"
   ]
  },
  {
   "cell_type": "markdown",
   "id": "dd33d9da",
   "metadata": {},
   "source": [
    "##  Exercises"
   ]
  },
  {
   "cell_type": "markdown",
   "id": "f533c665",
   "metadata": {},
   "source": [
    "1. Inspect the list of circumcircles in this and other examples of random points.  Which attributes of (some of) the circles look like they can contribute to the construction of Voronoi cells? Can you find a criterion that distinguishes useful circles from the others?\n",
    "\n",
    "1. Inspect the bisectors in this and other examples of random points.  Which attributes of (some of) the bisecting lines look like they can contribute to the construction of Voronoi cells? Can you find a criterion that distinguishes useful lines from the others?\n",
    "\n",
    "1. In the current context, what is the meaning of the line segement connecting two centers of circumcircles?  What difference does the number of common data points on the two circumcircles make?"
   ]
  },
  {
   "cell_type": "code",
   "execution_count": null,
   "id": "02d91865",
   "metadata": {},
   "outputs": [],
   "source": []
  }
 ],
 "metadata": {
  "kernelspec": {
   "display_name": "Python 3 (ipykernel)",
   "language": "python",
   "name": "python3"
  },
  "language_info": {
   "codemirror_mode": {
    "name": "ipython",
    "version": 3
   },
   "file_extension": ".py",
   "mimetype": "text/x-python",
   "name": "python",
   "nbconvert_exporter": "python",
   "pygments_lexer": "ipython3",
   "version": "3.8.13"
  }
 },
 "nbformat": 4,
 "nbformat_minor": 5
}
