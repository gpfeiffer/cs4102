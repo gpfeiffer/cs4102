{
 "cells": [
  {
   "cell_type": "markdown",
   "metadata": {},
   "source": [
    "### CS4102 - Geometric Foundations of Data Analysis I\n",
    "Prof. Götz Pfeiffer<br />\n",
    "School of Mathematics, Statistics and Applied Mathematics<br />\n",
    "NUI Galway"
   ]
  },
  {
   "cell_type": "markdown",
   "metadata": {},
   "source": [
    "# Week 11: Clustering"
   ]
  },
  {
   "cell_type": "markdown",
   "metadata": {},
   "source": [
    "1. Implement the Clustering Algorithm (single-linkage)\n",
    "2. Generate random clustered points\n",
    "3. Compute distance matrix for given points\n",
    "4. Apply (1) to (3)"
   ]
  },
  {
   "cell_type": "code",
   "execution_count": 1,
   "metadata": {},
   "outputs": [],
   "source": [
    "import numpy as np\n",
    "import matplotlib.pyplot as plt"
   ]
  },
  {
   "cell_type": "markdown",
   "metadata": {},
   "source": [
    "## 0. Distances"
   ]
  },
  {
   "cell_type": "markdown",
   "metadata": {},
   "source": [
    "* From last week's discussion of abstract classes:"
   ]
  },
  {
   "cell_type": "code",
   "execution_count": 2,
   "metadata": {},
   "outputs": [],
   "source": [
    "class Distance:\n",
    "    def __init__(self, name):\n",
    "        self.name = name\n",
    "\n",
    "    def __repr__(self):\n",
    "        return self.name\n",
    "\n",
    "    def __call__(self, p, q):\n",
    "        raise NotImplementedError(f\"don't know yet how to {self}(p, q).\")\n",
    "        \n",
    "    def flatten(self, p, q):\n",
    "        p = np.array(p).flatten()\n",
    "        q = np.array(q).flatten()\n",
    "        return p - q"
   ]
  },
  {
   "cell_type": "markdown",
   "metadata": {},
   "source": [
    "* Then all the subclasses essentially are one-liners ..."
   ]
  },
  {
   "cell_type": "code",
   "execution_count": 3,
   "metadata": {},
   "outputs": [],
   "source": [
    "class EuclideanDist(Distance):\n",
    "    def __call__(self, p, q):\n",
    "        return np.sqrt(np.sum(self.flatten(p, q)**2))"
   ]
  },
  {
   "cell_type": "code",
   "execution_count": 4,
   "metadata": {},
   "outputs": [
    {
     "data": {
      "text/plain": [
       "5.196152422706632"
      ]
     },
     "execution_count": 4,
     "metadata": {},
     "output_type": "execute_result"
    }
   ],
   "source": [
    "e = EuclideanDist(\"e\")\n",
    "e([1,2,3],[4,5,6])"
   ]
  },
  {
   "cell_type": "code",
   "execution_count": 5,
   "metadata": {},
   "outputs": [],
   "source": [
    "class TaxicabDist(Distance):\n",
    "    def __call__(self, p, q):\n",
    "        return np.sum(np.abs(self.flatten(p, q)))   "
   ]
  },
  {
   "cell_type": "code",
   "execution_count": 6,
   "metadata": {},
   "outputs": [
    {
     "data": {
      "text/plain": [
       "9"
      ]
     },
     "execution_count": 6,
     "metadata": {},
     "output_type": "execute_result"
    }
   ],
   "source": [
    "t = TaxicabDist(\"t\")\n",
    "t([1,2,3],[4,5,6])"
   ]
  },
  {
   "cell_type": "code",
   "execution_count": 7,
   "metadata": {},
   "outputs": [],
   "source": [
    "class InfinityDist(Distance):\n",
    "    def __call__(self, p, q):\n",
    "        return np.max(np.abs(self.flatten(p, q)))   "
   ]
  },
  {
   "cell_type": "code",
   "execution_count": 8,
   "metadata": {},
   "outputs": [
    {
     "data": {
      "text/plain": [
       "3"
      ]
     },
     "execution_count": 8,
     "metadata": {},
     "output_type": "execute_result"
    }
   ],
   "source": [
    "i = InfinityDist(\"i\")\n",
    "i([1,2,3],[4,5,6])"
   ]
  },
  {
   "cell_type": "markdown",
   "metadata": {},
   "source": [
    "## 2. Random Clusters"
   ]
  },
  {
   "cell_type": "code",
   "execution_count": 9,
   "metadata": {},
   "outputs": [],
   "source": [
    "import random"
   ]
  },
  {
   "cell_type": "markdown",
   "metadata": {},
   "source": [
    "* The `random` library has a `normalvariate` method that generates normally distributed data"
   ]
  },
  {
   "cell_type": "code",
   "execution_count": 10,
   "metadata": {},
   "outputs": [],
   "source": [
    "random.normalvariate?"
   ]
  },
  {
   "cell_type": "code",
   "execution_count": 11,
   "metadata": {},
   "outputs": [],
   "source": [
    "values = [random.normalvariate(2, 1) for _ in range(1000)]"
   ]
  },
  {
   "cell_type": "code",
   "execution_count": 12,
   "metadata": {},
   "outputs": [
    {
     "data": {
      "text/plain": [
       "[<matplotlib.lines.Line2D at 0x7f64932c60a0>]"
      ]
     },
     "execution_count": 12,
     "metadata": {},
     "output_type": "execute_result"
    },
    {
     "data": {
      "image/png": "[encoded data removed]",
      "text/plain": [
       "<Figure size 432x288 with 1 Axes>"
      ]
     },
     "metadata": {
      "needs_background": "light"
     },
     "output_type": "display_data"
    }
   ],
   "source": [
    "plt.plot(values, 'r.')"
   ]
  },
  {
   "cell_type": "markdown",
   "metadata": {},
   "source": [
    "* Let's check how much of a bell curve is formed by these random data"
   ]
  },
  {
   "cell_type": "code",
   "execution_count": 13,
   "metadata": {},
   "outputs": [
    {
     "name": "stdout",
     "output_type": "stream",
     "text": [
      "Counter({8: 84, 6: 83, 10: 81, 7: 71, 12: 68, 11: 67, 9: 62, 13: 57, 14: 55, 5: 53, 15: 49, 4: 49, 16: 33, 3: 33, 1: 27, 2: 23, 17: 22, 0: 20, 18: 18, -1: 10, 19: 10, 20: 6, 21: 6, 22: 4, -2: 3, -3: 3, 24: 2, 23: 1})\n"
     ]
    }
   ],
   "source": [
    "from collections import Counter\n",
    "bins = [int(5*x) for x in values]\n",
    "counter = Counter(bins)\n",
    "print(counter)"
   ]
  },
  {
   "cell_type": "code",
   "execution_count": 14,
   "metadata": {},
   "outputs": [
    {
     "data": {
      "text/plain": [
       "[<matplotlib.lines.Line2D at 0x7f6493217ac0>]"
      ]
     },
     "execution_count": 14,
     "metadata": {},
     "output_type": "execute_result"
    },
    {
     "data": {
      "image/png": "[encoded data removed]",
      "text/plain": [
       "<Figure size 432x288 with 1 Axes>"
      ]
     },
     "metadata": {
      "needs_background": "light"
     },
     "output_type": "display_data"
    }
   ],
   "source": [
    "plt.plot(counter.keys(), counter.values(), 'bo')"
   ]
  },
  {
   "cell_type": "markdown",
   "metadata": {},
   "source": [
    "* Now for a $2$-dimensional cluster ..."
   ]
  },
  {
   "cell_type": "code",
   "execution_count": 15,
   "metadata": {},
   "outputs": [
    {
     "data": {
      "text/plain": [
       "[<matplotlib.lines.Line2D at 0x7f64931f4df0>]"
      ]
     },
     "execution_count": 15,
     "metadata": {},
     "output_type": "execute_result"
    },
    {
     "data": {
      "image/png": "[encoded data removed]",
      "text/plain": [
       "<Figure size 432x288 with 1 Axes>"
      ]
     },
     "metadata": {
      "needs_background": "light"
     },
     "output_type": "display_data"
    }
   ],
   "source": [
    "centre = (1,2)\n",
    "count = 100\n",
    "xx = [random.normalvariate(centre[0], 1) for _ in range(count)]\n",
    "yy = [random.normalvariate(centre[1], 1) for _ in range(count)]\n",
    "plt.plot(xx, yy, 'bo')"
   ]
  },
  {
   "cell_type": "code",
   "execution_count": 16,
   "metadata": {},
   "outputs": [],
   "source": [
    "def cluster_points(centre, count, spread):\n",
    "    xx = [random.normalvariate(centre[0], spread) for _ in range(count)]\n",
    "    yy = [random.normalvariate(centre[1], spread) for _ in range(count)]\n",
    "    return xx, yy"
   ]
  },
  {
   "cell_type": "code",
   "execution_count": 17,
   "metadata": {},
   "outputs": [
    {
     "name": "stdout",
     "output_type": "stream",
     "text": [
      "([-0.8063843821634142, 0.8315588209064603, 0.3362290444873822, -1.6580475316003027, -0.006801405517444444, -1.0824251083657934, 1.211953387773982, -0.6769598591818065, 1.4830863146006898, 1.1178018798449756], [-1.8675600394892344, -0.9443763155588863, -0.5364639476726738, -1.2157233874261129, 0.7949174642839627, -0.7417927524083485, -1.3535576663459148, -0.8377916342907049, -1.1591754291460816, -0.3377031301576309])\n"
     ]
    }
   ],
   "source": [
    "pp = cluster_points((0,0), 10, 1)\n",
    "print(pp)"
   ]
  },
  {
   "cell_type": "code",
   "execution_count": 18,
   "metadata": {},
   "outputs": [
    {
     "data": {
      "text/plain": [
       "[<matplotlib.lines.Line2D at 0x7f6493147d30>]"
      ]
     },
     "execution_count": 18,
     "metadata": {},
     "output_type": "execute_result"
    },
    {
     "data": {
      "image/png": "[encoded data removed]",
      "text/plain": [
       "<Figure size 432x288 with 1 Axes>"
      ]
     },
     "metadata": {
      "needs_background": "light"
     },
     "output_type": "display_data"
    }
   ],
   "source": [
    "plt.plot(*pp, 'g*')"
   ]
  },
  {
   "cell_type": "code",
   "execution_count": 19,
   "metadata": {},
   "outputs": [
    {
     "name": "stdout",
     "output_type": "stream",
     "text": [
      "[(0, 0), (0, 1), (0, 2), (0, 3), (1, 0), (1, 1), (1, 2), (1, 3), (2, 0), (2, 1), (2, 2), (2, 3), (3, 0), (3, 1), (3, 2), (3, 3)]\n"
     ]
    }
   ],
   "source": [
    "centres = [(x, y) for x in range(4) for y in range(4)]\n",
    "print(centres)"
   ]
  },
  {
   "cell_type": "code",
   "execution_count": 20,
   "metadata": {},
   "outputs": [
    {
     "data": {
      "text/plain": [
       "[<matplotlib.lines.Line2D at 0x7f64930c34f0>]"
      ]
     },
     "execution_count": 20,
     "metadata": {},
     "output_type": "execute_result"
    },
    {
     "data": {
      "image/png": "[encoded data removed]",
      "text/plain": [
       "<Figure size 432x288 with 1 Axes>"
      ]
     },
     "metadata": {
      "needs_background": "light"
     },
     "output_type": "display_data"
    }
   ],
   "source": [
    "xx = []\n",
    "yy = []\n",
    "for c in centres:\n",
    "    pp = cluster_points(c, 100, 0.2)\n",
    "    xx.extend(pp[0])\n",
    "    yy.extend(pp[1])\n",
    "plt.plot(xx, yy, 'm.')"
   ]
  },
  {
   "cell_type": "code",
   "execution_count": 21,
   "metadata": {},
   "outputs": [],
   "source": [
    "def random_clusters(centres, count, spread):\n",
    "    xx = []\n",
    "    yy = []\n",
    "    for c in centres:\n",
    "        pp = cluster_points(c, count, spread)\n",
    "        xx.extend(pp[0])\n",
    "        yy.extend(pp[1])\n",
    "    return xx, yy"
   ]
  },
  {
   "cell_type": "code",
   "execution_count": 22,
   "metadata": {},
   "outputs": [
    {
     "data": {
      "text/plain": [
       "[<matplotlib.lines.Line2D at 0x7f6493092460>]"
      ]
     },
     "execution_count": 22,
     "metadata": {},
     "output_type": "execute_result"
    },
    {
     "data": {
      "image/png": "[encoded data removed]",
      "text/plain": [
       "<Figure size 432x288 with 1 Axes>"
      ]
     },
     "metadata": {
      "needs_background": "light"
     },
     "output_type": "display_data"
    }
   ],
   "source": [
    "cc = random_clusters(centres, 10, 0.1)\n",
    "plt.plot(*cc, 'g+')"
   ]
  },
  {
   "cell_type": "markdown",
   "metadata": {},
   "source": [
    "## 1. Clustering Algorithm"
   ]
  },
  {
   "cell_type": "code",
   "execution_count": 23,
   "metadata": {},
   "outputs": [
    {
     "data": {
      "text/plain": [
       "[<matplotlib.lines.Line2D at 0x7f6493078880>]"
      ]
     },
     "execution_count": 23,
     "metadata": {},
     "output_type": "execute_result"
    },
    {
     "data": {
      "image/png": "[encoded data removed]",
      "text/plain": [
       "<Figure size 432x288 with 1 Axes>"
      ]
     },
     "metadata": {
      "needs_background": "light"
     },
     "output_type": "display_data"
    }
   ],
   "source": [
    "plt.plot(*cluster_points(centres[0], 10, 0.1 ),'bo')"
   ]
  },
  {
   "cell_type": "markdown",
   "metadata": {},
   "source": [
    "* Sample data from the lectures."
   ]
  },
  {
   "cell_type": "code",
   "execution_count": 24,
   "metadata": {},
   "outputs": [],
   "source": [
    "distances = [\n",
    "    [],\n",
    "    [11],\n",
    "    [10, 3],\n",
    "    [14, 13, 12],\n",
    "    [22, 21, 20, 16],\n",
    "]\n",
    "for j in range(5):\n",
    "    for i in range(j):\n",
    "        distances[i].append(distances[j][i])\n",
    "    distances[j].append(0)\n",
    "distances = np.array(distances, dtype=float)"
   ]
  },
  {
   "cell_type": "code",
   "execution_count": 25,
   "metadata": {},
   "outputs": [
    {
     "data": {
      "text/plain": [
       "array([[ 0., 11., 10., 14., 22.],\n",
       "       [11.,  0.,  3., 13., 21.],\n",
       "       [10.,  3.,  0., 12., 20.],\n",
       "       [14., 13., 12.,  0., 16.],\n",
       "       [22., 21., 20., 16.,  0.]])"
      ]
     },
     "execution_count": 25,
     "metadata": {},
     "output_type": "execute_result"
    }
   ],
   "source": [
    "distances"
   ]
  },
  {
   "cell_type": "markdown",
   "metadata": {},
   "source": [
    "### Find\n",
    "\n",
    "1. the minimal nonzero value\n",
    "2. its $(i,j)$-position"
   ]
  },
  {
   "cell_type": "markdown",
   "metadata": {},
   "source": [
    "* We'll try a 'naive' and straightforward method first"
   ]
  },
  {
   "cell_type": "code",
   "execution_count": 26,
   "metadata": {},
   "outputs": [
    {
     "data": {
      "text/plain": [
       "(5, 5)"
      ]
     },
     "execution_count": 26,
     "metadata": {},
     "output_type": "execute_result"
    }
   ],
   "source": [
    "min_val = 10000\n",
    "min_pos = None\n",
    "r, c = distances.shape\n",
    "r, c"
   ]
  },
  {
   "cell_type": "code",
   "execution_count": 27,
   "metadata": {},
   "outputs": [],
   "source": [
    "for i in range(r):\n",
    "    for j in range(c):\n",
    "        val = distances[i, j]\n",
    "        if val and val < min_val:\n",
    "            min_val = val\n",
    "            min_pos = (i, j)\n",
    "            "
   ]
  },
  {
   "cell_type": "code",
   "execution_count": 28,
   "metadata": {},
   "outputs": [
    {
     "data": {
      "text/plain": [
       "3.0"
      ]
     },
     "execution_count": 28,
     "metadata": {},
     "output_type": "execute_result"
    }
   ],
   "source": [
    "min_val"
   ]
  },
  {
   "cell_type": "code",
   "execution_count": 29,
   "metadata": {},
   "outputs": [
    {
     "data": {
      "text/plain": [
       "(1, 2)"
      ]
     },
     "execution_count": 29,
     "metadata": {},
     "output_type": "execute_result"
    }
   ],
   "source": [
    "min_pos"
   ]
  },
  {
   "cell_type": "markdown",
   "metadata": {},
   "source": [
    "* Next, let's see how Numpy could help\n",
    "* There is a function `np.min`"
   ]
  },
  {
   "cell_type": "code",
   "execution_count": 30,
   "metadata": {},
   "outputs": [],
   "source": [
    "np.min?"
   ]
  },
  {
   "cell_type": "code",
   "execution_count": 31,
   "metadata": {},
   "outputs": [
    {
     "data": {
      "text/plain": [
       "0.0"
      ]
     },
     "execution_count": 31,
     "metadata": {},
     "output_type": "execute_result"
    }
   ],
   "source": [
    "np.min(distances)"
   ]
  },
  {
   "cell_type": "markdown",
   "metadata": {},
   "source": [
    "* Oops. Of course we want a *nonzero* minimum.\n",
    "* Let's try `np.max` instead."
   ]
  },
  {
   "cell_type": "code",
   "execution_count": 32,
   "metadata": {},
   "outputs": [
    {
     "data": {
      "text/plain": [
       "22.0"
      ]
     },
     "execution_count": 32,
     "metadata": {},
     "output_type": "execute_result"
    }
   ],
   "source": [
    "np.max(distances)"
   ]
  },
  {
   "cell_type": "markdown",
   "metadata": {},
   "source": [
    "* That looks right.\n",
    "* But where in the matrixs is it?"
   ]
  },
  {
   "cell_type": "code",
   "execution_count": 33,
   "metadata": {},
   "outputs": [],
   "source": [
    "np.max?"
   ]
  },
  {
   "cell_type": "code",
   "execution_count": 34,
   "metadata": {},
   "outputs": [
    {
     "data": {
      "text/plain": [
       "4"
      ]
     },
     "execution_count": 34,
     "metadata": {},
     "output_type": "execute_result"
    }
   ],
   "source": [
    "np.argmax(distances)"
   ]
  },
  {
   "cell_type": "markdown",
   "metadata": {},
   "source": [
    "* And what is that supposed to mean?"
   ]
  },
  {
   "cell_type": "code",
   "execution_count": 35,
   "metadata": {},
   "outputs": [],
   "source": [
    "np.argmax?"
   ]
  },
  {
   "cell_type": "markdown",
   "metadata": {},
   "source": [
    "* Ah: it's the index in the flattened version of `distances`.\n",
    "* To unravel its position in terms of rows and columns of the original matrix, we're told to use `unravel_index`."
   ]
  },
  {
   "cell_type": "code",
   "execution_count": 36,
   "metadata": {},
   "outputs": [
    {
     "data": {
      "text/plain": [
       "(0, 4)"
      ]
     },
     "execution_count": 36,
     "metadata": {},
     "output_type": "execute_result"
    }
   ],
   "source": [
    "np.unravel_index(np.argmax(distances), distances.shape)"
   ]
  },
  {
   "cell_type": "markdown",
   "metadata": {},
   "source": [
    "* Now for the minimum.\n",
    "* In order to have Numpy ignore $0$s, we apply a trick and turn all $0$ entries into `np.nan`.\n",
    "* The works because Numpy exposes the underlying IEEE 745 [floating point arithmetic](https://en.wikipedia.org/wiki/Floating-point_arithmetic)"
   ]
  },
  {
   "cell_type": "code",
   "execution_count": 37,
   "metadata": {},
   "outputs": [
    {
     "data": {
      "text/plain": [
       "array([[nan, 11., 10., 14., 22.],\n",
       "       [11., nan,  3., 13., 21.],\n",
       "       [10.,  3., nan, 12., 20.],\n",
       "       [14., 13., 12., nan, 16.],\n",
       "       [22., 21., 20., 16., nan]])"
      ]
     },
     "execution_count": 37,
     "metadata": {},
     "output_type": "execute_result"
    }
   ],
   "source": [
    "for i in range(r):\n",
    "    distances[i][i] = np.nan\n",
    "distances"
   ]
  },
  {
   "cell_type": "code",
   "execution_count": 38,
   "metadata": {},
   "outputs": [
    {
     "data": {
      "text/plain": [
       "nan"
      ]
     },
     "execution_count": 38,
     "metadata": {},
     "output_type": "execute_result"
    }
   ],
   "source": [
    "np.min(distances)"
   ]
  },
  {
   "cell_type": "code",
   "execution_count": 39,
   "metadata": {},
   "outputs": [],
   "source": [
    "np.min?"
   ]
  },
  {
   "cell_type": "code",
   "execution_count": 40,
   "metadata": {},
   "outputs": [
    {
     "data": {
      "text/plain": [
       "3.0"
      ]
     },
     "execution_count": 40,
     "metadata": {},
     "output_type": "execute_result"
    }
   ],
   "source": [
    "np.nanmin(distances)"
   ]
  },
  {
   "cell_type": "code",
   "execution_count": 41,
   "metadata": {},
   "outputs": [],
   "source": [
    "np.nanmin?"
   ]
  },
  {
   "cell_type": "code",
   "execution_count": 42,
   "metadata": {},
   "outputs": [
    {
     "data": {
      "text/plain": [
       "7"
      ]
     },
     "execution_count": 42,
     "metadata": {},
     "output_type": "execute_result"
    }
   ],
   "source": [
    "np.nanargmin(distances)"
   ]
  },
  {
   "cell_type": "code",
   "execution_count": 43,
   "metadata": {},
   "outputs": [
    {
     "data": {
      "text/plain": [
       "(1, 2)"
      ]
     },
     "execution_count": 43,
     "metadata": {},
     "output_type": "execute_result"
    }
   ],
   "source": [
    "i, j = np.unravel_index(np.nanargmin(distances), distances.shape)\n",
    "i, j"
   ]
  },
  {
   "cell_type": "code",
   "execution_count": 44,
   "metadata": {},
   "outputs": [
    {
     "data": {
      "text/plain": [
       "array([[11., nan,  3., 13., 21.],\n",
       "       [10.,  3., nan, 12., 20.]])"
      ]
     },
     "execution_count": 44,
     "metadata": {},
     "output_type": "execute_result"
    }
   ],
   "source": [
    "distances[[i,j]]"
   ]
  },
  {
   "cell_type": "code",
   "execution_count": 45,
   "metadata": {},
   "outputs": [],
   "source": [
    "np.delete?"
   ]
  },
  {
   "cell_type": "code",
   "execution_count": 46,
   "metadata": {},
   "outputs": [
    {
     "data": {
      "text/plain": [
       "array([[nan, 14., 22.],\n",
       "       [11., 13., 21.],\n",
       "       [10., 12., 20.],\n",
       "       [14., nan, 16.],\n",
       "       [22., 16., nan]])"
      ]
     },
     "execution_count": 46,
     "metadata": {},
     "output_type": "execute_result"
    }
   ],
   "source": [
    "mat = np.delete(distances, (i,j), axis=1)\n",
    "mat"
   ]
  },
  {
   "cell_type": "code",
   "execution_count": 47,
   "metadata": {},
   "outputs": [
    {
     "data": {
      "text/plain": [
       "array([[11., 13., 21.],\n",
       "       [10., 12., 20.]])"
      ]
     },
     "execution_count": 47,
     "metadata": {},
     "output_type": "execute_result"
    }
   ],
   "source": [
    "mat[[i,j]]"
   ]
  },
  {
   "cell_type": "code",
   "execution_count": 48,
   "metadata": {},
   "outputs": [
    {
     "data": {
      "text/plain": [
       "array([10., 12., 20.])"
      ]
     },
     "execution_count": 48,
     "metadata": {},
     "output_type": "execute_result"
    }
   ],
   "source": [
    "new = np.min(mat[[i,j]], axis=0)\n",
    "new"
   ]
  },
  {
   "cell_type": "code",
   "execution_count": 49,
   "metadata": {},
   "outputs": [
    {
     "data": {
      "text/plain": [
       "array([[nan, 14., 22.],\n",
       "       [14., nan, 16.],\n",
       "       [22., 16., nan]])"
      ]
     },
     "execution_count": 49,
     "metadata": {},
     "output_type": "execute_result"
    }
   ],
   "source": [
    "mat = np.delete(mat, (i,j), axis=0)\n",
    "mat"
   ]
  },
  {
   "cell_type": "code",
   "execution_count": 50,
   "metadata": {},
   "outputs": [
    {
     "data": {
      "text/plain": [
       "array([[nan, 14., 22.],\n",
       "       [14., nan, 16.],\n",
       "       [22., 16., nan],\n",
       "       [10., 12., 20.]])"
      ]
     },
     "execution_count": 50,
     "metadata": {},
     "output_type": "execute_result"
    }
   ],
   "source": [
    "mat = np.append(mat, [new], axis=0)\n",
    "mat"
   ]
  },
  {
   "cell_type": "code",
   "execution_count": 51,
   "metadata": {},
   "outputs": [
    {
     "data": {
      "text/plain": [
       "array([10., 12., 20., nan])"
      ]
     },
     "execution_count": 51,
     "metadata": {},
     "output_type": "execute_result"
    }
   ],
   "source": [
    "new = np.append(new, [np.nan], axis=0)\n",
    "new"
   ]
  },
  {
   "cell_type": "code",
   "execution_count": 52,
   "metadata": {},
   "outputs": [
    {
     "data": {
      "text/plain": [
       "array([[nan, 14., 22., 10.],\n",
       "       [14., nan, 16., 12.],\n",
       "       [22., 16., nan, 20.],\n",
       "       [10., 12., 20., nan]])"
      ]
     },
     "execution_count": 52,
     "metadata": {},
     "output_type": "execute_result"
    }
   ],
   "source": [
    "mat = np.append(mat, new.reshape(-1, 1), axis=1)\n",
    "mat"
   ]
  },
  {
   "cell_type": "markdown",
   "metadata": {},
   "source": [
    "* Collate these operations into a function (assuming that the diagonal values of `distances` are `np.nan`):"
   ]
  },
  {
   "cell_type": "code",
   "execution_count": 53,
   "metadata": {},
   "outputs": [],
   "source": [
    "def collapse(distances):\n",
    "    min_val = np.nanmin(distances)\n",
    "    i, j = np.unravel_index(np.nanargmin(distances), distances.shape)\n",
    "    mat = np.delete(distances, (i,j), axis=1)\n",
    "    new = np.min(mat[[i,j]], axis=0)\n",
    "    mat = np.delete(mat, (i,j), axis=0)\n",
    "    mat = np.append(mat, [new], axis=0)\n",
    "    new = np.append(new, [np.nan], axis=0)\n",
    "    mat = np.append(mat, new.reshape(-1, 1), axis=1)\n",
    "    return min_val, mat"
   ]
  },
  {
   "cell_type": "code",
   "execution_count": 54,
   "metadata": {},
   "outputs": [
    {
     "data": {
      "text/plain": [
       "(3.0,\n",
       " array([[nan, 14., 22., 10.],\n",
       "        [14., nan, 16., 12.],\n",
       "        [22., 16., nan, 20.],\n",
       "        [10., 12., 20., nan]]))"
      ]
     },
     "execution_count": 54,
     "metadata": {},
     "output_type": "execute_result"
    }
   ],
   "source": [
    "collapse(distances)"
   ]
  },
  {
   "cell_type": "code",
   "execution_count": 55,
   "metadata": {},
   "outputs": [],
   "source": [
    "L = [0]\n",
    "mat = distances"
   ]
  },
  {
   "cell_type": "code",
   "execution_count": 56,
   "metadata": {},
   "outputs": [
    {
     "data": {
      "text/plain": [
       "array([[nan, 14., 22., 10.],\n",
       "       [14., nan, 16., 12.],\n",
       "       [22., 16., nan, 20.],\n",
       "       [10., 12., 20., nan]])"
      ]
     },
     "execution_count": 56,
     "metadata": {},
     "output_type": "execute_result"
    }
   ],
   "source": [
    "val, mat = collapse(mat)\n",
    "L.append(val)\n",
    "mat"
   ]
  },
  {
   "cell_type": "code",
   "execution_count": 57,
   "metadata": {},
   "outputs": [
    {
     "data": {
      "text/plain": [
       "array([[nan, 16., 12.],\n",
       "       [16., nan, 20.],\n",
       "       [12., 20., nan]])"
      ]
     },
     "execution_count": 57,
     "metadata": {},
     "output_type": "execute_result"
    }
   ],
   "source": [
    "val, mat = collapse(mat)\n",
    "L.append(val)\n",
    "mat"
   ]
  },
  {
   "cell_type": "code",
   "execution_count": 58,
   "metadata": {},
   "outputs": [
    {
     "data": {
      "text/plain": [
       "array([[nan, 16.],\n",
       "       [16., nan]])"
      ]
     },
     "execution_count": 58,
     "metadata": {},
     "output_type": "execute_result"
    }
   ],
   "source": [
    "val, mat = collapse(mat)\n",
    "L.append(val)\n",
    "mat"
   ]
  },
  {
   "cell_type": "code",
   "execution_count": 59,
   "metadata": {},
   "outputs": [
    {
     "data": {
      "text/plain": [
       "array([[nan]])"
      ]
     },
     "execution_count": 59,
     "metadata": {},
     "output_type": "execute_result"
    }
   ],
   "source": [
    "val, mat = collapse(mat)\n",
    "L.append(val)\n",
    "mat"
   ]
  },
  {
   "cell_type": "code",
   "execution_count": 60,
   "metadata": {},
   "outputs": [
    {
     "data": {
      "text/plain": [
       "[0, 3.0, 10.0, 12.0, 16.0]"
      ]
     },
     "execution_count": 60,
     "metadata": {},
     "output_type": "execute_result"
    }
   ],
   "source": [
    "L"
   ]
  },
  {
   "cell_type": "markdown",
   "metadata": {},
   "source": [
    "### Clustering Algorithm"
   ]
  },
  {
   "cell_type": "code",
   "execution_count": 61,
   "metadata": {},
   "outputs": [],
   "source": [
    "def clustering(distances):\n",
    "    L = [0.0]\n",
    "    mat = distances\n",
    "    while len(mat) > 1:\n",
    "        val, mat = collapse(mat)\n",
    "        L.append(val)\n",
    "    return L"
   ]
  },
  {
   "cell_type": "code",
   "execution_count": 62,
   "metadata": {},
   "outputs": [
    {
     "data": {
      "text/plain": [
       "[0.0, 3.0, 10.0, 12.0, 16.0]"
      ]
     },
     "execution_count": 62,
     "metadata": {},
     "output_type": "execute_result"
    }
   ],
   "source": [
    "clustering(distances)"
   ]
  },
  {
   "cell_type": "markdown",
   "metadata": {},
   "source": [
    "## 3. Distance Matrix"
   ]
  },
  {
   "cell_type": "code",
   "execution_count": 63,
   "metadata": {},
   "outputs": [],
   "source": [
    "def distances(points, dist):\n",
    "    dist = np.array([[dist(x, y) for x in points] for y in points])\n",
    "    for i in range(len(dist)):\n",
    "        dist[i][i] = np.nan\n",
    "    return dist"
   ]
  },
  {
   "cell_type": "code",
   "execution_count": 64,
   "metadata": {},
   "outputs": [
    {
     "data": {
      "text/plain": [
       "e"
      ]
     },
     "execution_count": 64,
     "metadata": {},
     "output_type": "execute_result"
    }
   ],
   "source": [
    "e"
   ]
  },
  {
   "cell_type": "code",
   "execution_count": 65,
   "metadata": {},
   "outputs": [
    {
     "data": {
      "text/plain": [
       "array([ 0.08032858, -0.06067338])"
      ]
     },
     "execution_count": 65,
     "metadata": {},
     "output_type": "execute_result"
    }
   ],
   "source": [
    "points = np.array(cc).T\n",
    "points[0]"
   ]
  },
  {
   "cell_type": "code",
   "execution_count": 66,
   "metadata": {},
   "outputs": [
    {
     "data": {
      "text/plain": [
       "array([[       nan, 0.07543048, 0.15457498, ..., 4.17700045, 4.21328023,\n",
       "        4.17928188],\n",
       "       [0.07543048,        nan, 0.09913462, ..., 4.25237806, 4.28862711,\n",
       "        4.2544072 ],\n",
       "       [0.15457498, 0.09913462,        nan, ..., 4.305636  , 4.34108148,\n",
       "        4.30326771],\n",
       "       ...,\n",
       "       [4.17700045, 4.25237806, 4.305636  , ...,        nan, 0.05459023,\n",
       "        0.22145775],\n",
       "       [4.21328023, 4.28862711, 4.34108148, ..., 0.05459023,        nan,\n",
       "        0.18477044],\n",
       "       [4.17928188, 4.2544072 , 4.30326771, ..., 0.22145775, 0.18477044,\n",
       "               nan]])"
      ]
     },
     "execution_count": 66,
     "metadata": {},
     "output_type": "execute_result"
    }
   ],
   "source": [
    "dd = distances(points, e)\n",
    "dd"
   ]
  },
  {
   "cell_type": "markdown",
   "metadata": {},
   "source": [
    "## 4. Apply (1) to (3)"
   ]
  },
  {
   "cell_type": "code",
   "execution_count": 67,
   "metadata": {},
   "outputs": [
    {
     "name": "stdout",
     "output_type": "stream",
     "text": [
      "[0.0, 0.004670465337157519, 0.007977940846986883, 0.010234715367348391, 0.01166507545587486, 0.011678127122868842, 0.013168023618653815, 0.015885957035014782, 0.018586694406618948, 0.018590693812622017, 0.019707836536727856, 0.022074679762480485, 0.02256473976597319, 0.023035133733303653, 0.023544364512332924, 0.024429282363324843, 0.0283890415534324, 0.029341201529538685, 0.029576686730747904, 0.02977790793116927, 0.03160023748319287, 0.03650907244845774, 0.037542244219455845, 0.037783376052239324, 0.03890008389039178, 0.04065110540956018, 0.04127739921063796, 0.04171638567399876, 0.041996634892595794, 0.042668179855901045, 0.04270934231293517, 0.04302663286114743, 0.043443072799268005, 0.04415533571114621, 0.04499074763699631, 0.046233683557236074, 0.04665384662746331, 0.04733236062218987, 0.047472725209835316, 0.04829290399448806, 0.04862359264629537, 0.04872135573902156, 0.0493890567437687, 0.049609655172611324, 0.0510355270019762, 0.052199401747630846, 0.05304149902663935, 0.05459023008490354, 0.054804260652271126, 0.05483140913551876, 0.05518093669539417, 0.05546987109091618, 0.05582118127924796, 0.055895240357743466, 0.0563990936492348, 0.0573222737245124, 0.057800952920593784, 0.05890392476426344, 0.05919503971336895, 0.05919601800243634, 0.060660653292847755, 0.06149949341445323, 0.06158489945029555, 0.06165337812168426, 0.062142954319447344, 0.06386319440155372, 0.06432029275038809, 0.06456630520389968, 0.06516833717239298, 0.0666963966343832, 0.066754986868459, 0.06856303069542594, 0.07037063882154951, 0.07154672505468708, 0.07262712611758004, 0.07311435014786147, 0.07336922415699977, 0.07377816474463002, 0.07421611290310759, 0.07570163228163704, 0.07683497879544401, 0.07805822095828333, 0.08181039399552449, 0.08189907340529452, 0.08194989773497337, 0.0827065287283634, 0.08362047706403909, 0.08523742431645415, 0.08620957320937273, 0.0864651946370891, 0.0878256547183942, 0.08816018214290426, 0.08878475621690218, 0.08920902639516808, 0.08952166768232504, 0.08985031350053206, 0.09133906255090424, 0.09203076440038285, 0.09553078803719518, 0.09913462171138877, 0.10028372137626194, 0.10049685606201723, 0.1011166281127792, 0.10218428006478984, 0.104722249194538, 0.10595138092516923, 0.10603941844121272, 0.10658860179112353, 0.11191562963756255, 0.11311693885860337, 0.11368110044093056, 0.11466425871974724, 0.1155731453837024, 0.11597901385621812, 0.11712926764042941, 0.11766520499580806, 0.11836546844523892, 0.12047525861396861, 0.12110414771682682, 0.12149709006938549, 0.1247776285919015, 0.12756424088355245, 0.1298127974754882, 0.1311096068432934, 0.1320110790761522, 0.13226024014220686, 0.13362740018636807, 0.13477896887115381, 0.13514197096520525, 0.13587193975421047, 0.13665649691257653, 0.13781350368210266, 0.14301403178050195, 0.14638186651840432, 0.14947331578701548, 0.1523092876261331, 0.15598970811808, 0.15696020311223052, 0.16200507278342738, 0.18864081614330228, 0.19208660974283548, 0.19427075706330965, 0.1969894865690798, 0.19941149790433632, 0.21954052566833326, 0.5372378950210077, 0.6114385995670557, 0.6262386354494553, 0.6374553921049533, 0.6533354594098766, 0.6557336893298376, 0.6575940298278006, 0.6633056844830115, 0.6732182207600687, 0.6861730703661776, 0.7084485630968259, 0.7379877007937932, 0.7400190937425783, 0.7486166987592882, 0.7497996043060532]\n"
     ]
    }
   ],
   "source": [
    "clu = clustering(dd)\n",
    "print(clu)"
   ]
  },
  {
   "cell_type": "markdown",
   "metadata": {},
   "source": [
    "* Barcodes:"
   ]
  },
  {
   "cell_type": "code",
   "execution_count": 68,
   "metadata": {},
   "outputs": [
    {
     "data": {
      "text/plain": [
       "[<matplotlib.lines.Line2D at 0x7f6492ff4f10>]"
      ]
     },
     "execution_count": 68,
     "metadata": {},
     "output_type": "execute_result"
    },
    {
     "data": {
      "image/png": "[encoded data removed]",
      "text/plain": [
       "<Figure size 432x288 with 1 Axes>"
      ]
     },
     "metadata": {
      "needs_background": "light"
     },
     "output_type": "display_data"
    }
   ],
   "source": [
    "plt.plot(clu, range(160), 'r>')"
   ]
  },
  {
   "cell_type": "code",
   "execution_count": 69,
   "metadata": {},
   "outputs": [
    {
     "data": {
      "text/plain": [
       "<BarContainer object of 160 artists>"
      ]
     },
     "execution_count": 69,
     "metadata": {},
     "output_type": "execute_result"
    },
    {
     "data": {
      "image/png": "[encoded data removed]",
      "text/plain": [
       "<Figure size 432x288 with 1 Axes>"
      ]
     },
     "metadata": {
      "needs_background": "light"
     },
     "output_type": "display_data"
    }
   ],
   "source": [
    "plt.bar(range(160), clu)"
   ]
  },
  {
   "cell_type": "code",
   "execution_count": 70,
   "metadata": {},
   "outputs": [
    {
     "data": {
      "text/plain": [
       "0.21954052566833326"
      ]
     },
     "execution_count": 70,
     "metadata": {},
     "output_type": "execute_result"
    }
   ],
   "source": [
    "clu[160 - 16]"
   ]
  },
  {
   "cell_type": "code",
   "execution_count": 71,
   "metadata": {},
   "outputs": [
    {
     "data": {
      "text/plain": [
       "0.5372378950210077"
      ]
     },
     "execution_count": 71,
     "metadata": {},
     "output_type": "execute_result"
    }
   ],
   "source": [
    "clu[160 - 16 + 1]"
   ]
  },
  {
   "cell_type": "code",
   "execution_count": null,
   "metadata": {},
   "outputs": [],
   "source": []
  }
 ],
 "metadata": {
  "kernelspec": {
   "display_name": "Python 3",
   "language": "python",
   "name": "python3"
  },
  "language_info": {
   "codemirror_mode": {
    "name": "ipython",
    "version": 3
   },
   "file_extension": ".py",
   "mimetype": "text/x-python",
   "name": "python",
   "nbconvert_exporter": "python",
   "pygments_lexer": "ipython3",
   "version": "3.8.10"
  }
 },
 "nbformat": 4,
 "nbformat_minor": 1
}
