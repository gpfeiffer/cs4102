{
 "cells": [
  {
   "cell_type": "markdown",
   "metadata": {},
   "source": [
    "### CS4102 - Geometric Foundations of Data Analysis I\n",
    "Prof. Götz Pfeiffer<br />\n",
    "School of Mathematical and Statistical Sciences<br />\n",
    "University of Galway"
   ]
  },
  {
   "cell_type": "markdown",
   "metadata": {},
   "source": [
    "# Week 8"
   ]
  },
  {
   "cell_type": "markdown",
   "metadata": {},
   "source": [
    "##  Special methods"
   ]
  },
  {
   "cell_type": "markdown",
   "metadata": {},
   "source": [
    "* Each python class is aware of certain **special methods**.\n",
    "* In a user defined class, they can be overwritten to support standard behavior for its instances."
   ]
  },
  {
   "cell_type": "markdown",
   "metadata": {},
   "source": [
    "### List-like behavior"
   ]
  },
  {
   "cell_type": "markdown",
   "metadata": {},
   "source": [
    "* For example, here is a class `MyList` of objects that should **behave like lists**.\n",
    "* Each such object stores a position `pos` (in `range(10)`).\n",
    "* It should then behave like the standard basis vector that has all its entries $0$, except for an entry $1$ in position `pos`.\n",
    "* So the special constructor method `__init__` is defined with `pos` as argument, and it stores whatever is passed in the `pos` component of the new object."
   ]
  },
  {
   "cell_type": "code",
   "execution_count": null,
   "metadata": {},
   "outputs": [],
   "source": [
    "class MyList:\n",
    "    def __init__(self, pos):\n",
    "        self.pos = pos"
   ]
  },
  {
   "cell_type": "markdown",
   "metadata": {},
   "source": [
    "* We can now construct such an object and print it."
   ]
  },
  {
   "cell_type": "code",
   "execution_count": null,
   "metadata": {},
   "outputs": [],
   "source": [
    "l = MyList(5)\n",
    "l.pos"
   ]
  },
  {
   "cell_type": "code",
   "execution_count": null,
   "metadata": {},
   "outputs": [],
   "source": [
    "l"
   ]
  },
  {
   "cell_type": "code",
   "execution_count": null,
   "metadata": {},
   "outputs": [],
   "source": [
    "l.__class__.__name__"
   ]
  },
  {
   "cell_type": "markdown",
   "metadata": {},
   "source": [
    "* Wouldn't it be nice if that string representation of a `MyList` object was a bit more informative, like the expression that was used to create it in the first place?\n",
    "* We can arrange that in the special method `__repr__`"
   ]
  },
  {
   "cell_type": "code",
   "execution_count": null,
   "metadata": {},
   "outputs": [],
   "source": [
    "class MyList:\n",
    "    def __init__(self, pos):\n",
    "        self.pos = pos\n",
    "        \n",
    "    def __repr__(self):\n",
    "        return f\"{self.__class__.__name__}({self.pos})\""
   ]
  },
  {
   "cell_type": "code",
   "execution_count": null,
   "metadata": {},
   "outputs": [],
   "source": [
    "l = MyList(4)\n",
    "l"
   ]
  },
  {
   "cell_type": "code",
   "execution_count": null,
   "metadata": {},
   "outputs": [],
   "source": [
    "# len(l)"
   ]
  },
  {
   "cell_type": "markdown",
   "metadata": {},
   "source": [
    "* When the special method `__len__` is implemented, a `MyList` object can respond to a `len` call."
   ]
  },
  {
   "cell_type": "code",
   "execution_count": null,
   "metadata": {},
   "outputs": [],
   "source": [
    "class MyList:\n",
    "    def __init__(self, pos):\n",
    "        self.pos = pos\n",
    "        \n",
    "    def __repr__(self):\n",
    "        return f\"MyList({self.pos})\"\n",
    "    \n",
    "    def __len__(self):\n",
    "        return 10"
   ]
  },
  {
   "cell_type": "code",
   "execution_count": null,
   "metadata": {},
   "outputs": [],
   "source": [
    "l = MyList(6)\n",
    "len(l)"
   ]
  },
  {
   "cell_type": "code",
   "execution_count": null,
   "metadata": {},
   "outputs": [],
   "source": [
    "l.pos"
   ]
  },
  {
   "cell_type": "code",
   "execution_count": null,
   "metadata": {},
   "outputs": [],
   "source": [
    "# l[6]"
   ]
  },
  {
   "cell_type": "markdown",
   "metadata": {},
   "source": [
    "* An implementation of the special method `__getitem__` makes `MyList` objects subscriptable."
   ]
  },
  {
   "cell_type": "code",
   "execution_count": null,
   "metadata": {},
   "outputs": [],
   "source": [
    "class MyList:\n",
    "    def __init__(self, pos):\n",
    "        self.pos = pos\n",
    "        \n",
    "    def __repr__(self):\n",
    "        return f\"MyList({self.pos})\"\n",
    "    \n",
    "    def __len__(self):\n",
    "        return 10\n",
    "    \n",
    "    def __getitem__(self, i):\n",
    "        return 1 if i == self.pos else 0"
   ]
  },
  {
   "cell_type": "code",
   "execution_count": null,
   "metadata": {},
   "outputs": [],
   "source": [
    "l = MyList(8)\n",
    "l[8]"
   ]
  },
  {
   "cell_type": "code",
   "execution_count": null,
   "metadata": {},
   "outputs": [],
   "source": [
    "l[1]"
   ]
  },
  {
   "cell_type": "code",
   "execution_count": null,
   "metadata": {},
   "outputs": [],
   "source": [
    "[l[i] for i in range(len(l))]"
   ]
  },
  {
   "cell_type": "code",
   "execution_count": null,
   "metadata": {},
   "outputs": [],
   "source": [
    "# list(l)"
   ]
  },
  {
   "cell_type": "markdown",
   "metadata": {},
   "source": [
    "* Implementing an iterator ..."
   ]
  },
  {
   "cell_type": "code",
   "execution_count": null,
   "metadata": {},
   "outputs": [],
   "source": [
    "class MyList:\n",
    "    def __init__(self, pos):\n",
    "        self.pos = pos\n",
    "        \n",
    "    def __repr__(self):\n",
    "        return f\"MyList({self.pos})\"\n",
    "    \n",
    "    def __len__(self):\n",
    "        return 10\n",
    "    \n",
    "    def __getitem__(self, i):\n",
    "        #return 1 if i == self.pos else 0\n",
    "        return int(i == self.pos)\n",
    "\n",
    "    def __iter__(self):\n",
    "        return iter(self[i] for i in range(len(self)))\n"
   ]
  },
  {
   "cell_type": "code",
   "execution_count": null,
   "metadata": {},
   "outputs": [],
   "source": [
    "int(False)"
   ]
  },
  {
   "cell_type": "code",
   "execution_count": null,
   "metadata": {},
   "outputs": [],
   "source": [
    "l = MyList(4)\n",
    "l[4]"
   ]
  },
  {
   "cell_type": "code",
   "execution_count": null,
   "metadata": {},
   "outputs": [],
   "source": [
    "l[2]"
   ]
  },
  {
   "cell_type": "code",
   "execution_count": null,
   "metadata": {},
   "outputs": [],
   "source": [
    "list(MyList(3))"
   ]
  },
  {
   "cell_type": "markdown",
   "metadata": {},
   "source": [
    "* But, assignment to positions is not possible.  What should it mean after all ..."
   ]
  },
  {
   "cell_type": "code",
   "execution_count": null,
   "metadata": {},
   "outputs": [],
   "source": [
    "# l[4] = 1"
   ]
  },
  {
   "cell_type": "markdown",
   "metadata": {},
   "source": [
    "### Function like behavior"
   ]
  },
  {
   "cell_type": "markdown",
   "metadata": {},
   "source": [
    "* In a similar way, objects can be taught to act like functions, i.e., be callable.\n",
    "* For this, we implement the special method `__call__`."
   ]
  },
  {
   "cell_type": "markdown",
   "metadata": {},
   "source": [
    "* For example, if we want a `MyList` object to act like the function that takes a numerical argument $c$, and returns the $c$-multiple of the standard basis vector it represents:"
   ]
  },
  {
   "cell_type": "code",
   "execution_count": null,
   "metadata": {},
   "outputs": [],
   "source": [
    "class MyList:\n",
    "    def __init__(self, pos):\n",
    "        self.pos = pos\n",
    "        \n",
    "    def __repr__(self):\n",
    "        return f\"MyList({self.pos})\"\n",
    "    \n",
    "    def __len__(self):\n",
    "        return 10\n",
    "    \n",
    "    def __getitem__(self, i):\n",
    "        return 1 if i == self.pos else 0\n",
    "    \n",
    "    def __iter__(self):\n",
    "        return iter(self[i] for i in range(len(self)))\n",
    "        \n",
    "    def __call__(self, c):\n",
    "        return [c*x for x in self]"
   ]
  },
  {
   "cell_type": "code",
   "execution_count": null,
   "metadata": {},
   "outputs": [],
   "source": [
    "l = MyList(5)\n",
    "l(3)"
   ]
  },
  {
   "cell_type": "code",
   "execution_count": null,
   "metadata": {},
   "outputs": [],
   "source": [
    "MyList(1)(8)"
   ]
  },
  {
   "cell_type": "markdown",
   "metadata": {},
   "source": [
    "## Inheritance"
   ]
  },
  {
   "cell_type": "markdown",
   "metadata": {},
   "source": [
    "* A class can inherit (methods) from another class\n",
    "* Instances of the following class `BetterList` will have all the functionality of `MyList` objects ...\n",
    "* ... and additionally they can assign to positions."
   ]
  },
  {
   "cell_type": "code",
   "execution_count": null,
   "metadata": {},
   "outputs": [],
   "source": [
    "class BetterList(MyList):\n",
    "    def __setitem__(self, i, val):\n",
    "        self.pos = i"
   ]
  },
  {
   "cell_type": "code",
   "execution_count": null,
   "metadata": {},
   "outputs": [],
   "source": [
    "m = BetterList(3)\n",
    "m"
   ]
  },
  {
   "cell_type": "code",
   "execution_count": null,
   "metadata": {},
   "outputs": [],
   "source": [
    "m[0] = 1"
   ]
  },
  {
   "cell_type": "code",
   "execution_count": null,
   "metadata": {},
   "outputs": [],
   "source": [
    "list(m)"
   ]
  },
  {
   "cell_type": "code",
   "execution_count": null,
   "metadata": {},
   "outputs": [],
   "source": [
    "m"
   ]
  },
  {
   "cell_type": "markdown",
   "metadata": {},
   "source": [
    "* To fix the string representation, we can overload the `__repr__` method in `BetterList`.\n",
    "* This change will not affect `MyList` objects."
   ]
  },
  {
   "cell_type": "code",
   "execution_count": null,
   "metadata": {},
   "outputs": [],
   "source": [
    "class BetterList(MyList):\n",
    "    def __setitem__(self, i, val):\n",
    "        self.pos = i\n",
    "\n",
    "    def __repr__(self):\n",
    "        return f\"BetterList({self.pos})\""
   ]
  },
  {
   "cell_type": "code",
   "execution_count": null,
   "metadata": {},
   "outputs": [],
   "source": [
    "m = BetterList(7)\n",
    "m"
   ]
  },
  {
   "cell_type": "code",
   "execution_count": null,
   "metadata": {},
   "outputs": [],
   "source": [
    "l = MyList(7)\n",
    "l"
   ]
  },
  {
   "cell_type": "markdown",
   "metadata": {},
   "source": [
    "## Abstract Classes"
   ]
  },
  {
   "cell_type": "markdown",
   "metadata": {},
   "source": [
    "* Sometimes it can be useful to define an abstract class, i.e., a class that is not meant to be instantiated.\n",
    "* No objects of this type would ever be created.\n",
    "* The class rather serves as a prototype for a collection of (concrete) classes that share some common behaviour."
   ]
  },
  {
   "cell_type": "code",
   "execution_count": null,
   "metadata": {},
   "outputs": [],
   "source": [
    "import os\n",
    "import numpy as np\n",
    "from PIL import Image\n",
    "\n",
    "def read_images(root):\n",
    "    c = 0\n",
    "    X, y = [], []\n",
    "    for folder in next(os.walk(root))[1]:\n",
    "        for name in os.listdir(os.path.join(root, folder)):\n",
    "            path = os.path.join(root, folder, name)\n",
    "            im = Image.open(path)\n",
    "            X.append(np.array(im))\n",
    "            y.append(c)\n",
    "        c += 1\n",
    "    return np.array(X), y\n",
    "\n",
    "root = \"orl_faces\"\n",
    "X, y = read_images(root)\n",
    "X.reshape((X.shape[0], -1))"
   ]
  },
  {
   "cell_type": "markdown",
   "metadata": {},
   "source": [
    "* Here is an example of an abstract class for a yet to be defined collection of different notions of distance.\n",
    "* It consists of a constructor, a string representation, and an implementation of `__call__` that just raises an error."
   ]
  },
  {
   "cell_type": "code",
   "execution_count": null,
   "metadata": {},
   "outputs": [],
   "source": [
    "class Distance:\n",
    "    def __init__(self, name):\n",
    "        self.name = name\n",
    "\n",
    "    def __repr__(self):\n",
    "        return self.name\n",
    "\n",
    "    def __call__(self, p, q):\n",
    "        raise NotImplementedError(f\"don't know yet how to {self}(p, q).\")"
   ]
  },
  {
   "cell_type": "code",
   "execution_count": null,
   "metadata": {},
   "outputs": [],
   "source": [
    "d = Distance(\"d\")\n",
    "d"
   ]
  },
  {
   "cell_type": "code",
   "execution_count": null,
   "metadata": {},
   "outputs": [],
   "source": [
    "# d(1,2)"
   ]
  },
  {
   "cell_type": "markdown",
   "metadata": {},
   "source": [
    "### Euclidean Distance"
   ]
  },
  {
   "cell_type": "markdown",
   "metadata": {},
   "source": [
    "* Eulidean distance between $x$ and $y$ is\n",
    "\\\\[\n",
    " e(x, y) = (\\sum_i (x_i - y_i)^2)^{1/2}\n",
    "\\\\]"
   ]
  },
  {
   "cell_type": "markdown",
   "metadata": {},
   "source": [
    "* To implement this, we could literally take the above `Distance` class as a blueprint, copy and paste most of it and provide a working implementation of `__call__`:"
   ]
  },
  {
   "cell_type": "code",
   "execution_count": null,
   "metadata": {},
   "outputs": [],
   "source": [
    "class EuclideanDist:\n",
    "    def __init__(self, name):\n",
    "        self.name = name\n",
    "\n",
    "    def __repr__(self):\n",
    "        return self.name\n",
    "\n",
    "    def __call__(self,p,q):\n",
    "        p = np.array(p).flatten()\n",
    "        q = np.array(q).flatten()\n",
    "        return np.sqrt(np.sum((p - q)**2))"
   ]
  },
  {
   "cell_type": "markdown",
   "metadata": {},
   "source": [
    "* Then we make an object `e` of this type, name it `\"e\"` so that it prints itself as `e` and the call it with two vectors as arguments."
   ]
  },
  {
   "cell_type": "code",
   "execution_count": null,
   "metadata": {},
   "outputs": [],
   "source": [
    "e = EuclideanDist(\"e\")\n",
    "e"
   ]
  },
  {
   "cell_type": "code",
   "execution_count": null,
   "metadata": {},
   "outputs": [],
   "source": [
    "e([1,2,3], [4,5,6])"
   ]
  },
  {
   "cell_type": "markdown",
   "metadata": {},
   "source": [
    "* Through the clever use of numpy's `flatten` method, we can als measure distance between images from the database imported above.\n",
    "* Images are $2$-dimensional arrays, which can be regarded as $1$-dimensional vectors."
   ]
  },
  {
   "cell_type": "code",
   "execution_count": null,
   "metadata": {},
   "outputs": [],
   "source": [
    "e(X[1], X[2])"
   ]
  },
  {
   "cell_type": "code",
   "execution_count": null,
   "metadata": {},
   "outputs": [],
   "source": [
    "e(X[1], X[21])"
   ]
  },
  {
   "cell_type": "markdown",
   "metadata": {},
   "source": [
    "* But inheritance is more efficient than copy-and-paste.\n",
    "* If we define `EuclideanDist` as subclass of `Distance`, we only need to define the `__call__` method.\n",
    "* `__init__` and `__repr__` are inherited."
   ]
  },
  {
   "cell_type": "code",
   "execution_count": null,
   "metadata": {},
   "outputs": [],
   "source": [
    "class EuclideanDist(Distance):\n",
    "    def __call__(self, p, q):\n",
    "        p = np.array(p).flatten()\n",
    "        q = np.array(q).flatten()\n",
    "        return np.sqrt(np.sum((p - q)**2))"
   ]
  },
  {
   "cell_type": "code",
   "execution_count": null,
   "metadata": {},
   "outputs": [],
   "source": [
    "e = EuclideanDist(\"e\")\n",
    "e"
   ]
  },
  {
   "cell_type": "code",
   "execution_count": null,
   "metadata": {},
   "outputs": [],
   "source": [
    "e([1,2,3], [4,5,6])"
   ]
  },
  {
   "cell_type": "markdown",
   "metadata": {},
   "source": [
    "* The Taxicab distance between vectors $x$ and $y$ is:\n",
    "\\\\[\n",
    "   t(x, y) = \\sum_i |x_i - y_i |\n",
    "\\\\]\n",
    "* Again, this notion of distance can be defined as a subclass of the abstract `Distance` class by simply implementing the formula as part of the `__call__` method."
   ]
  },
  {
   "cell_type": "code",
   "execution_count": null,
   "metadata": {},
   "outputs": [],
   "source": [
    "class TaxicabDist(Distance):\n",
    "    def __call__(self, p, q):\n",
    "        p = np.array(p).flatten()\n",
    "        q = np.array(q).flatten()\n",
    "        return np.sum(np.abs(p - q))   "
   ]
  },
  {
   "cell_type": "markdown",
   "metadata": {},
   "source": [
    "* Now we can make and use an object of this type."
   ]
  },
  {
   "cell_type": "code",
   "execution_count": null,
   "metadata": {},
   "outputs": [],
   "source": [
    "t = TaxicabDist(\"t\")\n",
    "t"
   ]
  },
  {
   "cell_type": "code",
   "execution_count": null,
   "metadata": {},
   "outputs": [],
   "source": [
    "t([1,2,3],[4,5,6])"
   ]
  },
  {
   "cell_type": "code",
   "execution_count": null,
   "metadata": {},
   "outputs": [],
   "source": [
    "t(X[1], X[2])"
   ]
  },
  {
   "cell_type": "code",
   "execution_count": null,
   "metadata": {},
   "outputs": [],
   "source": [
    "t(X[1], X[21])"
   ]
  },
  {
   "cell_type": "markdown",
   "metadata": {},
   "source": [
    "* The Infintity Distance between vectors $x$ and $y$ is:\n",
    "\\\\[\n",
    "  i(x, y) = \\max |x_i - y_i|\n",
    "\\\\]\n",
    "* As a subclass of `Distance`:"
   ]
  },
  {
   "cell_type": "code",
   "execution_count": null,
   "metadata": {},
   "outputs": [],
   "source": [
    "class InfinityDist(Distance):\n",
    "    def __call__(self, p, q):\n",
    "        p = np.array(p).flatten()\n",
    "        q = np.array(q).flatten()\n",
    "        return np.max(np.abs(p - q))   "
   ]
  },
  {
   "cell_type": "code",
   "execution_count": null,
   "metadata": {},
   "outputs": [],
   "source": [
    "i = InfinityDist(\"i\")\n",
    "i"
   ]
  },
  {
   "cell_type": "code",
   "execution_count": null,
   "metadata": {},
   "outputs": [],
   "source": [
    "i([1,2,3],[4,5,6])"
   ]
  },
  {
   "cell_type": "code",
   "execution_count": null,
   "metadata": {},
   "outputs": [],
   "source": [
    "i(X[1], X[2])"
   ]
  },
  {
   "cell_type": "code",
   "execution_count": null,
   "metadata": {},
   "outputs": [],
   "source": [
    "i(X[1], X[21])"
   ]
  },
  {
   "cell_type": "markdown",
   "metadata": {},
   "source": [
    "* Did it say above that an abstract class is the place to put common code?\n",
    "* We could define this collection of classes even more succintly, by defining the operation of flattening the arguments, which is common to all three concrete distance classes, into the abstract class:"
   ]
  },
  {
   "cell_type": "code",
   "execution_count": null,
   "metadata": {},
   "outputs": [],
   "source": [
    "class Distance:\n",
    "    def __init__(self, name):\n",
    "        self.name = name\n",
    "\n",
    "    def __repr__(self):\n",
    "        return self.name\n",
    "\n",
    "    def __call__(self, p, q):\n",
    "        raise NotImplementedError(f\"don't know yet how to {self}(p, q).\")\n",
    "        \n",
    "    def flatten(self, p, q):\n",
    "        p = np.array(p).flatten()\n",
    "        q = np.array(q).flatten()\n",
    "        return p - q"
   ]
  },
  {
   "cell_type": "markdown",
   "metadata": {},
   "source": [
    "* Then all the subclasses essentially are one-liners ..."
   ]
  },
  {
   "cell_type": "code",
   "execution_count": null,
   "metadata": {},
   "outputs": [],
   "source": [
    "class EuclideanDist(Distance):\n",
    "    def __call__(self, p, q):\n",
    "        return np.sqrt(np.sum(self.flatten(p, q)**2))"
   ]
  },
  {
   "cell_type": "code",
   "execution_count": null,
   "metadata": {},
   "outputs": [],
   "source": [
    "e = EuclideanDist(\"e\")\n",
    "e([1,2,3],[4,5,6])"
   ]
  },
  {
   "cell_type": "code",
   "execution_count": null,
   "metadata": {},
   "outputs": [],
   "source": [
    "class TaxicabDist(Distance):\n",
    "    def __call__(self, p, q):\n",
    "        return np.sum(np.abs(self.flatten(p, q)))   "
   ]
  },
  {
   "cell_type": "code",
   "execution_count": null,
   "metadata": {},
   "outputs": [],
   "source": [
    "t = TaxicabDist(\"t\")\n",
    "t([1,2,3],[4,5,6])"
   ]
  },
  {
   "cell_type": "code",
   "execution_count": null,
   "metadata": {},
   "outputs": [],
   "source": [
    "class InfinityDist(Distance):\n",
    "    def __call__(self, p, q):\n",
    "        return np.max(np.abs(self.flatten(p, q)))   "
   ]
  },
  {
   "cell_type": "code",
   "execution_count": null,
   "metadata": {},
   "outputs": [],
   "source": [
    "i = InfinityDist(\"i\")\n",
    "i([1,2,3],[4,5,6])"
   ]
  },
  {
   "cell_type": "code",
   "execution_count": null,
   "metadata": {},
   "outputs": [],
   "source": []
  }
 ],
 "metadata": {
  "kernelspec": {
   "display_name": "Python 3 (ipykernel)",
   "language": "python",
   "name": "python3"
  },
  "language_info": {
   "codemirror_mode": {
    "name": "ipython",
    "version": 3
   },
   "file_extension": ".py",
   "mimetype": "text/x-python",
   "name": "python",
   "nbconvert_exporter": "python",
   "pygments_lexer": "ipython3",
   "version": "3.8.13"
  }
 },
 "nbformat": 4,
 "nbformat_minor": 1
}
