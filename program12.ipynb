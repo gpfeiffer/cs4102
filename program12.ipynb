{
 "cells": [
  {
   "cell_type": "markdown",
   "id": "08330b84",
   "metadata": {},
   "source": [
    "### CS4102 - Geometric Foundations of Data Analysis I\n",
    "Prof. Götz Pfeiffer<br />\n",
    "School of Mathematical and Statistical Sciences<br />\n",
    "University of Galway"
   ]
  },
  {
   "cell_type": "markdown",
   "id": "b8df26b6",
   "metadata": {},
   "source": [
    "# Week 12: Voronoi Cells aka Catchment Areas."
   ]
  },
  {
   "cell_type": "markdown",
   "id": "f4d52b33",
   "metadata": {},
   "source": [
    "* How to construct (plot) the Voronoi diagram of a given set of points in $\\mathbb{R}^2$."
   ]
  },
  {
   "cell_type": "markdown",
   "id": "af8b86d3",
   "metadata": {},
   "source": [
    "![voronoi](https://upload.wikimedia.org/wikipedia/commons/thumb/5/54/Euclidean_Voronoi_diagram.svg/573px-Euclidean_Voronoi_diagram.svg.png)"
   ]
  },
  {
   "cell_type": "code",
   "execution_count": null,
   "id": "7d77a2cc",
   "metadata": {},
   "outputs": [],
   "source": [
    "import matplotlib.pyplot as plt\n",
    "import numpy as np"
   ]
  },
  {
   "cell_type": "markdown",
   "id": "797c8923",
   "metadata": {},
   "source": [
    "###  Bisectors"
   ]
  },
  {
   "cell_type": "markdown",
   "id": "99b55be6",
   "metadata": {},
   "source": [
    "* Here are some points to play with:"
   ]
  },
  {
   "cell_type": "code",
   "execution_count": null,
   "id": "1b86c9c4",
   "metadata": {},
   "outputs": [],
   "source": [
    "pp = np.random.rand(4, 2)\n",
    "pp"
   ]
  },
  {
   "cell_type": "markdown",
   "id": "3ca763b2",
   "metadata": {},
   "source": [
    "* `plot` expects $x$-coordinates, followed by $y$-coordinates.\n",
    "* Thats column $0$ of `pp`, followed by column $1$ ..."
   ]
  },
  {
   "cell_type": "code",
   "execution_count": null,
   "id": "23e3dca1",
   "metadata": {},
   "outputs": [],
   "source": [
    "plt.plot(pp[:,0], pp[:,1], 'ro')"
   ]
  },
  {
   "cell_type": "markdown",
   "id": "d60ea53f",
   "metadata": {},
   "source": [
    "* ... or `pp` transposed and unpacked with the list unpacking operator `*`"
   ]
  },
  {
   "cell_type": "code",
   "execution_count": null,
   "id": "818cc5a6",
   "metadata": {},
   "outputs": [],
   "source": [
    "[*pp.T]"
   ]
  },
  {
   "cell_type": "code",
   "execution_count": null,
   "id": "53690011",
   "metadata": {},
   "outputs": [],
   "source": [
    "plt.plot(*pp.T, 'ro')"
   ]
  },
  {
   "cell_type": "markdown",
   "id": "3821baab",
   "metadata": {},
   "source": [
    "* Let's try and construct (i.e. plot) the bisector of the first two points, $A$ and $B$."
   ]
  },
  {
   "cell_type": "code",
   "execution_count": null,
   "id": "5cd41781",
   "metadata": {},
   "outputs": [],
   "source": [
    "A = pp[0]\n",
    "B = pp[1]\n",
    "A, B"
   ]
  },
  {
   "cell_type": "markdown",
   "id": "f6ebd03e",
   "metadata": {},
   "source": [
    "* The bisector of $A$ and $B$ is the line $\\ell$ through the midpoint $M = \\frac12(A + B)$ with slope $m = -1/m'$, where $m' = \\frac{a_1 - b_1}{a_0 - b_0}$ is the slope of the line through $A = (a_0, a_1)$ and $B = (b_0, b_1)$.\n",
    "* It follows that the equation of $\\ell$ is $y = mx + c$, where $c = m_1 - m\\, m_0$ if $M = (m_0, m_1)$. "
   ]
  },
  {
   "cell_type": "code",
   "execution_count": null,
   "id": "8559f242",
   "metadata": {},
   "outputs": [],
   "source": [
    "M = 1/2 * (A + B)\n",
    "AmB = A - B\n",
    "m = - AmB[0]/AmB[1]\n",
    "m"
   ]
  },
  {
   "cell_type": "code",
   "execution_count": null,
   "id": "9a31befe",
   "metadata": {},
   "outputs": [],
   "source": [
    "c = M[1] - m * M[0]\n",
    "c"
   ]
  },
  {
   "cell_type": "markdown",
   "id": "3f2f0545",
   "metadata": {},
   "source": [
    "* `plot` will produce a line segment if it is given two points as argument.\n",
    "* Here, as $0 \\leq x \\leq 1$, we can plot $\\ell$ as the line connecting the points $(0, y_0)$ and $(1, y_1)$ on $\\ell$.\n",
    "* And since the $x$-values default to $0$ and $1$ anyway, it suffices to supply $y_0 = c$ and $y_1 = m + c$.\n",
    "* (That's quick and dirty rather than sustainable - but for now we don't know yet whether this needs to be sustained ...)"
   ]
  },
  {
   "cell_type": "code",
   "execution_count": null,
   "id": "687381de",
   "metadata": {},
   "outputs": [],
   "source": [
    "ys = np.array([0, m]) + c\n",
    "ys"
   ]
  },
  {
   "cell_type": "code",
   "execution_count": null,
   "id": "b95cc0e2",
   "metadata": {},
   "outputs": [],
   "source": [
    "plt.plot(*pp[:2].T, 'ro')\n",
    "plt.plot(ys)"
   ]
  },
  {
   "cell_type": "markdown",
   "id": "76c2b068",
   "metadata": {},
   "source": [
    "* The line doesn't quite look perpendicular. That's because there are different scales on $x$ and $y$-axes."
   ]
  },
  {
   "cell_type": "code",
   "execution_count": null,
   "id": "1565a047",
   "metadata": {},
   "outputs": [],
   "source": [
    "def bisector(A, B):\n",
    "    M = 1/2 * (A + B)\n",
    "    AmB = (A - B)\n",
    "    m = - AmB[0]/AmB[1]\n",
    "    c = M[1] - m * M[0]\n",
    "    return np.array([0, m]) + c"
   ]
  },
  {
   "cell_type": "code",
   "execution_count": null,
   "id": "14611882",
   "metadata": {},
   "outputs": [],
   "source": [
    "bisector(A, B)"
   ]
  },
  {
   "cell_type": "code",
   "execution_count": null,
   "id": "257d5429",
   "metadata": {},
   "outputs": [],
   "source": [
    "plt.xlim(0,1)\n",
    "plt.ylim(0,1)\n",
    "plt.plot(*np.array([A, B]).T, 'ro')\n",
    "plt.plot(bisector(A, B))"
   ]
  },
  {
   "cell_type": "markdown",
   "id": "6e7ab2c5",
   "metadata": {},
   "source": [
    "* Now, let's plot all the points, and all the bisectors!  How many bisectors are there?"
   ]
  },
  {
   "cell_type": "code",
   "execution_count": null,
   "id": "fdeca33b",
   "metadata": {},
   "outputs": [],
   "source": [
    "plt.xlim(0,1)\n",
    "plt.ylim(0,1)\n",
    "plt.plot(*pp.T, 'ro')\n",
    "for i, A in enumerate(pp):\n",
    "    for j in range(i):\n",
    "        B = pp[j]\n",
    "        plt.plot(bisector(A, B))"
   ]
  },
  {
   "cell_type": "markdown",
   "id": "6f163421",
   "metadata": {},
   "source": [
    "* Very often, three lines seem to intersect in a single point.  That cannot be a coincidence ..."
   ]
  },
  {
   "cell_type": "markdown",
   "id": "05ee589d",
   "metadata": {},
   "source": [
    "### Circumcircle"
   ]
  },
  {
   "cell_type": "markdown",
   "id": "1224b2bb",
   "metadata": {},
   "source": [
    "* A formula for the centre and radius of the circumcircle of (a triangle specified by) three points $A$, $B$, and $C$ can be found on [wikipedia](https://en.wikipedia.org/wiki/Circumscribed_circle#Circumcircle_equations).\n",
    "* Let's look at the first three points in our list `pp`."
   ]
  },
  {
   "cell_type": "code",
   "execution_count": null,
   "id": "a8d3403d",
   "metadata": {},
   "outputs": [],
   "source": [
    "A, B, C = pp[:3]\n",
    "A, B, C"
   ]
  },
  {
   "cell_type": "code",
   "execution_count": null,
   "id": "d57f8119",
   "metadata": {},
   "outputs": [],
   "source": [
    "plt.plot(*(pp[:3].T), 'ro')"
   ]
  },
  {
   "cell_type": "markdown",
   "id": "1f00c081",
   "metadata": {},
   "source": [
    "* Shifting all points by $-A$ (so that $A$ becomes the origin $O = A - A$) simplifies the calculations"
   ]
  },
  {
   "cell_type": "code",
   "execution_count": null,
   "id": "7b096e28",
   "metadata": {},
   "outputs": [],
   "source": [
    "B1 = B - A\n",
    "C1 = C - A\n",
    "B1, C1"
   ]
  },
  {
   "cell_type": "markdown",
   "id": "4feeea06",
   "metadata": {},
   "source": [
    "* We need the squared lengths $b' = \\|B'\\|^2$ and $c' = \\|C'\\|^2$ of the shifted vectors"
   ]
  },
  {
   "cell_type": "code",
   "execution_count": null,
   "id": "aa086a62",
   "metadata": {},
   "outputs": [],
   "source": [
    "b1 = B1 @ B1\n",
    "c1 = C1 @ C1\n",
    "b1, c1"
   ]
  },
  {
   "cell_type": "markdown",
   "id": "153968f9",
   "metadata": {},
   "source": [
    "* A rotation $R$ about $90^{\\circ}$ also plays a role."
   ]
  },
  {
   "cell_type": "code",
   "execution_count": null,
   "id": "596f9781",
   "metadata": {},
   "outputs": [],
   "source": [
    "rot = np.array([[0, -1], [1, 0]])\n",
    "rot"
   ]
  },
  {
   "cell_type": "code",
   "execution_count": null,
   "id": "3ae69160",
   "metadata": {},
   "outputs": [],
   "source": [
    "B1 @ rot"
   ]
  },
  {
   "cell_type": "markdown",
   "id": "cb6b0e68",
   "metadata": {},
   "source": [
    "* Now, the circumcentre of $O$, $A'$ and $B'$ is\n",
    "\\\\[\n",
    "  U' = \\frac1{d'} (b' C' - c' B').R\n",
    "\\\\]\n",
    "where $d' = 2 B'.(C'.R)^T$.\n",
    "* And the radius is simply $r = \\| U' \\|$"
   ]
  },
  {
   "cell_type": "code",
   "execution_count": null,
   "id": "85f9498e",
   "metadata": {},
   "outputs": [],
   "source": [
    "d1 = 2 * np.dot(B1, C1 @ rot)\n",
    "d1"
   ]
  },
  {
   "cell_type": "code",
   "execution_count": null,
   "id": "6950992b",
   "metadata": {},
   "outputs": [],
   "source": [
    "U1 = (b1 * C1 - c1 * B1) @ rot / d1\n",
    "U1"
   ]
  },
  {
   "cell_type": "code",
   "execution_count": null,
   "id": "fbdef16d",
   "metadata": {},
   "outputs": [],
   "source": [
    "r = np.sqrt(U1 @ U1)\n",
    "r"
   ]
  },
  {
   "cell_type": "markdown",
   "id": "6de9a295",
   "metadata": {},
   "source": [
    "* The circumcentre of $A$, $B$ and $C$ lies at $U' + A$."
   ]
  },
  {
   "cell_type": "code",
   "execution_count": null,
   "id": "acfff867",
   "metadata": {},
   "outputs": [],
   "source": [
    "U1 + A"
   ]
  },
  {
   "cell_type": "code",
   "execution_count": null,
   "id": "80a9c813",
   "metadata": {},
   "outputs": [],
   "source": [
    "circle = plt.Circle(U1 + A, r, color= 'm', fill=False, alpha=0.5)\n",
    "plt.plot(*(pp[:3].T), 'ro')\n",
    "plt.gca().add_patch(circle)"
   ]
  },
  {
   "cell_type": "markdown",
   "id": "541c9c51",
   "metadata": {},
   "source": [
    "* Spot on!"
   ]
  },
  {
   "cell_type": "code",
   "execution_count": null,
   "id": "6b964d2e",
   "metadata": {},
   "outputs": [],
   "source": [
    "def circumcircle(A, B, C):\n",
    "    B1, C1 = [B, C] - A\n",
    "    b1 = B1 @ B1\n",
    "    c1 = C1 @ C1\n",
    "    rot = np.array([[0, -1], [1, 0]])  \n",
    "    d1 = 2 * np.dot(B1, C1 @ rot)\n",
    "    \n",
    "    U1 = (b1 * C1 - c1 * B1) @ rot / d1\n",
    "    r = np.sqrt(U1 @ U1)\n",
    "    return U1 + A, r"
   ]
  },
  {
   "cell_type": "code",
   "execution_count": null,
   "id": "21c01821",
   "metadata": {},
   "outputs": [],
   "source": [
    "circumcircle(A, B, C)"
   ]
  },
  {
   "cell_type": "markdown",
   "id": "5518309d",
   "metadata": {},
   "source": [
    "* Let's plot all the points and all their circumcentres. How many circumcentres are there?"
   ]
  },
  {
   "cell_type": "code",
   "execution_count": null,
   "id": "bec91b50",
   "metadata": {},
   "outputs": [],
   "source": [
    "plt.plot(*pp.T, 'ro')\n",
    "circles = []\n",
    "for i, A in enumerate(pp):\n",
    "    for j in range(i):\n",
    "        B = pp[j]\n",
    "        for k in range(j):\n",
    "            C = pp[k]\n",
    "            centre, radius = circumcircle(A, B, C)\n",
    "            circles.append({ \"c\" : centre, \"r\" : radius })\n",
    "            circle = plt.Circle(centre, radius, alpha=0.2)\n",
    "            plt.plot(centre[0], centre[1], 'kx')\n",
    "            plt.gca().add_patch(circle)"
   ]
  },
  {
   "cell_type": "code",
   "execution_count": null,
   "id": "23dbd79d",
   "metadata": {},
   "outputs": [],
   "source": [
    "circles"
   ]
  },
  {
   "cell_type": "markdown",
   "id": "01959fa8",
   "metadata": {},
   "source": [
    "* Theorem 7.4 in the book \"Computational Geometry\" by de Berg et al. says that a point $q$ is a vertex of the Voronoi diagram of a collection $P$ of points in $\\mathbb{R}^2$ if the largest circle $C_P(q)$ with centre $q$ that does not contain any points of $P$ in its interior has at least $3$ points of $P$ on its boundary."
   ]
  },
  {
   "cell_type": "markdown",
   "id": "7ddcfde1",
   "metadata": {},
   "source": [
    "* Let's see, for each circle, how many of the points are inside.\n",
    "* First, focusing on the first circle with centre $C$ and radius $r$, we compute, for each point $A$, the difference between the distance $d(A, C)$ and the radius $r$ (or rather their squares)."
   ]
  },
  {
   "cell_type": "code",
   "execution_count": null,
   "id": "5781fa99",
   "metadata": {},
   "outputs": [],
   "source": [
    "c = circles[2]\n",
    "for p in pp:\n",
    "    d = p - c[\"c\"]\n",
    "    print(d @ d - c[\"r\"]**2)"
   ]
  },
  {
   "cell_type": "markdown",
   "id": "9a2ee9e4",
   "metadata": {},
   "source": [
    "* Hmm.  When working with floating point numbers, 'zero' and 'being equal' are somewhat fuzzy concepts."
   ]
  },
  {
   "cell_type": "code",
   "execution_count": null,
   "id": "04f99469",
   "metadata": {},
   "outputs": [],
   "source": [
    "from math import isclose\n",
    "c = circles[2]\n",
    "for p in pp:\n",
    "    d = p - c[\"c\"]\n",
    "    print(isclose(d @ d, c[\"r\"]**2))"
   ]
  },
  {
   "cell_type": "code",
   "execution_count": null,
   "id": "60f00dca",
   "metadata": {},
   "outputs": [],
   "source": [
    "c = circles[1]\n",
    "for p in pp:\n",
    "    d = p - c[\"c\"]\n",
    "    print(not isclose(d @ d, c[\"r\"]**2) and d @ d < c[\"r\"]**2)"
   ]
  },
  {
   "cell_type": "code",
   "execution_count": null,
   "id": "bb5560b4",
   "metadata": {},
   "outputs": [],
   "source": [
    "plt.xlim(0,1)\n",
    "plt.ylim(0,1)\n",
    "plt.plot(*pp.T, 'ro')\n",
    "circle = plt.Circle(c[\"c\"], c[\"r\"], alpha=0.2)\n",
    "plt.plot(*c[\"c\"], 'kx')\n",
    "plt.gca().add_patch(circle)"
   ]
  },
  {
   "cell_type": "markdown",
   "id": "4db1b9e0",
   "metadata": {},
   "source": [
    "* Let's wrap this up in a function"
   ]
  },
  {
   "cell_type": "code",
   "execution_count": null,
   "id": "d24a0735",
   "metadata": {},
   "outputs": [],
   "source": [
    "def points_in_circle(points, centre, radius):\n",
    "    found = []\n",
    "    for p in points:\n",
    "        d = p - centre\n",
    "        dd = d @ d\n",
    "        rr = radius**2\n",
    "        if not isclose(dd, rr) and dd < rr:\n",
    "            found.append(p)\n",
    "    return found"
   ]
  },
  {
   "cell_type": "code",
   "execution_count": null,
   "id": "e47d6ba7",
   "metadata": {},
   "outputs": [],
   "source": [
    "points_in_circle(pp, circles[0][\"c\"], circles[0][\"r\"])"
   ]
  },
  {
   "cell_type": "code",
   "execution_count": null,
   "id": "764f9db8",
   "metadata": {},
   "outputs": [],
   "source": [
    "points_in_circle(pp, circles[1][\"c\"], circles[1][\"r\"])"
   ]
  },
  {
   "cell_type": "markdown",
   "id": "44b13bde",
   "metadata": {},
   "source": [
    "* Now we can exclude those circumcircles whose interior contains points."
   ]
  },
  {
   "cell_type": "code",
   "execution_count": null,
   "id": "450839b7",
   "metadata": {},
   "outputs": [],
   "source": [
    "plt.plot(*pp.T, 'ro')\n",
    "for i, A in enumerate(pp):\n",
    "    for j in range(i):\n",
    "        B = pp[j]\n",
    "        for k in range(j):\n",
    "            C = pp[k]\n",
    "            centre, radius = circumcircle(A, B, C)\n",
    "            if len(points_in_circle(pp, centre, radius)) == 0:\n",
    "                circle = plt.Circle(centre, radius, alpha=0.2)\n",
    "                plt.plot(centre[0], centre[1], 'kx')\n",
    "                plt.gca().add_patch(circle)"
   ]
  },
  {
   "cell_type": "markdown",
   "id": "04d5a972",
   "metadata": {},
   "source": [
    "* Let's wrap this up as a function"
   ]
  },
  {
   "cell_type": "code",
   "execution_count": null,
   "id": "f070bf6f",
   "metadata": {},
   "outputs": [],
   "source": [
    "def plot_points_and_circles(points):\n",
    "    plt.plot(*points.T, 'ro')\n",
    "    for i, A in enumerate(points):\n",
    "        for j in range(i):\n",
    "            B = points[j]\n",
    "            for k in range(j):\n",
    "                C = points[k]\n",
    "                centre, radius = circumcircle(A, B, C)\n",
    "                if len(points_in_circle(points, centre, radius)) == 0:\n",
    "                    circle = plt.Circle(centre, radius, alpha=0.2)\n",
    "                    plt.plot(centre[0], centre[1], 'kx')\n",
    "                    plt.gca().add_patch(circle)"
   ]
  },
  {
   "cell_type": "code",
   "execution_count": null,
   "id": "f888b169",
   "metadata": {},
   "outputs": [],
   "source": [
    "plt.xlim(1, 0)\n",
    "plt.ylim(1, 0)\n",
    "plot_points_and_circles(pp)"
   ]
  },
  {
   "cell_type": "markdown",
   "id": "976d2990",
   "metadata": {},
   "source": [
    "* Let's try a (slightly) bigger example"
   ]
  },
  {
   "cell_type": "code",
   "execution_count": null,
   "id": "30fccfe1",
   "metadata": {},
   "outputs": [],
   "source": [
    "ppp = np.random.rand(6, 2)\n",
    "ppp"
   ]
  },
  {
   "cell_type": "code",
   "execution_count": null,
   "id": "64ee1885",
   "metadata": {},
   "outputs": [],
   "source": [
    "plot_points_and_circles(ppp)"
   ]
  },
  {
   "cell_type": "markdown",
   "id": "e9e65172",
   "metadata": {},
   "source": [
    "* Theorem 7.4 in \"Computational Geometry\" also says that the bisector of points $A$ and $B$ contributes an edge to the Voronoi diagram if and only if there is a point $q$ on the bisector such that the boundary of $C_P(q)$ contains $A$ and $B$ but no other point from $P$."
   ]
  },
  {
   "cell_type": "markdown",
   "id": "630c560a",
   "metadata": {},
   "source": [
    "* It looks like we want to connect the centres of two circles if they have two of the red points in common.\n",
    "* For this, we need to keep track of what points the circles belong to.\n",
    "* It will be convenient to have a custom class `Circ` to support this kind of information.\n",
    "* Here, we can implement the special function `__and__` in such a way that the \"intersection\" `C1 & C2` (python uses `&` for set intersection) computes the set of points that `C1` and `C2` have in common."
   ]
  },
  {
   "cell_type": "code",
   "execution_count": null,
   "id": "2e00daaf",
   "metadata": {},
   "outputs": [],
   "source": [
    "class Circ:\n",
    "    \"\"\"a class for circles\"\"\"\n",
    "    \n",
    "    def __init__(self, centre, radius, poss):\n",
    "        self.centre = centre\n",
    "        self.radius = radius\n",
    "        self.poss = poss\n",
    "        \n",
    "    def __repr__(self):\n",
    "        return f\"Circ({self.centre}, {self.radius}, {self.poss})\"\n",
    "        \n",
    "    def __and__(self, other):\n",
    "        return self.poss & other.poss"
   ]
  },
  {
   "cell_type": "code",
   "execution_count": null,
   "id": "8b17a419",
   "metadata": {},
   "outputs": [],
   "source": [
    "c0 = Circ((0,0), 1, {1,2,3})\n",
    "c1 = Circ((0,0), 1, {2,3,4})\n",
    "c0 & c1"
   ]
  },
  {
   "cell_type": "code",
   "execution_count": null,
   "id": "f0972757",
   "metadata": {},
   "outputs": [],
   "source": [
    "len(c0 & c1)"
   ]
  },
  {
   "cell_type": "code",
   "execution_count": null,
   "id": "60f27d8d",
   "metadata": {},
   "outputs": [],
   "source": [
    "c0"
   ]
  },
  {
   "cell_type": "markdown",
   "id": "508b8266",
   "metadata": {},
   "source": [
    "* Here's a function that plots 1. all the given point, 2. all eligible circumcircles, 3. the lines connecting centers of circles intersection in two points, and 4. the centers of all eligible circles. "
   ]
  },
  {
   "cell_type": "code",
   "execution_count": null,
   "id": "0bb49525",
   "metadata": {},
   "outputs": [],
   "source": [
    "def plot_points_and_segments(points):\n",
    "    \n",
    "    # 1. points\n",
    "    plt.plot(*points.T, 'ro')\n",
    "\n",
    "    # 2. circles\n",
    "    circles = []\n",
    "    for i, A in enumerate(points):\n",
    "        for j in range(i):\n",
    "            B = points[j]\n",
    "            for k in range(j):\n",
    "                C = points[k]\n",
    "                centre, radius = circumcircle(A, B, C)\n",
    "                if len(points_in_circle(points, centre, radius)) == 0:\n",
    "                    circles.append(Circ(centre, radius, {i, j, k}))\n",
    "                    circle = plt.Circle(centre, radius, alpha=0.2)\n",
    "                    plt.gca().add_patch(circle)\n",
    "\n",
    "    # 3. edges\n",
    "    for i, A in enumerate(circles):\n",
    "        for j in range(i):\n",
    "            B = circles[j]\n",
    "            if len(A & B) == 2:\n",
    "                plt.plot(*np.array([A.centre, B.centre]).T, 'k')\n",
    "\n",
    "    # 4. vertices\n",
    "    for A in circles:\n",
    "        plt.plot(*A.centre, 'y.')\n",
    "\n",
    "    return circles"
   ]
  },
  {
   "cell_type": "markdown",
   "id": "32cee39f",
   "metadata": {},
   "source": [
    "* Test drive:"
   ]
  },
  {
   "cell_type": "code",
   "execution_count": null,
   "id": "59a8b652",
   "metadata": {},
   "outputs": [],
   "source": [
    "plot_points_and_segments(pp)"
   ]
  },
  {
   "cell_type": "code",
   "execution_count": null,
   "id": "8f0c22af",
   "metadata": {},
   "outputs": [],
   "source": [
    "circles = plot_points_and_segments(ppp)"
   ]
  },
  {
   "cell_type": "markdown",
   "id": "e848f716",
   "metadata": {},
   "source": [
    "* And finally, a large example"
   ]
  },
  {
   "cell_type": "code",
   "execution_count": null,
   "id": "49e328d0",
   "metadata": {},
   "outputs": [],
   "source": [
    "pppp = np.random.rand(80, 2)"
   ]
  },
  {
   "cell_type": "code",
   "execution_count": null,
   "id": "5b18f92a",
   "metadata": {},
   "outputs": [],
   "source": [
    "plt.figure(figsize=(12,12))\n",
    "plt.xlim(0,1)\n",
    "plt.ylim(0,1)\n",
    "circles = plot_points_and_segments(pppp)"
   ]
  },
  {
   "cell_type": "markdown",
   "id": "d6a8cace",
   "metadata": {},
   "source": [
    "* This is certainly not the most efficient method. But it's one that I can explain in less then 1 hour."
   ]
  },
  {
   "cell_type": "markdown",
   "id": "9af97c73",
   "metadata": {},
   "source": [
    "## Exercises"
   ]
  },
  {
   "cell_type": "markdown",
   "id": "b4e859c6",
   "metadata": {},
   "source": [
    "1. Find (compute) the missing edges (halflines).\n",
    "2. Implement the above procedure with an abstract notion of distance.\n",
    "3. Compute Voronoi diagrams for the above sets of points using the Taxicab distance."
   ]
  },
  {
   "cell_type": "code",
   "execution_count": null,
   "id": "02d91865",
   "metadata": {},
   "outputs": [],
   "source": []
  }
 ],
 "metadata": {
  "kernelspec": {
   "display_name": "Python 3 (ipykernel)",
   "language": "python",
   "name": "python3"
  },
  "language_info": {
   "codemirror_mode": {
    "name": "ipython",
    "version": 3
   },
   "file_extension": ".py",
   "mimetype": "text/x-python",
   "name": "python",
   "nbconvert_exporter": "python",
   "pygments_lexer": "ipython3",
   "version": "3.8.13"
  }
 },
 "nbformat": 4,
 "nbformat_minor": 5
}
