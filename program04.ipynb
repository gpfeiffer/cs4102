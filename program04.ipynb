{
 "cells": [
  {
   "cell_type": "markdown",
   "metadata": {},
   "source": [
    "### CS4102 - Geometric Foundations of Data Analysis I\n",
    "Prof. Götz Pfeiffer<br />\n",
    "School of Mathematical and Statistical Sciences<br />\n",
    "University of Galway"
   ]
  },
  {
   "cell_type": "markdown",
   "metadata": {},
   "source": [
    "# Week 4"
   ]
  },
  {
   "cell_type": "markdown",
   "metadata": {},
   "source": [
    "## 0. Questions"
   ]
  },
  {
   "cell_type": "markdown",
   "metadata": {},
   "source": [
    "* How to compute the $r^2$ for the skin care example?\n",
    "* How to compute simultaneous interval estimates?\n",
    "* How to create an archive of 3 files?"
   ]
  },
  {
   "cell_type": "markdown",
   "metadata": {},
   "source": [
    "## Archives"
   ]
  },
  {
   "cell_type": "markdown",
   "metadata": {},
   "source": [
    "* zip\n",
    "* tar"
   ]
  },
  {
   "cell_type": "markdown",
   "metadata": {},
   "source": [
    "## Coefficient of Determination: Spare Parts Example"
   ]
  },
  {
   "cell_type": "markdown",
   "metadata": {},
   "source": [
    "* The data are in a CSV file `production.csv`."
   ]
  },
  {
   "cell_type": "code",
   "execution_count": null,
   "metadata": {},
   "outputs": [],
   "source": [
    "%cat production.csv"
   ]
  },
  {
   "cell_type": "markdown",
   "metadata": {},
   "source": [
    "* To actually read the data into the python sessions, we can use the `DictReader` command in the `csv` library,\n",
    "after importing that library"
   ]
  },
  {
   "cell_type": "code",
   "execution_count": null,
   "metadata": {},
   "outputs": [],
   "source": [
    "import csv\n",
    "with open('production.csv') as csvfile:\n",
    "    rows = list(csv.DictReader(csvfile))"
   ]
  },
  {
   "cell_type": "markdown",
   "metadata": {},
   "source": [
    "* Now each item in the list `rows` is a python dictionary with fields `i`, `x`, `y`, corresponding to the headers of the CSV file.  \n",
    "* As python starts counting at $0$, the row for $i = 4$ is the list item at position $3$."
   ]
  },
  {
   "cell_type": "code",
   "execution_count": null,
   "metadata": {},
   "outputs": [],
   "source": [
    "rows[3]"
   ]
  },
  {
   "cell_type": "markdown",
   "metadata": {},
   "source": [
    "* Python's *list comprehension* can be used to store all the `x`-values in a list.  \n",
    "* Note however, that these values are strings and not integers: `'80'` rather than `80`."
   ]
  },
  {
   "cell_type": "code",
   "execution_count": null,
   "metadata": {},
   "outputs": [],
   "source": [
    "[row['x'] for row in rows]"
   ]
  },
  {
   "cell_type": "markdown",
   "metadata": {},
   "source": [
    "* We use the `numpy` package to convert such a list of strings into a list of *floating point values*.\n",
    "* The *keyword argument* `dtype` of the `array` constructor can be used to specify the *data type* that `numpy` should use throughout the array it builds.\n",
    "* $Y$ s simply the list of all $y$-values in the dictionary `rows`."
   ]
  },
  {
   "cell_type": "code",
   "execution_count": null,
   "metadata": {},
   "outputs": [],
   "source": [
    "import numpy as np\n",
    "Y = np.array([row['y'] for row in rows], dtype=float)\n",
    "Y"
   ]
  },
  {
   "cell_type": "markdown",
   "metadata": {},
   "source": [
    "* $X$ should be a matrix, or an $n \\times 2$-array, consisting of rows of the form $[1,x]$, one for each\n",
    "$x$-value in the table."
   ]
  },
  {
   "cell_type": "code",
   "execution_count": null,
   "metadata": {},
   "outputs": [],
   "source": [
    "X = np.array([[1, row['x']] for row in rows], dtype=float)\n",
    "X"
   ]
  },
  {
   "cell_type": "markdown",
   "metadata": {},
   "source": [
    "* Next, we compute the column vector $B$ consisting of the coefficients $b_0$ and $b_1$.  According to the notes,\n",
    "the formula is\n",
    "$$\n",
    "  B = (X^t X)^{-1} X^t Y\n",
    "$$\n",
    "* We first prepare the matrices $X^t X$ and $X^t Y$, using `numpy`'s `@` operator for matrix multiplication\n",
    "(as opposed to `*` which does something different) and the `T` method for the matrix transpose."
   ]
  },
  {
   "cell_type": "code",
   "execution_count": null,
   "metadata": {},
   "outputs": [],
   "source": [
    "XtX = X.T @ X  # T for transpose, @ for matrix multiplication\n",
    "XtY = X.T @ Y\n",
    "print(XtX)"
   ]
  },
  {
   "cell_type": "code",
   "execution_count": null,
   "metadata": {},
   "outputs": [],
   "source": [
    "print(XtY)"
   ]
  },
  {
   "cell_type": "markdown",
   "metadata": {},
   "source": [
    "* Finally, we can use `np.linalg.inv` to invert the matrix `XtX`, and compute $B$ as the matrix product of that inverse and `XtY`."
   ]
  },
  {
   "cell_type": "code",
   "execution_count": null,
   "metadata": {},
   "outputs": [],
   "source": [
    "B = np.linalg.inv(XtX) @ XtY\n",
    "print(B)"
   ]
  },
  {
   "cell_type": "markdown",
   "metadata": {},
   "source": [
    "* Now $B = (b_0, b_1)^t$ represents the least squares fit $y = b_0 + b_1 x$.\n",
    "* We can use it to compute a $y$-value from any given $x$-value.\n",
    "* Note that, with the row vector $(1, x)$, this value is a *matrix product*:\n",
    "$b_0 + b_1 x = (1, x) (b_0, b_1)^t$."
   ]
  },
  {
   "cell_type": "code",
   "execution_count": null,
   "metadata": {},
   "outputs": [],
   "source": [
    "[1, 40] @ B"
   ]
  },
  {
   "cell_type": "markdown",
   "metadata": {},
   "source": [
    "* In particular, we can use $B$ to compute the values $\\hat{y}_i = b_0 + b_1 x_i$, e.g., $\\hat{y}_4 = b_0 + b_1 x_4$, and compare these to the original values $y_i$."
   ]
  },
  {
   "cell_type": "code",
   "execution_count": null,
   "metadata": {},
   "outputs": [],
   "source": [
    "print(X[4] @ B)\n",
    "print(Y[4])"
   ]
  },
  {
   "cell_type": "markdown",
   "metadata": {},
   "source": [
    "* In fact, we can compute the entire matrix $\\hat{Y}$ as a single matrix product ..."
   ]
  },
  {
   "cell_type": "code",
   "execution_count": null,
   "metadata": {},
   "outputs": [],
   "source": [
    "Yhat = X @ B\n",
    "Yhat"
   ]
  },
  {
   "cell_type": "markdown",
   "metadata": {},
   "source": [
    "* ... and then compute the matrix $E$ with entries $e_i = y_i - \\hat{y}_i$ as a difference of two matrices."
   ]
  },
  {
   "cell_type": "code",
   "execution_count": null,
   "metadata": {},
   "outputs": [],
   "source": [
    "E = Y - Yhat\n",
    "E"
   ]
  },
  {
   "cell_type": "markdown",
   "metadata": {},
   "source": [
    "* The *mean* of the $y$-values is the average $\\bar{y} = \\frac1n \\sum y_i$.  That is the sum of all $y$-values, divided by their number."
   ]
  },
  {
   "cell_type": "code",
   "execution_count": null,
   "metadata": {},
   "outputs": [],
   "source": [
    "ybar = sum(Y)/len(Y)\n",
    "ybar"
   ]
  },
  {
   "cell_type": "markdown",
   "metadata": {},
   "source": [
    "* In the notes, the quantities used for the **coefficient of determination** were defined as follows.\n",
    "* $\\mathrm{SSTO} = \\sum (y_i - \\bar{y})^2$\n",
    "* $\\mathrm{SSE} = \\sum (y_i - \\hat{y}_i)^2$\n",
    "* $\\mathrm{SSR} = \\sum (\\hat{y}_i - \\bar{y})^2$"
   ]
  },
  {
   "cell_type": "markdown",
   "metadata": {},
   "source": [
    "* With numpy, we can subtract a number (like `ybar`) from (each entry of) an array by simply computing the difference.  \n",
    "* This gives a column vector $Y - \\bar{y}$ of values $y_i - \\bar{y}$."
   ]
  },
  {
   "cell_type": "code",
   "execution_count": null,
   "metadata": {},
   "outputs": [],
   "source": [
    "Y - ybar"
   ]
  },
  {
   "cell_type": "markdown",
   "metadata": {},
   "source": [
    "* So, SSTO is the sum of the squares of the above numbers.\n",
    "* In numpy, the square of an array is the array consisting of the squares of the original entries. (Read this again!  This is different from the square of a matrix in the matrix multiplication sense!)\n",
    "* And recall that: exponentiation in Python is done with the `**` operator."
   ]
  },
  {
   "cell_type": "code",
   "execution_count": null,
   "metadata": {},
   "outputs": [],
   "source": [
    "(Y - ybar)**2"
   ]
  },
  {
   "cell_type": "markdown",
   "metadata": {},
   "source": [
    "* So, SSTO is the sum of the square of the entries of the column vector $Y - \\bar{y}$."
   ]
  },
  {
   "cell_type": "code",
   "execution_count": null,
   "metadata": {},
   "outputs": [],
   "source": [
    "SSTO = sum((Y - ybar)**2)\n",
    "SSTO"
   ]
  },
  {
   "cell_type": "markdown",
   "metadata": {},
   "source": [
    "* And SSE is the sum of the squares of the entries of the column vector $Y - \\hat{Y}$, which we chose to call $E$ earlier."
   ]
  },
  {
   "cell_type": "code",
   "execution_count": null,
   "metadata": {},
   "outputs": [],
   "source": [
    "SSE = sum(E**2)\n",
    "SSE"
   ]
  },
  {
   "cell_type": "markdown",
   "metadata": {},
   "source": [
    "* And SSR is the sum of the squares of the column vector $\\hat{Y} - \\bar{y}$."
   ]
  },
  {
   "cell_type": "code",
   "execution_count": null,
   "metadata": {},
   "outputs": [],
   "source": [
    "SSR = sum((Yhat - ybar)**2)\n",
    "SSR"
   ]
  },
  {
   "cell_type": "markdown",
   "metadata": {},
   "source": [
    "* And finally, $r^2$ is the quotient of SSR and SSTO."
   ]
  },
  {
   "cell_type": "code",
   "execution_count": null,
   "metadata": {},
   "outputs": [],
   "source": [
    "r2 = SSR/SSTO\n",
    "r2"
   ]
  },
  {
   "cell_type": "markdown",
   "metadata": {},
   "source": [
    "* An $r^2$ value close to $1$ means that the variance in $y$ is quite well explained by regression (in $x$-direction)."
   ]
  },
  {
   "cell_type": "markdown",
   "metadata": {},
   "source": [
    "##  Hypothesis Testing: Skin Care Example"
   ]
  },
  {
   "cell_type": "markdown",
   "metadata": {},
   "source": [
    "* We can apply almost the same  procedure as above, to find the coefficient of determination for the data in the file `cream.csv`.\n",
    "* There is no need to import the packages (`csv` and `numpy`) again."
   ]
  },
  {
   "cell_type": "code",
   "execution_count": null,
   "metadata": {},
   "outputs": [],
   "source": [
    "with open('cream.csv') as csvfile:\n",
    "    rows = list(csv.DictReader(csvfile))"
   ]
  },
  {
   "cell_type": "markdown",
   "metadata": {},
   "source": [
    "* The main difference is that the data file now has one more column of $x$-values."
   ]
  },
  {
   "cell_type": "code",
   "execution_count": null,
   "metadata": {},
   "outputs": [],
   "source": [
    "rows[0]"
   ]
  },
  {
   "cell_type": "markdown",
   "metadata": {},
   "source": [
    "* Still, we can build numpy arrays `X` and `Y`, representing the matrices $X$ and $Y$, in a similar fashion as before."
   ]
  },
  {
   "cell_type": "code",
   "execution_count": null,
   "metadata": {},
   "outputs": [],
   "source": [
    "X = np.array([[1, row['xone'], row['xtwo']] for row in rows], dtype=float)\n",
    "Y = np.array([row['y'] for row in rows], dtype=float)"
   ]
  },
  {
   "cell_type": "markdown",
   "metadata": {},
   "source": [
    "* The matrix formula for computing the coefficients $B = (b_0, b_1, b_2)^t$ of the least squares fit $y = b_0 + b_1 x_1 + b_2 x_2$ is still the same:\n",
    "$$\n",
    "  B = (X^t X)^{-1} X^t Y\n",
    "$$\n",
    "* And so is the sequence of steps used to compute it."
   ]
  },
  {
   "cell_type": "code",
   "execution_count": null,
   "metadata": {},
   "outputs": [],
   "source": [
    "XtX = X.T @ X  # T for transpose, @ for matrix multiplication\n",
    "XtY = X.T @ Y\n",
    "B = np.linalg.inv(XtX) @ XtY\n",
    "print(B)"
   ]
  },
  {
   "cell_type": "markdown",
   "metadata": {},
   "source": [
    "* From this, we compute the quantities SSE, SSR and SSTO as before ..."
   ]
  },
  {
   "cell_type": "code",
   "execution_count": null,
   "metadata": {},
   "outputs": [],
   "source": [
    "Yhat = X @ B\n",
    "E = Y - Yhat\n",
    "ybar = np.mean(Y)\n",
    "SSTO = sum((Y - ybar)**2)\n",
    "SSE = sum(E**2)\n",
    "SSR = sum((Yhat - ybar)**2)\n",
    "print(\"SSR =\", SSR, \", SSE =\", SSE, \", SSTO =\", SSTO)"
   ]
  },
  {
   "cell_type": "markdown",
   "metadata": {},
   "source": [
    "* Finally $r^2 = \\mathrm{SSR}/\\mathrm{SSTO}$"
   ]
  },
  {
   "cell_type": "code",
   "execution_count": null,
   "metadata": {},
   "outputs": [],
   "source": [
    "r2 = SSR/SSTO\n",
    "r2"
   ]
  },
  {
   "cell_type": "markdown",
   "metadata": {},
   "source": [
    "* Next, the F-test requires slightly modified quantities:\n",
    "$$\n",
    "\\mathrm{MSR} = \\frac{\\mathrm{SSR}}{p-1}, \\qquad\n",
    "\\mathrm{MSE} = \\frac{\\mathrm{SSE}}{n-p}, \\qquad\n",
    "F^* = \\frac{\\mathrm{MSR}}{\\mathrm{MSE}}\n",
    "$$\n",
    "* Here, $p = 3$ and $n = 15$.\n",
    "* Let's compute $F^*$!"
   ]
  },
  {
   "cell_type": "code",
   "execution_count": null,
   "metadata": {},
   "outputs": [],
   "source": [
    "n = len(X)\n",
    "p = len(X[0])\n",
    "print(\"n =\", n, \", p =\", p)\n",
    "MSR = SSR/(p-1)\n",
    "MSE = SSE/(n-p)\n",
    "Fstar = MSR/MSE\n",
    "Fstar"
   ]
  },
  {
   "cell_type": "markdown",
   "metadata": {},
   "source": [
    "* Then, assuming that the errors $\\epsilon_i$ are independent $N(0, \\sigma^2)$, we choose a confidence level $\\alpha = 0.05$ and find the value of the $F$-distribution with $p-1$ and $n-p$ degrees of freedom.\n",
    "* This value can be found in a table, online or off-line, or with the help of the `scipy.stats` package"
   ]
  },
  {
   "cell_type": "code",
   "execution_count": null,
   "metadata": {},
   "outputs": [],
   "source": [
    "from scipy.stats import f\n",
    "alpha = 0.05\n",
    "f.pdf(1 - alpha, p-1, n-p)"
   ]
  },
  {
   "cell_type": "markdown",
   "metadata": {},
   "source": [
    "* As this value is clearly smaller than $F^*$, we can reject the null hypothesis $\\mathcal{C}_0$ at level $\\alpha$."
   ]
  },
  {
   "cell_type": "markdown",
   "metadata": {},
   "source": [
    "* In order to quickly check whether the $\\epsilon_i$ are independent and normally distributed, we can plot them (i) against the actual error $\\hat{y}_i$, (ii) against the input data $x_{i1}$, (iii) against the input data $x_{i2}$.\n",
    "* The $x_{i1}$ reside in column $1$ of the array `X`, from where we can extract them as `X[:,1]`, using a *slice* (`:` for all) in the first dimension, and an index (`1` for column $1$) in the second dimension."
   ]
  },
  {
   "cell_type": "code",
   "execution_count": null,
   "metadata": {},
   "outputs": [],
   "source": [
    "X[:,1]"
   ]
  },
  {
   "cell_type": "markdown",
   "metadata": {},
   "source": [
    "* For plotting, we use the `matplotlib.pyplot` package under its nickname `plt`."
   ]
  },
  {
   "cell_type": "code",
   "execution_count": null,
   "metadata": {},
   "outputs": [],
   "source": [
    "import matplotlib.pyplot as plt"
   ]
  },
  {
   "cell_type": "code",
   "execution_count": null,
   "metadata": {},
   "outputs": [],
   "source": [
    "Yhat = X @ B\n",
    "E = Y - Yhat\n",
    "plt.plot(Yhat, E, 'b.')"
   ]
  },
  {
   "cell_type": "code",
   "execution_count": null,
   "metadata": {},
   "outputs": [],
   "source": [
    "plt.plot(X[:,1], E, 'go')"
   ]
  },
  {
   "cell_type": "code",
   "execution_count": null,
   "metadata": {
    "scrolled": true
   },
   "outputs": [],
   "source": [
    "plt.plot(X[:,2], E, 'r+')"
   ]
  },
  {
   "cell_type": "markdown",
   "metadata": {},
   "source": [
    "* The **estimated covariance matrix** for the least squares model \n",
    "$$\n",
    "y_i = \\beta_0 + \\beta_1 x_{i,1} + \\dots + \\beta_{p-1} x_{i,p-1} + \\epsilon_i\n",
    "$$\n",
    "is $S^2(B) = \\mathrm{MSE} (X^t X)^{-1}$."
   ]
  },
  {
   "cell_type": "code",
   "execution_count": null,
   "metadata": {},
   "outputs": [],
   "source": [
    "S2B = MSE * np.linalg.inv(XtX)\n",
    "S2B"
   ]
  },
  {
   "cell_type": "markdown",
   "metadata": {},
   "source": [
    "* Theory says that if $q$ of the $\\beta_k$ are jointly estimated, the confidence intervals\n",
    "with coefficient $1 - \\alpha$ are\n",
    "$$\n",
    "b_k - T \\cdot s(b_k) \\leq \\beta_k \\leq b_k + T \\cdot s(b_k),\n",
    "$$\n",
    "where $T = t(1 - \\frac{\\alpha}{2q}, n - p)$.\n",
    "* The value of the $T$-distribution can be found in a table, online or off-line, or again with the help of the `scipy.stats` package."
   ]
  },
  {
   "cell_type": "code",
   "execution_count": null,
   "metadata": {},
   "outputs": [],
   "source": [
    "from scipy.stats import t\n",
    "q = 2\n",
    "T = t.pdf(1 - alpha/2/q, n - p)\n",
    "T"
   ]
  },
  {
   "cell_type": "markdown",
   "metadata": {},
   "source": [
    "* So, when estimating $\\beta_1$ and $\\beta_2$ jointly, after extracting the values $s(b_k)$ as square roots of the diagonal values of the array `S2B`, we can find the *lower bounds* of the confidence intervals for the $\\beta_k$ as follows."
   ]
  },
  {
   "cell_type": "code",
   "execution_count": null,
   "metadata": {},
   "outputs": [],
   "source": [
    "SB = np.diagonal(S2B)**0.5\n",
    "B - T * SB"
   ]
  },
  {
   "cell_type": "markdown",
   "metadata": {},
   "source": [
    "* And the *upper bound*:"
   ]
  },
  {
   "cell_type": "code",
   "execution_count": null,
   "metadata": {},
   "outputs": [],
   "source": [
    "B + T * SB"
   ]
  },
  {
   "cell_type": "markdown",
   "metadata": {},
   "source": [
    "## Exercises"
   ]
  },
  {
   "cell_type": "markdown",
   "metadata": {},
   "source": [
    "* Find and study the **documentation** for those elements of python in this notebook which are new to you.\n",
    "\n",
    "* Find $r^2$, $F^*$, and the $\\beta_k$ confidence intervals for the least squares straight line fit in the parabola example."
   ]
  },
  {
   "cell_type": "code",
   "execution_count": null,
   "metadata": {},
   "outputs": [],
   "source": []
  }
 ],
 "metadata": {
  "kernelspec": {
   "display_name": "Python 3 (ipykernel)",
   "language": "python",
   "name": "python3"
  },
  "language_info": {
   "codemirror_mode": {
    "name": "ipython",
    "version": 3
   },
   "file_extension": ".py",
   "mimetype": "text/x-python",
   "name": "python",
   "nbconvert_exporter": "python",
   "pygments_lexer": "ipython3",
   "version": "3.8.13"
  }
 },
 "nbformat": 4,
 "nbformat_minor": 1
}
